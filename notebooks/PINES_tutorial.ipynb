{
 "cells": [
  {
   "cell_type": "markdown",
   "metadata": {},
   "source": [
    "<h1 style=\"text-align:center;\">Permutationally Invariant Network for Enhanced Sampling (PINES)</h1>"
   ]
  },
  {
   "cell_type": "markdown",
   "metadata": {},
   "source": [
    "# Introduction\n",
    "Permutationally Invariant Network for Enhanced Sampling (PINES) is a data-driven method for the automatic discovery of high variance collective variables (CVs) and enhanced sampling to obtain free energy landscapes of both single and multi-component molecular systems. It can be conceived as a permutationally invariant extension to the Molecular Enhanced Sampling with Autoencoders (MESA) method. PINES comprises three main components (Fig. 1):\n",
    "\n",
    "1. Permutation Invariant Vector (PIV) featurization (F):  Translationally, rotationally, and permutationally invariant representation of the molecular system.\n",
    "2. Universal function approximators (Autoencoders): Discovery of high-variance CVs {($\\xi_1$, $\\xi_2$, ...)}\n",
    "3. Molecular dynamics (MD) simulations with CV biasing method: An enhanced sampling MD simulation of the system by biasing along the high variance CVs learned by the autoencoders to improve sampling of the system. We use Parallel-Bias Metadynamics (PBMetaD) in this tutorial, but any CV-enhanced sampling technique can be employed for this part.\n",
    "\n",
    "\n",
    "<figure align=\"center\">\n",
    "  <img src=\"./notebook_src/pines1.png\" alt=\"PINES overview\">\n",
    "  <figcaption>Fig. 1:  Overview of PINES for automatic discovery of high-variance CVs and biasing the system using CV-enhanced sampling to overcome the sampling challenges of MD simulations in determining free energy landscapes of both single and multi-molecular systems. (a) We perform MD simulations to sample the phase space of the system. The snapshot shows a representation of a NaCl system configuration in water with Na, Cl, O, and H colored in yellow, green, red, and white, respectively. (b) Representation of the system configurations sampled during MD simulation in Cartesian space, where {x<sub>i</sub>, y<sub>i</sub>, z<sub>i</sub>} represent the x, y, and z positions of atom i in the system. (c) Conversion of the system configurations sampled during MD simulation to a permutationally, rotationally, and translationally invariant representation using PIVs. (d) Learning differentiable and high-variance nonlinear CVs using autoencoders. We use a feed-forward network as a universal function approximator for both the encoder and decoder parts of the autoencoders. (e) Principal component analysis to align the manifold discovered using autoencoders with the highest variance directions. (f) CV enhanced sampling using PBMetaD or termination of PINES upon the convergence of discovered CVs.\n",
    "</figcaption>\n",
    "</figure>\n",
    "\n",
    "In this introductory tutorial, we apply PINES to study the association or dissociation process of a NaCl ion pair in water. This is a classic system, where it is well known that the rearrangement of water molecules in the solvation shell of ions plays a critical role in driving the association or dissociation of NaCl. In other words, enhanced sampling of association or dissociation of Na+ and Cl- ions in water may require explicit biasing along water degrees of freedom. In this tutorial, we show how the permutational invariance built into PINES helps us discover solvent-inclusive high-variance CVs. This is challenging using traditional molecular representational techniques because water molecules are indistinguishable, and therefore their identity should not be embedded in the manifold of the system or the CVs. PINES offers a computationally efficient solution to handle this problem using PIV representation that automatically removes translational, rotational, and permutational variances. Below, we walk through each step of applying PINES to discover high-variance CVs and perform enhanced sampling MD simulations to study the free energy landscape of NaCl association or dissociation in water."
   ]
  },
  {
   "cell_type": "markdown",
   "metadata": {},
   "source": [
    "## Tutorial data directory structure\n",
    "\n",
    "The tutorial's data directory is setup at follows:\n",
    "\n",
    "* `0.Unbiased`: This folder contains the seeding simulations needed for training the autoencoder and tuning the switching function.\n",
    "    * `1_solvate`: Creating the simulation box with 1 NaCl ion solvated in TIP3P water. \n",
    "    * `2_em`: Minimizing the simulation box to relax non-physical structures followed by a short NVT simulation for equilibration.\n",
    "    * `3_md`: An unbiased MD run to seed the autoencoder training.\n",
    "* `1.NN`\n",
    "    * Training the autoencoder using the seeding unbiased simulation data or the biased data from the previous round to find high-variance CVs.\n",
    "* `2.Biased`\n",
    "    * Biased MD run with PBMetaD and the CVs discovered by PINES.\n",
    "* `3.Check_Convergence`\n",
    "    * Check whether the PINES CVs have converged by looking and the latest space dimentionality and cosine similarity of the discovered CVs."
   ]
  },
  {
   "cell_type": "markdown",
   "metadata": {},
   "source": [
    "## Importing neccessary packages"
   ]
  },
  {
   "cell_type": "code",
   "execution_count": 1,
   "metadata": {},
   "outputs": [],
   "source": [
    "import os\n",
    "import subprocess\n",
    "from pathlib import Path\n",
    "import pandas as pd\n",
    "import numpy as np"
   ]
  },
  {
   "cell_type": "markdown",
   "metadata": {},
   "source": [
    "A simple helper class for changing directories"
   ]
  },
  {
   "cell_type": "code",
   "execution_count": null,
   "metadata": {},
   "outputs": [],
   "source": [
    "class cd:\n",
    "    \"\"\"Context manager for changing the current working directory\"\"\"\n",
    "    def __init__(self, newPath):\n",
    "        self.newPath = Path(newPath)\n",
    "    def __enter__(self):\n",
    "        self.savedPath = Path.cwd()\n",
    "        try:\n",
    "            os.chdir(self.newPath)\n",
    "        except:\n",
    "            raise ValueError(\"Path does not exist.\")\n",
    "    def __exit__(self, etype, value, traceback):\n",
    "        os.chdir(self.savedPath)"
   ]
  },
  {
   "cell_type": "markdown",
   "metadata": {},
   "source": [
    "## Setting up path variables"
   ]
  },
  {
   "cell_type": "code",
   "execution_count": null,
   "metadata": {},
   "outputs": [],
   "source": [
    "PLUMED_EXEC = Path(\"\")\n",
    "GMX_EXEC = Path(\"\")\n",
    "BASE_DIR = Path(\"\") # where this notebook is"
   ]
  },
  {
   "cell_type": "markdown",
   "metadata": {},
   "source": [
    "Making sure we start from `BASE_DIR`"
   ]
  },
  {
   "cell_type": "code",
   "execution_count": null,
   "metadata": {},
   "outputs": [],
   "source": [
    "os.chdir(BASE_DIR)"
   ]
  },
  {
   "cell_type": "markdown",
   "metadata": {},
   "source": [
    "# Seeding PINES: Unbiased simulation\n",
    "\n",
    "Before we can start biasing for enhanced sampling, we must train our autoencoder with a short trajectory of our unbiased system. We will solvate a NaCl ion pair in TIP3P water molecules in a cubic box with an edge length of 2.5 nm. We then minimize our simulation box and run a 100 ps NVT equilibration run. We will then use the equilibrated box for a 50 ns NVT production run, which we will use to train our autoencoder.\n",
    "\n",
    "## 1_solvate\n",
    "We will use GROMACS's built-in `solvate` program to create a box of water."
   ]
  },
  {
   "cell_type": "code",
   "execution_count": null,
   "metadata": {},
   "outputs": [],
   "source": [
    "SOLVATE_DIR = BASE_DIR/\"0.Unbiased\"/\"1_solvate\""
   ]
  },
  {
   "cell_type": "code",
   "execution_count": null,
   "metadata": {},
   "outputs": [],
   "source": [
    "subprocess.run(f\"{GMX_EXEC} solvate -cs spc216.gro -box 2.5 -o {SOLVATE_DIR/\"box.gro\"} -p {SOLVATE_DIR/\"topol.top\"}\")\n",
    "subprocess.run(f\"{GMX_EXEC} pdb2gmx -f {SOLVATE_DIR/\"box.gro\"} -o {SOLVATE_DIR/\"box.gro\"} -water tip3p\")"
   ]
  },
  {
   "cell_type": "markdown",
   "metadata": {},
   "source": [
    "Add a single pair of $\\text{Na}^+$ and $\\text{Cl}^+$ ions to the water box with `genion`"
   ]
  },
  {
   "cell_type": "code",
   "execution_count": null,
   "metadata": {},
   "outputs": [],
   "source": [
    "subprocess.run(f\"{GMX_EXEC} grompp -f {SOLVATE_DIR/\"ions.mdp\"} -c {SOLVATE_DIR/\"box.gro\"} -p {SOLVATE_DIR/\"topol.top\"} -o {SOLVATE_DIR/\"ions.tpr\"} -maxwarn 2\")\n",
    "subprocess.run(f\"echo SOL | {GMX_EXEC} genion -s {SOLVATE_DIR/\"ions.tpr\"} -o {SOLVATE_DIR/\"ions.gro\"} -p {SOLVATE_DIR/\"topol.top\"} -pname NA -nname CL -np 1 -nn 1\")"
   ]
  },
  {
   "cell_type": "markdown",
   "metadata": {},
   "source": [
    "## 2_em\n",
    "\n",
    "Minimize the structure of the simulation box we just created to relax non-physical structures."
   ]
  },
  {
   "cell_type": "code",
   "execution_count": null,
   "metadata": {},
   "outputs": [],
   "source": [
    "EM_DIR = BASE_DIR/\"0.Unbiased\"/\"2_em\""
   ]
  },
  {
   "cell_type": "code",
   "execution_count": null,
   "metadata": {},
   "outputs": [],
   "source": [
    "subprocess.run(f\"cp {SOLVATE_DIR/\"ions.gro\"} {SOLVATE_DIR/\"topol.top\"} {EM_DIR/\".\"}\")\n",
    "subprocess.run(f\"{GMX_EXEC} grompp -f {EM_DIR/\"em.mdp\"} -c {EM_DIR/\"ions.gro\"} -p {EM_DIR/\"topol.top\"} -o {EM_DIR/\"em.tpr\"} -maxwarn 3\")\n",
    "with cd(f\"{EM_DIR}\"):\n",
    "    subprocess.run(f\"{GMX_EXEC} mdrun -deffnm em\")"
   ]
  },
  {
   "cell_type": "markdown",
   "metadata": {},
   "source": [
    "100 ps NVT equilibration run"
   ]
  },
  {
   "cell_type": "code",
   "execution_count": null,
   "metadata": {},
   "outputs": [],
   "source": [
    "subprocess.run(f\"{GMX_EXEC} grompp -f {EM_DIR/\"nvt.mdp\"} -c {EM_DIR/\"em.gro\"} -p {EM_DIR/\"topol.top\"} -o {EM_DIR/\"nvt.tpr\"} -maxwarn 3\")\n",
    "with cd(f\"{EM_DIR}\"):\n",
    "    subprocess.run(f\"{GMX_EXEC} mdrun -deffnm nvt\")"
   ]
  },
  {
   "cell_type": "markdown",
   "metadata": {},
   "source": [
    "## 2_md\n",
    "\n",
    "50 ns NVT production run for seeding the autoencoder"
   ]
  },
  {
   "cell_type": "code",
   "execution_count": null,
   "metadata": {},
   "outputs": [],
   "source": [
    "MD_DIR = BASE_DIR/\"0.Unbiased\"/\"3_md\""
   ]
  },
  {
   "cell_type": "code",
   "execution_count": null,
   "metadata": {},
   "outputs": [],
   "source": [
    "subprocess.run(f\"cp {EM_DIR/\"nvt.gro\"} {EM_DIR/\"nvt.cpt\"} {EM_DIR/\"topol.top\"} {MD_DIR/\".\"}\")\n",
    "subprocess.run(f\"{GMX_EXEC} grompp -f {MD_DIR/\"md.mdp\"} -c {MD_DIR/\"nvt.gro\"} -t {MD_DIR/\"nvt.cpt\"} -p {MD_DIR/\"topol.top\"} -o {MD_DIR/\"md.tpr\"} -maxwarn 2\")\n",
    "with cd(f\"{MD_DIR}\"):\n",
    "    subprocess.run(f\"{GMX_EXEC} mdrun -deffnm md\")"
   ]
  },
  {
   "cell_type": "markdown",
   "metadata": {},
   "source": [
    "# 1. Calculating PIVs\n",
    "\n",
    "The PIV featurization is constructed from pairwise distances and is naturally invariant to rigid translation and rotation. To make PIVs permutationally invariant, they are constructed in three steps:"
   ]
  },
  {
   "cell_type": "markdown",
   "metadata": {},
   "source": [
    "1. We calculate an adjacency matrix populated with the Euclidean pairwise distances $a_{ij}$.  The adjacency matrix is then ordered into a block structure where each block contains the pairwise distances of a pair of atom types. For example, for our system with O, H, Na, and Cl atoms, the adjacency matrix can have up to 10 blocks: O-O, O-H, O-Cl, O-Na, H-H, H-Cl, H-Na, Na-Na, Na-Cl, Cl-Cl. Because our goal is to study the Na-Cl ion pair, we will only focus on the groups involving the ion: Na-Cl, Na-O, Na-H, Cl-O, and Cl-H.\n",
    "\n",
    "2. We pass the adjacency matrix through a rational switching function\n",
    "$$V_{ij} = \\frac{1-\\left ( \\frac{a_{ij} - d_0}{r_0} \\right )^n}{1-\\left ( \\frac{a_{ij} - d_0}{r_0} \\right )^m}$$\n",
    "\n",
    "where $d_0$ is the minimum interparticle distance, $r_0$ is the interparticle distance, which is the midpoint of the switching function, and $n$ and $m$ are non-negative numbers controlling the steepness of the switching function. The switching function scales the distances to the (0, 1) interval, where values closer to 1 indicate close pairs, 0 for pairs that are far away, and a switching range that can be controlled to tuned sensitivity to $a_{ij}$ values. These parameters are typically selected from an RDF collected over a short, unbiased trajectory. $r_0$ is chosen to be the mean of the first and second peaks of the solvation shell from the RDF. $n$ is tuned so that the $v_{ij}$ value for the pairwise distance at the first peak is close to 0.9, and the $v_{ij}$ value for the pairwise distance at the second peak is close to 0.1. For our system, $d_0$ is set to 0 and $m=2n$.\n",
    "\n",
    "3. We sort $v_{ij}$ s in each block of the switched adjacency matrix and concatenate them into a single vector to produce the PIV. This step is the critical step in forming a permutationally invariant vector.\n",
    "\n",
    "<figure align=\"center\">\n",
    "  <img src=\"./notebook_src/pines2.png\" alt=\"PIV calculation\">\n",
    "  <figcaption>Fig. 2:  Overview of the PIV calculation procedure. (a) The MD trajectory is used to calculate the adjacency matrix. (b) We calculate the adjacency matrix for all atoms and order in blocks of atom type pairs. (c) We pass the adjacency matrix through a switching function to get values between (0, 1) and highlight the importance of the closest solvation shells. (d) The switching function values are vectorized and sorted per atom type block to enforce permutational invariance.\n",
    "</figcaption>\n",
    "</figure>"
   ]
  },
  {
   "cell_type": "markdown",
   "metadata": {},
   "source": [
    "## 1.1 PLUMED input file\n",
    "\n",
    "We use the `PIV` module in `PLUMED` to calculate the PIV values"
   ]
  },
  {
   "cell_type": "code",
   "execution_count": null,
   "metadata": {},
   "outputs": [],
   "source": [
    "PIV_DIR = BASE_DIR/\"0.Unbiased\"/\"4_calcPIV\""
   ]
  },
  {
   "cell_type": "code",
   "execution_count": null,
   "metadata": {},
   "outputs": [],
   "source": [
    "PLUMED_PIV = \"\"\"\n",
    "PIV ...\n",
    "LABEL=piv\n",
    "PRECISION=10000\n",
    "NLIST\n",
    "ONLYCROSS\n",
    "REF_FILE=nvt.pdb\n",
    "PIVATOMS=5\n",
    "ATOMTYPES=NA,CL,OW,HW1,HW2\n",
    "SFACTOR=1.0,1.0,1.0,1.0,1.0\n",
    "SORT=1.0,1.0,1.0,1.0,1.0\n",
    "SWITCH1={RATIONAL R_0=0.38 MM=12 NN=6}\n",
    "SWITCH2={RATIONAL R_0=0.35 MM=12 NN=6}\n",
    "SWITCH3={RATIONAL R_0=0.41 MM=12 NN=6}\n",
    "SWITCH4={RATIONAL R_0=0.40 MM=12 NN=6}\n",
    "SWITCH5={RATIONAL R_0=0.28 MM=12 NN=6}\n",
    "NL_CUTOFF=5.0,1.5,1.5,1.5,1.5\n",
    "NL_STRIDE=1.0,1.0,1.0,1.0,1.0\n",
    "NL_SKIN=0.1,0.1,0.1,0.1,0.1\n",
    "PIVREP\n",
    "NL_CONSTANT_SIZE=15\n",
    "WRITEPIVTRAJ\n",
    "WRITEPIVSTRIDE=100000000\n",
    "WRITEANNSTRIDE=100000000\n",
    "... PIV\n",
    "\n",
    "PRINT ARG=piv.* FILE=colvar STRIDE=1\n",
    "\"\"\""
   ]
  },
  {
   "cell_type": "markdown",
   "metadata": {},
   "source": [
    "# DESCRIBE THE PARAMETERS AND REPLACE SOME OF THEM WITH `__FILL__` TO MAKE IT AN EXCERCISE"
   ]
  },
  {
   "cell_type": "markdown",
   "metadata": {},
   "source": [
    "## 1.2 Run PLUMED to get PIVs"
   ]
  },
  {
   "cell_type": "code",
   "execution_count": null,
   "metadata": {},
   "outputs": [],
   "source": [
    "# call plumed driver on the trajectory to get the PIVs\n",
    "subprocess.run(f\"{PLUMED_EXEC} driver --plumed plumed_calcPIV.dat --mf_xtc {MD_DIR/\"md.xtc\"} >& out.out\")"
   ]
  },
  {
   "cell_type": "markdown",
   "metadata": {},
   "source": [
    "Read in the PLUMED outputs, clean up, and save as a numpy array"
   ]
  },
  {
   "cell_type": "code",
   "execution_count": 18,
   "metadata": {},
   "outputs": [
    {
     "data": {
      "text/html": [
       "<div>\n",
       "<style scoped>\n",
       "    .dataframe tbody tr th:only-of-type {\n",
       "        vertical-align: middle;\n",
       "    }\n",
       "\n",
       "    .dataframe tbody tr th {\n",
       "        vertical-align: top;\n",
       "    }\n",
       "\n",
       "    .dataframe thead th {\n",
       "        text-align: right;\n",
       "    }\n",
       "</style>\n",
       "<table border=\"1\" class=\"dataframe\">\n",
       "  <thead>\n",
       "    <tr style=\"text-align: right;\">\n",
       "      <th></th>\n",
       "      <th>1</th>\n",
       "      <th>2</th>\n",
       "      <th>3</th>\n",
       "      <th>4</th>\n",
       "      <th>5</th>\n",
       "      <th>6</th>\n",
       "      <th>7</th>\n",
       "      <th>8</th>\n",
       "      <th>9</th>\n",
       "      <th>10</th>\n",
       "      <th>...</th>\n",
       "      <th>82</th>\n",
       "      <th>83</th>\n",
       "      <th>84</th>\n",
       "      <th>85</th>\n",
       "      <th>86</th>\n",
       "      <th>87</th>\n",
       "      <th>88</th>\n",
       "      <th>89</th>\n",
       "      <th>90</th>\n",
       "      <th>91</th>\n",
       "    </tr>\n",
       "  </thead>\n",
       "  <tbody>\n",
       "    <tr>\n",
       "      <th>0</th>\n",
       "      <td>0.0037</td>\n",
       "      <td>0.129213</td>\n",
       "      <td>0.130113</td>\n",
       "      <td>0.146315</td>\n",
       "      <td>0.151515</td>\n",
       "      <td>0.207921</td>\n",
       "      <td>0.260126</td>\n",
       "      <td>0.267627</td>\n",
       "      <td>0.314331</td>\n",
       "      <td>0.329133</td>\n",
       "      <td>...</td>\n",
       "      <td>0.245825</td>\n",
       "      <td>0.257626</td>\n",
       "      <td>0.310131</td>\n",
       "      <td>0.327633</td>\n",
       "      <td>0.633063</td>\n",
       "      <td>0.647765</td>\n",
       "      <td>0.701370</td>\n",
       "      <td>0.799180</td>\n",
       "      <td>0.831083</td>\n",
       "      <td>0.867087</td>\n",
       "    </tr>\n",
       "    <tr>\n",
       "      <th>1</th>\n",
       "      <td>0.0014</td>\n",
       "      <td>0.174917</td>\n",
       "      <td>0.175718</td>\n",
       "      <td>0.212721</td>\n",
       "      <td>0.212921</td>\n",
       "      <td>0.216122</td>\n",
       "      <td>0.261826</td>\n",
       "      <td>0.265627</td>\n",
       "      <td>0.299430</td>\n",
       "      <td>0.479148</td>\n",
       "      <td>...</td>\n",
       "      <td>0.261326</td>\n",
       "      <td>0.261326</td>\n",
       "      <td>0.415842</td>\n",
       "      <td>0.533753</td>\n",
       "      <td>0.660166</td>\n",
       "      <td>0.741174</td>\n",
       "      <td>0.750075</td>\n",
       "      <td>0.782878</td>\n",
       "      <td>0.832083</td>\n",
       "      <td>0.844984</td>\n",
       "    </tr>\n",
       "    <tr>\n",
       "      <th>2</th>\n",
       "      <td>0.0011</td>\n",
       "      <td>0.141614</td>\n",
       "      <td>0.156616</td>\n",
       "      <td>0.159616</td>\n",
       "      <td>0.184018</td>\n",
       "      <td>0.251025</td>\n",
       "      <td>0.255626</td>\n",
       "      <td>0.263726</td>\n",
       "      <td>0.267027</td>\n",
       "      <td>0.270827</td>\n",
       "      <td>...</td>\n",
       "      <td>0.178718</td>\n",
       "      <td>0.320332</td>\n",
       "      <td>0.417242</td>\n",
       "      <td>0.455646</td>\n",
       "      <td>0.670067</td>\n",
       "      <td>0.684468</td>\n",
       "      <td>0.686969</td>\n",
       "      <td>0.711871</td>\n",
       "      <td>0.764876</td>\n",
       "      <td>0.790679</td>\n",
       "    </tr>\n",
       "    <tr>\n",
       "      <th>3</th>\n",
       "      <td>0.0007</td>\n",
       "      <td>0.131913</td>\n",
       "      <td>0.147815</td>\n",
       "      <td>0.179918</td>\n",
       "      <td>0.194819</td>\n",
       "      <td>0.207821</td>\n",
       "      <td>0.227323</td>\n",
       "      <td>0.256126</td>\n",
       "      <td>0.265127</td>\n",
       "      <td>0.301130</td>\n",
       "      <td>...</td>\n",
       "      <td>0.278128</td>\n",
       "      <td>0.294129</td>\n",
       "      <td>0.346835</td>\n",
       "      <td>0.365537</td>\n",
       "      <td>0.706871</td>\n",
       "      <td>0.743074</td>\n",
       "      <td>0.816182</td>\n",
       "      <td>0.852185</td>\n",
       "      <td>0.864786</td>\n",
       "      <td>0.865387</td>\n",
       "    </tr>\n",
       "    <tr>\n",
       "      <th>4</th>\n",
       "      <td>0.0008</td>\n",
       "      <td>0.162216</td>\n",
       "      <td>0.164016</td>\n",
       "      <td>0.174717</td>\n",
       "      <td>0.192619</td>\n",
       "      <td>0.196420</td>\n",
       "      <td>0.222322</td>\n",
       "      <td>0.229223</td>\n",
       "      <td>0.362136</td>\n",
       "      <td>0.378238</td>\n",
       "      <td>...</td>\n",
       "      <td>0.234123</td>\n",
       "      <td>0.255426</td>\n",
       "      <td>0.326333</td>\n",
       "      <td>0.626963</td>\n",
       "      <td>0.766377</td>\n",
       "      <td>0.781078</td>\n",
       "      <td>0.819882</td>\n",
       "      <td>0.821982</td>\n",
       "      <td>0.860986</td>\n",
       "      <td>0.869487</td>\n",
       "    </tr>\n",
       "  </tbody>\n",
       "</table>\n",
       "<p>5 rows × 91 columns</p>\n",
       "</div>"
      ],
      "text/plain": [
       "       1         2         3         4         5         6         7   \\\n",
       "0  0.0037  0.129213  0.130113  0.146315  0.151515  0.207921  0.260126   \n",
       "1  0.0014  0.174917  0.175718  0.212721  0.212921  0.216122  0.261826   \n",
       "2  0.0011  0.141614  0.156616  0.159616  0.184018  0.251025  0.255626   \n",
       "3  0.0007  0.131913  0.147815  0.179918  0.194819  0.207821  0.227323   \n",
       "4  0.0008  0.162216  0.164016  0.174717  0.192619  0.196420  0.222322   \n",
       "\n",
       "         8         9         10  ...        82        83        84        85  \\\n",
       "0  0.267627  0.314331  0.329133  ...  0.245825  0.257626  0.310131  0.327633   \n",
       "1  0.265627  0.299430  0.479148  ...  0.261326  0.261326  0.415842  0.533753   \n",
       "2  0.263726  0.267027  0.270827  ...  0.178718  0.320332  0.417242  0.455646   \n",
       "3  0.256126  0.265127  0.301130  ...  0.278128  0.294129  0.346835  0.365537   \n",
       "4  0.229223  0.362136  0.378238  ...  0.234123  0.255426  0.326333  0.626963   \n",
       "\n",
       "         86        87        88        89        90        91  \n",
       "0  0.633063  0.647765  0.701370  0.799180  0.831083  0.867087  \n",
       "1  0.660166  0.741174  0.750075  0.782878  0.832083  0.844984  \n",
       "2  0.670067  0.684468  0.686969  0.711871  0.764876  0.790679  \n",
       "3  0.706871  0.743074  0.816182  0.852185  0.864786  0.865387  \n",
       "4  0.766377  0.781078  0.819882  0.821982  0.860986  0.869487  \n",
       "\n",
       "[5 rows x 91 columns]"
      ]
     },
     "execution_count": 18,
     "metadata": {},
     "output_type": "execute_result"
    }
   ],
   "source": [
    "# load the colvar file as a pandas dataframe\n",
    "PIVs = pd.read_csv(f\"{PIV_DIR}/out.out\", sep='\\s+', header=None, skiprows=1)\n",
    "# drop the time column\n",
    "PIVs.drop([0], axis=1, inplace=True)\n",
    "# view the result\n",
    "PIVs.head(5)"
   ]
  },
  {
   "cell_type": "markdown",
   "metadata": {},
   "source": [
    "Save the pandas dataframe as a numpy matrix"
   ]
  },
  {
   "cell_type": "code",
   "execution_count": null,
   "metadata": {},
   "outputs": [],
   "source": [
    "np.save(\"./PIVs.npy\", PIVs.to_numpy(float))"
   ]
  },
  {
   "cell_type": "markdown",
   "metadata": {},
   "source": [
    "# 2. Training the neural network on the initial data"
   ]
  },
  {
   "cell_type": "markdown",
   "metadata": {},
   "source": [
    "## 2.1 load the model"
   ]
  },
  {
   "cell_type": "code",
   "execution_count": null,
   "metadata": {},
   "outputs": [],
   "source": [
    "pass"
   ]
  },
  {
   "cell_type": "markdown",
   "metadata": {},
   "source": [
    "## 2.2 Pass the calculated PIVs as training data"
   ]
  },
  {
   "cell_type": "code",
   "execution_count": null,
   "metadata": {},
   "outputs": [],
   "source": [
    "pass"
   ]
  },
  {
   "cell_type": "markdown",
   "metadata": {},
   "source": [
    "## 2.3 Model design and validation"
   ]
  },
  {
   "cell_type": "markdown",
   "metadata": {},
   "source": [
    "[include elbow plots for the number of hiddens nodes]"
   ]
  },
  {
   "cell_type": "markdown",
   "metadata": {},
   "source": [
    "## 2.4 Output model weights for PLUMED"
   ]
  },
  {
   "cell_type": "markdown",
   "metadata": {},
   "source": [
    "[describe what's happening]"
   ]
  },
  {
   "cell_type": "code",
   "execution_count": null,
   "metadata": {},
   "outputs": [],
   "source": [
    "pass"
   ]
  },
  {
   "cell_type": "markdown",
   "metadata": {},
   "source": [
    "# 3. Bias the simulation with PINES in PLUMED"
   ]
  },
  {
   "cell_type": "markdown",
   "metadata": {},
   "source": [
    "[Describe what we are doing]"
   ]
  },
  {
   "cell_type": "markdown",
   "metadata": {},
   "source": [
    "## 3.1 load the model weights"
   ]
  },
  {
   "cell_type": "code",
   "execution_count": 19,
   "metadata": {},
   "outputs": [],
   "source": [
    "# load the wieghts and create a string to be replaced in the PLUMED input\n",
    "pass # DO STUFF TO GET THE WEIGHTS\n",
    "ANN_WEIGHTS=f\"\"\"\n",
    "WEIGHTS0={}\n",
    "WEIGHTS1={}\n",
    "WEIGHTS2={}\n",
    "WEIGHTS3={}\n",
    "WEIGHTS4={}\n",
    "BIASES0={}\n",
    "BIASES1={}\n",
    "BIASES2={}\n",
    "BIASES3={}\n",
    "BIASES4={}\n",
    "GAMMAS0={}\n",
    "GAMMAS1={}\n",
    "GAMMAS2={}\n",
    "GAMMAS3={}\n",
    "BETAS0={}\n",
    "BETAS1={}\n",
    "BETAS2={}\n",
    "BETAS3={}\n",
    "EXPECTATIONS0={}\n",
    "EXPECTATIONS1={}\n",
    "EXPECTATIONS2={}\n",
    "EXPECTATIONS3={}\n",
    "VARIANCES0={}\n",
    "VARIANCES1={}\n",
    "VARIANCES2={}\n",
    "VARIANCES3={}\n",
    "\"\"\""
   ]
  },
  {
   "cell_type": "markdown",
   "metadata": {},
   "source": [
    "## 3.2 PINES PLUMED input file"
   ]
  },
  {
   "cell_type": "markdown",
   "metadata": {},
   "source": [
    "[Describe what's happening]"
   ]
  },
  {
   "cell_type": "code",
   "execution_count": null,
   "metadata": {},
   "outputs": [],
   "source": [
    "PLUMED_PINES = f\"\"\"\n",
    "PINES ...\n",
    "LABEL=pines\n",
    "PRECISION=10000\n",
    "NLIST\n",
    "ONLYCROSS\n",
    "REF_FILE=md.pdb\n",
    "PINESATOMS=5HGGF_NS  ar\n",
    "ATOMTYPES=NA,CL,OW,HW1,HW2\n",
    "SFACTOR=1.0,1.0,1.0,1.0,1.0\n",
    "SORT=1.0,1.0,1.0,1.0,1.0\n",
    "SWITCH1={{RATIONAL R_0=0.38 MM=12 NN=6}}\n",
    "SWITCH2={{RATIONAL R_0=0.35 MM=12 NN=6}}\n",
    "SWITCH3={{RATIONAL R_0=0.41 MM=12 NN=6}}\n",
    "SWITCH4={{RATIONAL R_0=0.40 MM=12 NN=6}}\n",
    "SWITCH5={{RATIONAL R_0=0.28 MM=12 NN=6}}\n",
    "NL_CUTOFF=5.0,1.5,1.5,1.5,1.5\n",
    "NL_STRIDE=10.0,10.0,10.0,10.0,10.0\n",
    "NL_SKIN=0.1,0.1,0.1,0.1,0.1\n",
    "NL_CONSTANT_SIZE=10\n",
    "... PINES\n",
    "\n",
    "ANN ...\n",
    "LABEL=ann\n",
    "ARG=pines.*\n",
    "NUM_LAYERS=6\n",
    "NUM_NODES=61,64,32,16,3,3\n",
    "ACTIVATIONS=BNTanh,BNTanh,BNTanh,BNTanh,Linear\n",
    "{ANN_WEIGHTS}\n",
    "APPLY_BATCH_NORM\n",
    "... ANN\n",
    "\n",
    "\n",
    "PBMETAD ...\n",
    "ARG=ann.node-0,ann.node-1,ann.node-2 SIGMA=0.1,0.1,0.1 HEIGHT=1.2\n",
    "TEMP=300 PACE=500 BIASFACTOR=2 LABEL=pb\n",
    "FILE=hills_pc0.out,hills_pc2.out,hills_pc3.out\n",
    "GRID_MIN=-2.5,-2.5,-2.5 GRID_MAX=2.5,2.5,2.5 GRID_BIN=5000,5000,5000\n",
    "... PBMETAD\n",
    "\n",
    "# monitor the cv and the metadynamics bias potential\n",
    "PRINT STRIDE=1 ARG=ann.node-0,ann.node-1,ann.node-2,pb.bias FILE=colvar.out\n",
    "\n",
    "\"\"\""
   ]
  },
  {
   "cell_type": "markdown",
   "metadata": {},
   "source": [
    "Save the plumed file"
   ]
  },
  {
   "cell_type": "code",
   "execution_count": null,
   "metadata": {},
   "outputs": [],
   "source": [
    "with open(\"./plumed_PINES_input.dat\", \"w\") as f:\n",
    "    f.write(PLUMED_PINES)"
   ]
  },
  {
   "cell_type": "markdown",
   "metadata": {},
   "source": [
    "## 3.3 Run the biased simulation"
   ]
  },
  {
   "cell_type": "markdown",
   "metadata": {},
   "source": [
    "[Describe what's happening]"
   ]
  },
  {
   "cell_type": "code",
   "execution_count": null,
   "metadata": {},
   "outputs": [],
   "source": [
    "subprocess.run(f\"{GMX_EXEC} mdrun -s md_50ns.tpr -deffnm biased -plumed plumed_PINES_input.dat -cpi biased.cpt\")"
   ]
  },
  {
   "cell_type": "markdown",
   "metadata": {},
   "source": [
    "# 4. Processing the results"
   ]
  },
  {
   "cell_type": "markdown",
   "metadata": {},
   "source": []
  }
 ],
 "metadata": {
  "kernelspec": {
   "display_name": "Python 3 (ipykernel)",
   "language": "python",
   "name": "python3"
  },
  "language_info": {
   "codemirror_mode": {
    "name": "ipython",
    "version": 3
   },
   "file_extension": ".py",
   "mimetype": "text/x-python",
   "name": "python",
   "nbconvert_exporter": "python",
   "pygments_lexer": "ipython3",
   "version": "3.11.8"
  }
 },
 "nbformat": 4,
 "nbformat_minor": 2
}
