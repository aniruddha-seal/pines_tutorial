{
 "cells": [
  {
   "cell_type": "markdown",
   "metadata": {},
   "source": [
    "<h1 style=\"text-align:center;\">Permutationally Invariant Network for Enhanced Sampling (PINES)</h1>"
   ]
  },
  {
   "cell_type": "markdown",
   "metadata": {},
   "source": [
    "# Introduction\n",
    "Permutationally Invariant Network for Enhanced Sampling (PINES) is a data-driven method for automatically discovering high variance collective variables (CVs) and enhanced sampling to obtain free energy landscapes of single and multi-component molecular systems. It can be conceived as a permutationally invariant extension to the Molecular Enhanced Sampling with Autoencoders (MESA) method. PINES comprises four main components (Fig. 1):\n",
    "\n",
    "1. Initial seed data: Unbiased or biased molecular dynamics (MD) simulations. In the initial iteration, biasing can be done using intuitive CVs or tempering methods.\n",
    "2. Permutation Invariant Vector (PIV) featurization (F):  Translationally, rotationally, and permutationally invariant representation of the molecular system.\n",
    "3. Universal function approximators (Autoencoders): Discovery of high-variance CVs {($\\xi_1$, $\\xi_2$, ...)}\n",
    "4. MD simulations with CV biasing method: An enhanced sampling MD simulation of the system by biasing along the high variance CVs learned by the autoencoders to improve sampling of the system. In this tutorial, we use Parallel-Bias Metadynamics (PBMetaD), but any CV-enhanced sampling technique can be employed.\n",
    "\n",
    "\n",
    "<figure align=\"center\">\n",
    "  <img src=\"./notebook_src/pines1.png\" alt=\"PINES overview\">\n",
    "  <figcaption>Fig. 1:  Overview of PINES workflow to determine free energy landscapes of both single and multi-molecular systems. (a) Illustration of either initial seed MD or CV-biased MD simulation during PINES iterations. The snapshot shows a representation of a NaCl system configuration in water with Na, Cl, O, and H colored in yellow, green, red, and white, respectively. (b) Post-processing of the system configurations sampled during MD simulation in Cartesian space for PIV featurization. {x<sub>i</sub>, y<sub>i</sub>, z<sub>i</sub>} represent the x, y, and z positions of atom i in the system. (c) PIV featurization to remove translation, rotational, and permutational symmetries in the system. (d) Learning differentiable and high-variance nonlinear CVs using autoencoders. We use a feed-forward network as a universal function approximator for the autoencoders' encoder and decoder parts. (e) Principal component analysis to align the manifold discovered using autoencoders with the highest variance directions. (f) Enhanced sampling along the discovered whitened CVs or termination of PINES upon the convergence of discovered CVs. For CV-enhanced sampling, we employ PBMetaD in this tutorial. Figure adapted from 10.1021/acs.jctc.3c00923, copyright ACS.\n",
    "</figcaption>\n",
    "</figure>\n",
    "\n",
    "In this introductory tutorial, we apply PINES to study a NaCl ion pair's association or dissociation process in water. This is a classic system, where it is well known that the rearrangement of water molecules in the solvation shell of ions plays a critical role in driving the association or dissociation of NaCl. In other words, enhanced sampling of association or dissociation of Na+ and Cl- ions in water may require explicit biasing along water degrees of freedom. This tutorial shows how the permutational invariance built into PINES helps us discover solvent-inclusive high-variance CVs. Representing solvent-inclusive CVs is challenging using traditional molecular representational techniques because water molecules are indistinguishable; therefore, their identity should not be embedded in the system's manifold or the CVs. PINES offers a computationally efficient solution to this problem using PIV representation that automatically removes translational, rotational, and permutational variances while retaining the same information as the Cartesian coordinates up to rigid transformations, according to the rigid graph theorem. Below, we walk through each step of applying PINES to iteratively discover high-variance CVs and perform enhanced sampling MD simulations along these CVs to study the free energy landscape of NaCl association or dissociation in water. This notebook goes through only the first iteration of appying PINES, starting with an unbiased trajectory to outline the overall pipeline of applying PINES. For subsequent iteration, one only needs to change the input data to the autoencoder training step from the PIVs calculated for the unbiased trajectory to the PIVs calculated for the last iteration's biased trajectory, and follow the same steps.\n"
   ]
  },
  {
   "cell_type": "markdown",
   "metadata": {},
   "source": [
    "## Tutorial data directory structure\n",
    "\n",
    "The tutorial's data directory is setup at follows:\n",
    "\n",
    "* `0.Unbiased`: This folder contains the seeding simulations needed for training the autoencoder and tuning the switching function.\n",
    "    * `1_solvate`: Creating the simulation box with 1 NaCl ion solvated in TIP3P water. \n",
    "    * `2_em`: Minimizing the simulation box to relax non-physical structures followed by a short NVT simulation for equilibration.\n",
    "    * `3_md`: An unbiased MD run to seed the autoencoder training.\n",
    "* `1.NN`\n",
    "    * Training the autoencoder using the seeding unbiased simulation data or the biased data from the previous round to find high-variance CVs.\n",
    "* `2.Biased`\n",
    "    * Biased MD run with PBMetaD and the CVs discovered by PINES.\n",
    "* `3.Check_Convergence`\n",
    "    * Check whether the PINES CVs have converged by looking and the latest space dimentionality and cosine similarity of the discovered CVs."
   ]
  },
  {
   "cell_type": "markdown",
   "metadata": {},
   "source": [
    "## Importing neccessary packages"
   ]
  },
  {
   "cell_type": "code",
   "execution_count": 2,
   "metadata": {},
   "outputs": [],
   "source": [
    "import os\n",
    "import re\n",
    "import subprocess\n",
    "from pathlib import Path\n",
    "\n",
    "import pandas as pd\n",
    "import numpy as np\n",
    "import matplotlib.pyplot as plt\n",
    "from scipy import optimize\n",
    "import torch"
   ]
  },
  {
   "cell_type": "markdown",
   "metadata": {},
   "source": [
    "A simple helper class for changing directories"
   ]
  },
  {
   "cell_type": "code",
   "execution_count": 3,
   "metadata": {},
   "outputs": [],
   "source": [
    "class cd:\n",
    "    \"\"\"Context manager for changing the current working directory\"\"\"\n",
    "    def __init__(self, newPath):\n",
    "        self.newPath = Path(newPath)\n",
    "    def __enter__(self):\n",
    "        self.savedPath = Path.cwd()\n",
    "        try:\n",
    "            os.chdir(self.newPath)\n",
    "        except:\n",
    "            raise ValueError(\"Path does not exist.\")\n",
    "    def __exit__(self, etype, value, traceback):\n",
    "        os.chdir(self.savedPath)"
   ]
  },
  {
   "cell_type": "markdown",
   "metadata": {},
   "source": [
    "## Setting up path variables"
   ]
  },
  {
   "cell_type": "code",
   "execution_count": 56,
   "metadata": {},
   "outputs": [],
   "source": [
    "PLUMED_EXEC = Path(\"export PLUMED_ROOT=/project/andrewferguson/armin/grom_new/plumed-2.8.3; \\\n",
    "  export PATH=/project/andrewferguson/armin/grom_new/plumed-2.8.3/build_gpu2/bin:$PATH; \\\n",
    "  export PKG_CONFIG_PATH=/project/andrewferguson/armin/grom_new/plumed-2.8.3/build_gpu2/lib/pkgconfig:$PKG_CONFIG_PATH; \\\n",
    "  export LD_LIBRARY_PATH=/project/andrewferguson/armin/grom_new/plumed-2.8.3/build_gpu2/lib:$LD_LIBRARY_PATH; \\\n",
    "  export LIBRARY_PATH=/project/andrewferguson/armin/grom_new/plumed-2.8.3/build_gpu2/lib:$LIBRARY_PATH; \\\n",
    "  export CPATH=/project/andrewferguson/armin/grom_new/plumed-2.8.3/build_gpu2/include:$CPATH; \\\n",
    "  export PLUMED_KERNEL=/project/andrewferguson/armin/grom_new/plumed-2.8.3/build_gpu2/lib/libplumedKernel.so; \\\n",
    "plumed\")\n",
    "GMX_EXEC = Path(\"source /project/andrewferguson/armin/grom_new/gromacs-2021.6/installed-files-gpu2/bin/GMXRC; gmx\")\n",
    "BASE_DIR = Path(\"/project2/andrewferguson/armin/pines_tutorial/notebooks/\").parent # where this notebook is"
   ]
  },
  {
   "cell_type": "markdown",
   "metadata": {},
   "source": [
    "Making sure we start from `BASE_DIR`"
   ]
  },
  {
   "cell_type": "code",
   "execution_count": 57,
   "metadata": {},
   "outputs": [
    {
     "name": "stdout",
     "output_type": "stream",
     "text": [
      "/project2/andrewferguson/armin/pines_tutorial\n"
     ]
    }
   ],
   "source": [
    "os.chdir(BASE_DIR)\n",
    "print(os.getcwd())"
   ]
  },
  {
   "cell_type": "markdown",
   "metadata": {},
   "source": [
    "# Seeding PINES: Unbiased simulation\n",
    "\n",
    "To start PINES, we must train our autoencoder with a short trajectory of our system. This can be either an unbiased simulation or a biased simulation to improve the convergence rate.​​ The biased trajectory can be obtained by enhanced sampling along CVs or tempering methods. In this tutorial, we initiate PINES with a short, unbiased trajectory. The simulation system consists of a NaCl ion pair in water (TIP3P model) in a cubic box with an edge length of 2.5 nm. We provide all the necessary files in GROMACS format for running the simulations in this tutorial. We then collect the seed trajectory of length 50 ns in an NVT ensemble. Please see the paper for details of force field parameters, energy minimization protocol, and simulation parameters during equilibration and production runs.\n",
    "\n",
    "## 1_solvate\n",
    "We will use GROMACS's built-in `solvate` program to create a box of water."
   ]
  },
  {
   "cell_type": "code",
   "execution_count": 8,
   "metadata": {},
   "outputs": [],
   "source": [
    "SOLVATE_DIR = BASE_DIR/\"data\"/\"0.unbiased\"/\"1_solvate\""
   ]
  },
  {
   "cell_type": "code",
   "execution_count": 11,
   "metadata": {},
   "outputs": [
    {
     "name": "stdout",
     "output_type": "stream",
     "text": [
      "\n",
      "WARNING: Masses and atomic (Van der Waals) radii will be guessed\n",
      "         based on residue and atom names, since they could not be\n",
      "         definitively assigned from the information in your input\n",
      "         files. These guessed numbers might deviate from the mass\n",
      "         and radius of the atom type. Please check the output\n",
      "         files if necessary.\n",
      "\n",
      "NOTE: From version 5.0 gmx solvate uses the Van der Waals radii\n",
      "from the source below. This means the results may be different\n",
      "compared to previous GROMACS versions.\n",
      "\n",
      "++++ PLEASE READ AND CITE THE FOLLOWING REFERENCE ++++\n",
      "A. Bondi\n",
      "van der Waals Volumes and Radii\n",
      "J. Phys. Chem. 68 (1964) pp. 441-451\n",
      "-------- -------- --- Thank You --- -------- --------\n",
      "\n",
      "Adding line for 510 solvent molecules with resname (SOL) to topology file (/scratch/midway2/arminsh/PINES_test/pines_tutorial/data/0.unbiased/1_solvate/topol.top)\n"
     ]
    },
    {
     "name": "stderr",
     "output_type": "stream",
     "text": [
      "               :-) GROMACS - gmx solvate, 2021.6-plumed-2.8.3 (-:\n",
      "\n",
      "                            GROMACS is written by:\n",
      "     Andrey Alekseenko              Emile Apol              Rossen Apostolov     \n",
      "         Paul Bauer           Herman J.C. Berendsen           Par Bjelkmar       \n",
      "       Christian Blau           Viacheslav Bolnykh             Kevin Boyd        \n",
      "     Aldert van Buuren           Rudi van Drunen             Anton Feenstra      \n",
      "    Gilles Gouaillardet             Alan Gray               Gerrit Groenhof      \n",
      "       Anca Hamuraru            Vincent Hindriksen          M. Eric Irrgang      \n",
      "      Aleksei Iupinov           Christoph Junghans             Joe Jordan        \n",
      "    Dimitrios Karkoulis            Peter Kasson                Jiri Kraus        \n",
      "      Carsten Kutzner              Per Larsson              Justin A. Lemkul     \n",
      "       Viveca Lindahl            Magnus Lundborg             Erik Marklund       \n",
      "        Pascal Merz             Pieter Meulenhoff            Teemu Murtola       \n",
      "        Szilard Pall               Sander Pronk              Roland Schulz       \n",
      "       Michael Shirts            Alexey Shvetsov             Alfons Sijbers      \n",
      "       Peter Tieleman              Jon Vincent              Teemu Virolainen     \n",
      "     Christian Wennberg            Maarten Wolf              Artem Zhmurov       \n",
      "                           and the project leaders:\n",
      "        Mark Abraham, Berk Hess, Erik Lindahl, and David van der Spoel\n",
      "\n",
      "Copyright (c) 1991-2000, University of Groningen, The Netherlands.\n",
      "Copyright (c) 2001-2022, The GROMACS development team at\n",
      "Uppsala University, Stockholm University and\n",
      "the Royal Institute of Technology, Sweden.\n",
      "check out http://www.gromacs.org for more information.\n",
      "\n",
      "GROMACS is free software; you can redistribute it and/or modify it\n",
      "under the terms of the GNU Lesser General Public License\n",
      "as published by the Free Software Foundation; either version 2.1\n",
      "of the License, or (at your option) any later version.\n",
      "\n",
      "GROMACS:      gmx solvate, version 2021.6-plumed-2.8.3\n",
      "Executable:   /project/andrewferguson/armin/grom_new/gromacs-2021.6/installed-files-gpu2/bin/gmx\n",
      "Data prefix:  /project/andrewferguson/armin/grom_new/gromacs-2021.6/installed-files-gpu2\n",
      "Working dir:  /scratch/midway2/arminsh/PINES_test/pines_tutorial\n",
      "Command line:\n",
      "  gmx solvate -cs spc216.gro -box 2.5 -o /scratch/midway2/arminsh/PINES_test/pines_tutorial/data/0.unbiased/1_solvate/box.gro -p /scratch/midway2/arminsh/PINES_test/pines_tutorial/data/0.unbiased/1_solvate/topol.top\n",
      "\n",
      "Reading solvent configuration\n",
      "\n",
      "Initialising inter-atomic distances...\n",
      "Generating solvent configuration\n",
      "Will generate new solvent configuration of 2x2x2 boxes\n",
      "Solvent box contains 2181 atoms in 727 residues\n",
      "Removed 651 solvent atoms due to solvent-solvent overlap\n",
      "Sorting configuration\n",
      "Found 1 molecule type:\n",
      "    SOL (   3 atoms):   510 residues\n",
      "Generated solvent containing 1530 atoms in 510 residues\n",
      "Writing generated configuration to /scratch/midway2/arminsh/PINES_test/pines_tutorial/data/0.unbiased/1_solvate/box.gro\n",
      "\n",
      "Output configuration contains 1530 atoms in 510 residues\n",
      "Volume                 :      15.625 (nm^3)\n",
      "Density                :     976.435 (g/l)\n",
      "Number of solvent molecules:    510   \n",
      "\n",
      "Processing topology\n",
      "\n",
      "Back Off! I just backed up /scratch/midway2/arminsh/PINES_test/pines_tutorial/data/0.unbiased/1_solvate/topol.top to /scratch/midway2/arminsh/PINES_test/pines_tutorial/data/0.unbiased/1_solvate/#topol.top.1#\n",
      "\n",
      "GROMACS reminds you: \"I Want to Know Right Now\" (Meatloaf)\n",
      "\n"
     ]
    },
    {
     "data": {
      "text/plain": [
       "CompletedProcess(args='source /project/andrewferguson/armin/grom_new/gromacs-2021.6/installed-files-gpu2/bin/GMXRC; gmx solvate -cs spc216.gro -box 2.5 -o /scratch/midway2/arminsh/PINES_test/pines_tutorial/data/0.unbiased/1_solvate/box.gro -p /scratch/midway2/arminsh/PINES_test/pines_tutorial/data/0.unbiased/1_solvate/topol.top', returncode=0)"
      ]
     },
     "execution_count": 11,
     "metadata": {},
     "output_type": "execute_result"
    }
   ],
   "source": [
    "subprocess.run(f\"{GMX_EXEC} solvate -cs spc216.gro -box 2.5 -o {SOLVATE_DIR}/box.gro -p {SOLVATE_DIR}/topol.top\"\n",
    "               , shell=True)"
   ]
  },
  {
   "cell_type": "markdown",
   "metadata": {},
   "source": [
    "Add a single pair of $\\text{Na}^+$ and $\\text{Cl}^+$ ions to the water box with `genion`"
   ]
  },
  {
   "cell_type": "code",
   "execution_count": 12,
   "metadata": {},
   "outputs": [
    {
     "name": "stdout",
     "output_type": "stream",
     "text": [
      "Setting the LD random seed to -67470593\n",
      "\n",
      "Generated 2211 of the 2211 non-bonded parameter combinations\n",
      "\n",
      "Generated 2211 of the 2211 1-4 parameter combinations\n",
      "\n",
      "Excluding 2 bonded neighbours molecule type 'SOL'\n",
      "Analysing residue names:\n",
      "There are:   510      Water residues\n",
      "\n",
      "This run will generate roughly 0 Mb of data\n",
      "Will try to add 1 NA ions and 1 CL ions.\n",
      "Select a continuous group of solvent molecules\n",
      "Selected 2: 'SOL'\n",
      "\n",
      "Processing topology\n",
      "Replacing 2 solute molecules in topology file (/scratch/midway2/arminsh/PINES_test/pines_tutorial/data/0.unbiased/1_solvate/topol.top)  by 1 NA and 1 CL ions.\n"
     ]
    },
    {
     "name": "stderr",
     "output_type": "stream",
     "text": [
      "               :-) GROMACS - gmx grompp, 2021.6-plumed-2.8.3 (-:\n",
      "\n",
      "                            GROMACS is written by:\n",
      "     Andrey Alekseenko              Emile Apol              Rossen Apostolov     \n",
      "         Paul Bauer           Herman J.C. Berendsen           Par Bjelkmar       \n",
      "       Christian Blau           Viacheslav Bolnykh             Kevin Boyd        \n",
      "     Aldert van Buuren           Rudi van Drunen             Anton Feenstra      \n",
      "    Gilles Gouaillardet             Alan Gray               Gerrit Groenhof      \n",
      "       Anca Hamuraru            Vincent Hindriksen          M. Eric Irrgang      \n",
      "      Aleksei Iupinov           Christoph Junghans             Joe Jordan        \n",
      "    Dimitrios Karkoulis            Peter Kasson                Jiri Kraus        \n",
      "      Carsten Kutzner              Per Larsson              Justin A. Lemkul     \n",
      "       Viveca Lindahl            Magnus Lundborg             Erik Marklund       \n",
      "        Pascal Merz             Pieter Meulenhoff            Teemu Murtola       \n",
      "        Szilard Pall               Sander Pronk              Roland Schulz       \n",
      "       Michael Shirts            Alexey Shvetsov             Alfons Sijbers      \n",
      "       Peter Tieleman              Jon Vincent              Teemu Virolainen     \n",
      "     Christian Wennberg            Maarten Wolf              Artem Zhmurov       \n",
      "                           and the project leaders:\n",
      "        Mark Abraham, Berk Hess, Erik Lindahl, and David van der Spoel\n",
      "\n",
      "Copyright (c) 1991-2000, University of Groningen, The Netherlands.\n",
      "Copyright (c) 2001-2022, The GROMACS development team at\n",
      "Uppsala University, Stockholm University and\n",
      "the Royal Institute of Technology, Sweden.\n",
      "check out http://www.gromacs.org for more information.\n",
      "\n",
      "GROMACS is free software; you can redistribute it and/or modify it\n",
      "under the terms of the GNU Lesser General Public License\n",
      "as published by the Free Software Foundation; either version 2.1\n",
      "of the License, or (at your option) any later version.\n",
      "\n",
      "GROMACS:      gmx grompp, version 2021.6-plumed-2.8.3\n",
      "Executable:   /project/andrewferguson/armin/grom_new/gromacs-2021.6/installed-files-gpu2/bin/gmx\n",
      "Data prefix:  /project/andrewferguson/armin/grom_new/gromacs-2021.6/installed-files-gpu2\n",
      "Working dir:  /scratch/midway2/arminsh/PINES_test/pines_tutorial\n",
      "Command line:\n",
      "  gmx grompp -f /scratch/midway2/arminsh/PINES_test/pines_tutorial/data/0.unbiased/1_solvate/ions.mdp -c /scratch/midway2/arminsh/PINES_test/pines_tutorial/data/0.unbiased/1_solvate/box.gro -p /scratch/midway2/arminsh/PINES_test/pines_tutorial/data/0.unbiased/1_solvate/topol.top -o /scratch/midway2/arminsh/PINES_test/pines_tutorial/data/0.unbiased/1_solvate/ions.tpr -maxwarn 2\n",
      "\n",
      "Ignoring obsolete mdp entry 'ns_type'\n",
      "\n",
      "NOTE 1 [file /scratch/midway2/arminsh/PINES_test/pines_tutorial/data/0.unbiased/1_solvate/ions.mdp]:\n",
      "  With Verlet lists the optimal nstlist is >= 10, with GPUs >= 20. Note\n",
      "  that with the Verlet scheme, nstlist has no effect on the accuracy of\n",
      "  your simulation.\n",
      "\n",
      "Generating 1-4 interactions: fudge = 0.5\n",
      "Number of degrees of freedom in T-Coupling group rest is 3057.00\n",
      "\n",
      "NOTE 2 [file /scratch/midway2/arminsh/PINES_test/pines_tutorial/data/0.unbiased/1_solvate/ions.mdp]:\n",
      "  You are using a plain Coulomb cut-off, which might produce artifacts.\n",
      "  You might want to consider using PME electrostatics.\n",
      "\n",
      "\n",
      "\n",
      "There were 2 notes\n",
      "\n",
      "GROMACS reminds you: \"Exactly\" (Pulp Fiction)\n",
      "\n",
      "               :-) GROMACS - gmx genion, 2021.6-plumed-2.8.3 (-:\n",
      "\n",
      "                            GROMACS is written by:\n",
      "     Andrey Alekseenko              Emile Apol              Rossen Apostolov     \n",
      "         Paul Bauer           Herman J.C. Berendsen           Par Bjelkmar       \n",
      "       Christian Blau           Viacheslav Bolnykh             Kevin Boyd        \n",
      "     Aldert van Buuren           Rudi van Drunen             Anton Feenstra      \n",
      "    Gilles Gouaillardet             Alan Gray               Gerrit Groenhof      \n",
      "       Anca Hamuraru            Vincent Hindriksen          M. Eric Irrgang      \n",
      "      Aleksei Iupinov           Christoph Junghans             Joe Jordan        \n",
      "    Dimitrios Karkoulis            Peter Kasson                Jiri Kraus        \n",
      "      Carsten Kutzner              Per Larsson              Justin A. Lemkul     \n",
      "       Viveca Lindahl            Magnus Lundborg             Erik Marklund       \n",
      "        Pascal Merz             Pieter Meulenhoff            Teemu Murtola       \n",
      "        Szilard Pall               Sander Pronk              Roland Schulz       \n",
      "       Michael Shirts            Alexey Shvetsov             Alfons Sijbers      \n",
      "       Peter Tieleman              Jon Vincent              Teemu Virolainen     \n",
      "     Christian Wennberg            Maarten Wolf              Artem Zhmurov       \n",
      "                           and the project leaders:\n",
      "        Mark Abraham, Berk Hess, Erik Lindahl, and David van der Spoel\n",
      "\n",
      "Copyright (c) 1991-2000, University of Groningen, The Netherlands.\n",
      "Copyright (c) 2001-2022, The GROMACS development team at\n",
      "Uppsala University, Stockholm University and\n",
      "the Royal Institute of Technology, Sweden.\n",
      "check out http://www.gromacs.org for more information.\n",
      "\n",
      "GROMACS is free software; you can redistribute it and/or modify it\n",
      "under the terms of the GNU Lesser General Public License\n",
      "as published by the Free Software Foundation; either version 2.1\n",
      "of the License, or (at your option) any later version.\n",
      "\n",
      "GROMACS:      gmx genion, version 2021.6-plumed-2.8.3\n",
      "Executable:   /project/andrewferguson/armin/grom_new/gromacs-2021.6/installed-files-gpu2/bin/gmx\n",
      "Data prefix:  /project/andrewferguson/armin/grom_new/gromacs-2021.6/installed-files-gpu2\n",
      "Working dir:  /scratch/midway2/arminsh/PINES_test/pines_tutorial\n",
      "Command line:\n",
      "  gmx genion -s /scratch/midway2/arminsh/PINES_test/pines_tutorial/data/0.unbiased/1_solvate/ions.tpr -o /scratch/midway2/arminsh/PINES_test/pines_tutorial/data/0.unbiased/1_solvate/ions.gro -p /scratch/midway2/arminsh/PINES_test/pines_tutorial/data/0.unbiased/1_solvate/topol.top -pname NA -nname CL -np 1 -nn 1\n",
      "\n",
      "Reading file /scratch/midway2/arminsh/PINES_test/pines_tutorial/data/0.unbiased/1_solvate/ions.tpr, VERSION 2021.6-plumed-2.8.3 (single precision)\n",
      "Reading file /scratch/midway2/arminsh/PINES_test/pines_tutorial/data/0.unbiased/1_solvate/ions.tpr, VERSION 2021.6-plumed-2.8.3 (single precision)\n",
      "Group     0 (         System) has  1530 elements\n",
      "Group     1 (          Water) has  1530 elements\n",
      "Group     2 (            SOL) has  1530 elements\n",
      "Select a group: Number of (3-atomic) solvent molecules: 510\n",
      "\n",
      "Back Off! I just backed up /scratch/midway2/arminsh/PINES_test/pines_tutorial/data/0.unbiased/1_solvate/topol.top to /scratch/midway2/arminsh/PINES_test/pines_tutorial/data/0.unbiased/1_solvate/#topol.top.2#\n",
      "Using random seed -1143098053.\n",
      "Replacing solvent molecule 448 (atom 1344) with NA\n",
      "Replacing solvent molecule 139 (atom 417) with CL\n",
      "\n",
      "\n",
      "GROMACS reminds you: \"Exactly\" (Pulp Fiction)\n",
      "\n"
     ]
    },
    {
     "data": {
      "text/plain": [
       "CompletedProcess(args='source /project/andrewferguson/armin/grom_new/gromacs-2021.6/installed-files-gpu2/bin/GMXRC; gmx genion -s /scratch/midway2/arminsh/PINES_test/pines_tutorial/data/0.unbiased/1_solvate/ions.tpr -o /scratch/midway2/arminsh/PINES_test/pines_tutorial/data/0.unbiased/1_solvate/ions.gro -p /scratch/midway2/arminsh/PINES_test/pines_tutorial/data/0.unbiased/1_solvate/topol.top -pname NA -nname CL -np 1 -nn 1 << EOF\\nSOL\\nEOF', returncode=0)"
      ]
     },
     "execution_count": 12,
     "metadata": {},
     "output_type": "execute_result"
    }
   ],
   "source": [
    "subprocess.run(f\"{GMX_EXEC} grompp -f {SOLVATE_DIR}/ions.mdp -c {SOLVATE_DIR}/box.gro -p {SOLVATE_DIR}/topol.top -o {SOLVATE_DIR}/ions.tpr -maxwarn 2\", shell=True)\n",
    "subprocess.run(f\"\"\"{GMX_EXEC} genion -s {SOLVATE_DIR}/ions.tpr -o {SOLVATE_DIR}/ions.gro -p {SOLVATE_DIR}/topol.top -pname NA -nname CL -np 1 -nn 1 << EOF\n",
    "SOL\n",
    "EOF\"\"\", shell=True)"
   ]
  },
  {
   "cell_type": "markdown",
   "metadata": {},
   "source": [
    "## 2_em\n",
    "\n",
    "Minimize the structure of the simulation box we just created to relax non-physical structures."
   ]
  },
  {
   "cell_type": "code",
   "execution_count": 9,
   "metadata": {},
   "outputs": [],
   "source": [
    "EM_DIR = BASE_DIR/\"data\"/\"0.unbiased\"/\"2_em\""
   ]
  },
  {
   "cell_type": "code",
   "execution_count": 26,
   "metadata": {},
   "outputs": [
    {
     "name": "stderr",
     "output_type": "stream",
     "text": [
      "               :-) GROMACS - gmx grompp, 2021.6-plumed-2.8.3 (-:\n",
      "\n",
      "                            GROMACS is written by:\n",
      "     Andrey Alekseenko              Emile Apol              Rossen Apostolov     \n",
      "         Paul Bauer           Herman J.C. Berendsen           Par Bjelkmar       \n",
      "       Christian Blau           Viacheslav Bolnykh             Kevin Boyd        \n",
      "     Aldert van Buuren           Rudi van Drunen             Anton Feenstra      \n",
      "    Gilles Gouaillardet             Alan Gray               Gerrit Groenhof      \n",
      "       Anca Hamuraru            Vincent Hindriksen          M. Eric Irrgang      \n",
      "      Aleksei Iupinov           Christoph Junghans             Joe Jordan        \n",
      "    Dimitrios Karkoulis            Peter Kasson                Jiri Kraus        \n",
      "      Carsten Kutzner              Per Larsson              Justin A. Lemkul     \n",
      "       Viveca Lindahl            Magnus Lundborg             Erik Marklund       \n",
      "        Pascal Merz             Pieter Meulenhoff            Teemu Murtola       \n",
      "        Szilard Pall               Sander Pronk              Roland Schulz       \n",
      "       Michael Shirts            Alexey Shvetsov             Alfons Sijbers      \n",
      "       Peter Tieleman              Jon Vincent              Teemu Virolainen     \n",
      "     Christian Wennberg            Maarten Wolf              Artem Zhmurov       \n",
      "                           and the project leaders:\n",
      "        Mark Abraham, Berk Hess, Erik Lindahl, and David van der Spoel\n",
      "\n",
      "Copyright (c) 1991-2000, University of Groningen, The Netherlands.\n",
      "Copyright (c) 2001-2022, The GROMACS development team at\n",
      "Uppsala University, Stockholm University and\n",
      "the Royal Institute of Technology, Sweden.\n",
      "check out http://www.gromacs.org for more information.\n",
      "\n",
      "GROMACS is free software; you can redistribute it and/or modify it\n",
      "under the terms of the GNU Lesser General Public License\n",
      "as published by the Free Software Foundation; either version 2.1\n",
      "of the License, or (at your option) any later version.\n",
      "\n",
      "GROMACS:      gmx grompp, version 2021.6-plumed-2.8.3\n",
      "Executable:   /project/andrewferguson/armin/grom_new/gromacs-2021.6/installed-files-gpu2/bin/gmx\n",
      "Data prefix:  /project/andrewferguson/armin/grom_new/gromacs-2021.6/installed-files-gpu2\n",
      "Working dir:  /scratch/midway2/arminsh/PINES_test/pines_tutorial\n",
      "Command line:\n",
      "  gmx grompp -f /scratch/midway2/arminsh/PINES_test/pines_tutorial/data/0.unbiased/2_em/em.mdp -c /scratch/midway2/arminsh/PINES_test/pines_tutorial/data/0.unbiased/2_em/ions.gro -p /scratch/midway2/arminsh/PINES_test/pines_tutorial/data/0.unbiased/2_em/topol.top -o /scratch/midway2/arminsh/PINES_test/pines_tutorial/data/0.unbiased/2_em/em.tpr -maxwarn 3\n",
      "\n",
      "Ignoring obsolete mdp entry 'ns_type'\n",
      "\n",
      "NOTE 1 [file /scratch/midway2/arminsh/PINES_test/pines_tutorial/data/0.unbiased/2_em/em.mdp]:\n",
      "  With Verlet lists the optimal nstlist is >= 10, with GPUs >= 20. Note\n",
      "  that with the Verlet scheme, nstlist has no effect on the accuracy of\n",
      "  your simulation.\n",
      "\n",
      "Generating 1-4 interactions: fudge = 0.5\n",
      "Number of degrees of freedom in T-Coupling group rest is 3051.00\n",
      "\n",
      "There was 1 note\n",
      "\n",
      "Back Off! I just backed up /scratch/midway2/arminsh/PINES_test/pines_tutorial/data/0.unbiased/2_em/em.tpr to /scratch/midway2/arminsh/PINES_test/pines_tutorial/data/0.unbiased/2_em/#em.tpr.1#\n",
      "\n",
      "GROMACS reminds you: \"Wedged as we are between two eternities of idleness, there is no excuse for being idle now\" (Anthony Burgess)\n",
      "\n",
      "                :-) GROMACS - gmx mdrun, 2021.6-plumed-2.8.3 (-:\n",
      "\n",
      "                            GROMACS is written by:\n",
      "     Andrey Alekseenko              Emile Apol              Rossen Apostolov     \n",
      "         Paul Bauer           Herman J.C. Berendsen           Par Bjelkmar       \n",
      "       Christian Blau           Viacheslav Bolnykh             Kevin Boyd        \n",
      "     Aldert van Buuren           Rudi van Drunen             Anton Feenstra      \n",
      "    Gilles Gouaillardet             Alan Gray               Gerrit Groenhof      \n",
      "       Anca Hamuraru            Vincent Hindriksen          M. Eric Irrgang      \n",
      "      Aleksei Iupinov           Christoph Junghans             Joe Jordan        \n",
      "    Dimitrios Karkoulis            Peter Kasson                Jiri Kraus        \n",
      "      Carsten Kutzner              Per Larsson              Justin A. Lemkul     \n",
      "       Viveca Lindahl            Magnus Lundborg             Erik Marklund       \n",
      "        Pascal Merz             Pieter Meulenhoff            Teemu Murtola       \n",
      "        Szilard Pall               Sander Pronk              Roland Schulz       \n",
      "       Michael Shirts            Alexey Shvetsov             Alfons Sijbers      \n",
      "       Peter Tieleman              Jon Vincent              Teemu Virolainen     \n",
      "     Christian Wennberg            Maarten Wolf              Artem Zhmurov       \n",
      "                           and the project leaders:\n",
      "        Mark Abraham, Berk Hess, Erik Lindahl, and David van der Spoel\n",
      "\n",
      "Copyright (c) 1991-2000, University of Groningen, The Netherlands.\n",
      "Copyright (c) 2001-2022, The GROMACS development team at\n",
      "Uppsala University, Stockholm University and\n",
      "the Royal Institute of Technology, Sweden.\n",
      "check out http://www.gromacs.org for more information.\n",
      "\n",
      "GROMACS is free software; you can redistribute it and/or modify it\n",
      "under the terms of the GNU Lesser General Public License\n",
      "as published by the Free Software Foundation; either version 2.1\n",
      "of the License, or (at your option) any later version.\n",
      "\n",
      "GROMACS:      gmx mdrun, version 2021.6-plumed-2.8.3\n",
      "Executable:   /project/andrewferguson/armin/grom_new/gromacs-2021.6/installed-files-gpu2/bin/gmx\n",
      "Data prefix:  /project/andrewferguson/armin/grom_new/gromacs-2021.6/installed-files-gpu2\n",
      "Working dir:  /scratch/midway2/arminsh/PINES_test/pines_tutorial/data/0.unbiased/2_em\n",
      "Command line:\n",
      "  gmx mdrun -deffnm em\n",
      "\n"
     ]
    },
    {
     "name": "stdout",
     "output_type": "stream",
     "text": [
      "Setting the LD random seed to -1258297477\n",
      "\n",
      "Generated 2211 of the 2211 non-bonded parameter combinations\n",
      "\n",
      "Generated 2211 of the 2211 1-4 parameter combinations\n",
      "\n",
      "Excluding 2 bonded neighbours molecule type 'SOL'\n",
      "\n",
      "Excluding 1 bonded neighbours molecule type 'NA'\n",
      "\n",
      "Excluding 1 bonded neighbours molecule type 'CL'\n",
      "Analysing residue names:\n",
      "There are:   508      Water residues\n",
      "There are:     2        Ion residues\n",
      "Analysing residues not classified as Protein/DNA/RNA/Water and splitting into groups...\n",
      "Calculating fourier grid dimensions for X Y Z\n",
      "Using a fourier grid of 24x24x24, spacing 0.104 0.104 0.104\n",
      "\n",
      "Estimate for the relative computational load of the PME mesh part: 0.27\n",
      "\n",
      "This run will generate roughly 0 Mb of data\n"
     ]
    },
    {
     "name": "stderr",
     "output_type": "stream",
     "text": [
      "\n",
      "Back Off! I just backed up em.log to ./#em.log.1#\n",
      "Reading file em.tpr, VERSION 2021.6-plumed-2.8.3 (single precision)\n",
      "\n",
      "NOTE: Parallelization is limited by the small number of atoms,\n",
      "      only starting 4 thread-MPI ranks.\n",
      "      You can use the -nt and/or -ntmpi option to optimize the number of threads.\n",
      "\n",
      "On host midway2-gpu02.rcc.local 4 GPUs selected for this run.\n",
      "Mapping of GPU IDs to the 4 GPU tasks in the 4 ranks on this node:\n",
      "  PP:0,PP:1,PP:2,PP:3\n",
      "PP tasks will do (non-perturbed) short-ranged interactions on the GPU\n",
      "PP task will update and constrain coordinates on the CPU\n",
      "Using 4 MPI threads\n",
      "Using 7 OpenMP threads per tMPI thread\n",
      "\n",
      "\n",
      "Back Off! I just backed up em.trr to ./#em.trr.1#\n",
      "\n",
      "Back Off! I just backed up em.edr to ./#em.edr.1#\n",
      "\n",
      "Steepest Descents:\n",
      "   Tolerance (Fmax)   =  1.00000e+03\n",
      "   Number of steps    =        50000\n",
      "\n",
      "writing lowest energy coordinates.\n",
      "\n",
      "Back Off! I just backed up em.gro to ./#em.gro.1#\n",
      "\n",
      "Steepest Descents converged to Fmax < 1000 in 9 steps\n",
      "Potential Energy  = -1.9883301e+04\n",
      "Maximum force     =  9.3728900e+02 on atom 379\n",
      "Norm of force     =  1.3489832e+02\n",
      "\n",
      "GROMACS reminds you: \"Programming today is a race between software engineers striving to build bigger and better idiot-proof programs, and the universe trying to build bigger and better idiots. So far, the universe is winning.\" (Rick Cook)\n",
      "\n"
     ]
    }
   ],
   "source": [
    "subprocess.run(f\"cp {SOLVATE_DIR}/ions.gro {SOLVATE_DIR}/topol.top {EM_DIR}/.\", shell=True)\n",
    "subprocess.run(f\"{GMX_EXEC} grompp -f {EM_DIR}/em.mdp -c {EM_DIR}/ions.gro -p {EM_DIR}/topol.top -o {EM_DIR}/em.tpr -maxwarn 3\", shell=True)\n",
    "with cd(f\"{EM_DIR}\"):\n",
    "    subprocess.run(f\"{GMX_EXEC} mdrun -deffnm em\", shell=True)"
   ]
  },
  {
   "cell_type": "markdown",
   "metadata": {},
   "source": [
    "100 ps NVT equilibration run"
   ]
  },
  {
   "cell_type": "code",
   "execution_count": 27,
   "metadata": {},
   "outputs": [
    {
     "name": "stderr",
     "output_type": "stream",
     "text": [
      "               :-) GROMACS - gmx grompp, 2021.6-plumed-2.8.3 (-:\n",
      "\n",
      "                            GROMACS is written by:\n",
      "     Andrey Alekseenko              Emile Apol              Rossen Apostolov     \n",
      "         Paul Bauer           Herman J.C. Berendsen           Par Bjelkmar       \n",
      "       Christian Blau           Viacheslav Bolnykh             Kevin Boyd        \n",
      "     Aldert van Buuren           Rudi van Drunen             Anton Feenstra      \n",
      "    Gilles Gouaillardet             Alan Gray               Gerrit Groenhof      \n",
      "       Anca Hamuraru            Vincent Hindriksen          M. Eric Irrgang      \n",
      "      Aleksei Iupinov           Christoph Junghans             Joe Jordan        \n",
      "    Dimitrios Karkoulis            Peter Kasson                Jiri Kraus        \n",
      "      Carsten Kutzner              Per Larsson              Justin A. Lemkul     \n",
      "       Viveca Lindahl            Magnus Lundborg             Erik Marklund       \n",
      "        Pascal Merz             Pieter Meulenhoff            Teemu Murtola       \n",
      "        Szilard Pall               Sander Pronk              Roland Schulz       \n",
      "       Michael Shirts            Alexey Shvetsov             Alfons Sijbers      \n",
      "       Peter Tieleman              Jon Vincent              Teemu Virolainen     \n",
      "     Christian Wennberg            Maarten Wolf              Artem Zhmurov       \n",
      "                           and the project leaders:\n",
      "        Mark Abraham, Berk Hess, Erik Lindahl, and David van der Spoel\n",
      "\n",
      "Copyright (c) 1991-2000, University of Groningen, The Netherlands.\n",
      "Copyright (c) 2001-2022, The GROMACS development team at\n",
      "Uppsala University, Stockholm University and\n",
      "the Royal Institute of Technology, Sweden.\n",
      "check out http://www.gromacs.org for more information.\n",
      "\n",
      "GROMACS is free software; you can redistribute it and/or modify it\n",
      "under the terms of the GNU Lesser General Public License\n",
      "as published by the Free Software Foundation; either version 2.1\n",
      "of the License, or (at your option) any later version.\n",
      "\n",
      "GROMACS:      gmx grompp, version 2021.6-plumed-2.8.3\n",
      "Executable:   /project/andrewferguson/armin/grom_new/gromacs-2021.6/installed-files-gpu2/bin/gmx\n",
      "Data prefix:  /project/andrewferguson/armin/grom_new/gromacs-2021.6/installed-files-gpu2\n",
      "Working dir:  /scratch/midway2/arminsh/PINES_test/pines_tutorial\n",
      "Command line:\n",
      "  gmx grompp -f /scratch/midway2/arminsh/PINES_test/pines_tutorial/data/0.unbiased/2_em/nvt.mdp -c /scratch/midway2/arminsh/PINES_test/pines_tutorial/data/0.unbiased/2_em/em.gro -p /scratch/midway2/arminsh/PINES_test/pines_tutorial/data/0.unbiased/2_em/topol.top -o /scratch/midway2/arminsh/PINES_test/pines_tutorial/data/0.unbiased/2_em/nvt.tpr -maxwarn 3\n",
      "\n",
      "Ignoring obsolete mdp entry 'title'\n",
      "Ignoring obsolete mdp entry 'ns_type'\n",
      "Generating 1-4 interactions: fudge = 0.5\n",
      "\n",
      "NOTE 1 [file unknown]:\n",
      "  You are using constraints on all bonds, whereas the forcefield has been\n",
      "  parametrized only with constraints involving hydrogen atoms. We suggest\n",
      "  using constraints = h-bonds instead, this will also improve performance.\n",
      "\n",
      "Number of degrees of freedom in T-Coupling group Water_and_ions is 3051.00\n",
      "\n",
      "There was 1 note\n",
      "\n",
      "GROMACS reminds you: \"If at one time or another I have brushed a few colleagues the wrong way, I must apologize: I had not realized that they were covered with fur.\" (Edwin Chargaff)\n",
      "\n",
      "                :-) GROMACS - gmx mdrun, 2021.6-plumed-2.8.3 (-:\n",
      "\n",
      "                            GROMACS is written by:\n",
      "     Andrey Alekseenko              Emile Apol              Rossen Apostolov     \n",
      "         Paul Bauer           Herman J.C. Berendsen           Par Bjelkmar       \n",
      "       Christian Blau           Viacheslav Bolnykh             Kevin Boyd        \n",
      "     Aldert van Buuren           Rudi van Drunen             Anton Feenstra      \n",
      "    Gilles Gouaillardet             Alan Gray               Gerrit Groenhof      \n",
      "       Anca Hamuraru            Vincent Hindriksen          M. Eric Irrgang      \n",
      "      Aleksei Iupinov           Christoph Junghans             Joe Jordan        \n",
      "    Dimitrios Karkoulis            Peter Kasson                Jiri Kraus        \n",
      "      Carsten Kutzner              Per Larsson              Justin A. Lemkul     \n",
      "       Viveca Lindahl            Magnus Lundborg             Erik Marklund       \n",
      "        Pascal Merz             Pieter Meulenhoff            Teemu Murtola       \n",
      "        Szilard Pall               Sander Pronk              Roland Schulz       \n",
      "       Michael Shirts            Alexey Shvetsov             Alfons Sijbers      \n",
      "       Peter Tieleman              Jon Vincent              Teemu Virolainen     \n",
      "     Christian Wennberg            Maarten Wolf              Artem Zhmurov       \n",
      "                           and the project leaders:\n",
      "        Mark Abraham, Berk Hess, Erik Lindahl, and David van der Spoel\n",
      "\n",
      "Copyright (c) 1991-2000, University of Groningen, The Netherlands.\n",
      "Copyright (c) 2001-2022, The GROMACS development team at\n",
      "Uppsala University, Stockholm University and\n",
      "the Royal Institute of Technology, Sweden.\n",
      "check out http://www.gromacs.org for more information.\n",
      "\n",
      "GROMACS is free software; you can redistribute it and/or modify it\n",
      "under the terms of the GNU Lesser General Public License\n",
      "as published by the Free Software Foundation; either version 2.1\n",
      "of the License, or (at your option) any later version.\n",
      "\n",
      "GROMACS:      gmx mdrun, version 2021.6-plumed-2.8.3\n",
      "Executable:   /project/andrewferguson/armin/grom_new/gromacs-2021.6/installed-files-gpu2/bin/gmx\n",
      "Data prefix:  /project/andrewferguson/armin/grom_new/gromacs-2021.6/installed-files-gpu2\n",
      "Working dir:  /scratch/midway2/arminsh/PINES_test/pines_tutorial/data/0.unbiased/2_em\n",
      "Command line:\n",
      "  gmx mdrun -deffnm nvt\n",
      "\n"
     ]
    },
    {
     "name": "stdout",
     "output_type": "stream",
     "text": [
      "Setting the LD random seed to -1156606409\n",
      "\n",
      "Generated 2211 of the 2211 non-bonded parameter combinations\n",
      "\n",
      "Generated 2211 of the 2211 1-4 parameter combinations\n",
      "\n",
      "Excluding 2 bonded neighbours molecule type 'SOL'\n",
      "\n",
      "turning all bonds into constraints...\n",
      "\n",
      "Excluding 1 bonded neighbours molecule type 'NA'\n",
      "\n",
      "turning all bonds into constraints...\n",
      "\n",
      "Excluding 1 bonded neighbours molecule type 'CL'\n",
      "\n",
      "turning all bonds into constraints...\n",
      "\n",
      "Setting gen_seed to -1147158817\n",
      "\n",
      "Velocities were taken from a Maxwell distribution at 300 K\n",
      "Analysing residue names:\n",
      "There are:   508      Water residues\n",
      "There are:     2        Ion residues\n",
      "Analysing residues not classified as Protein/DNA/RNA/Water and splitting into groups...\n",
      "\n",
      "Determining Verlet buffer for a tolerance of 0.005 kJ/mol/ps at 300 K\n",
      "\n",
      "Calculated rlist for 1x1 atom pair-list as 1.035 nm, buffer size 0.035 nm\n",
      "\n",
      "Set rlist, assuming 4x4 atom pair-list, to 1.000 nm, buffer size 0.000 nm\n",
      "\n",
      "Note that mdrun will redetermine rlist based on the actual pair-list setup\n",
      "Calculating fourier grid dimensions for X Y Z\n",
      "Using a fourier grid of 16x16x16, spacing 0.156 0.156 0.156\n",
      "\n",
      "Estimate for the relative computational load of the PME mesh part: 0.22\n",
      "\n",
      "This run will generate roughly 4 Mb of data\n"
     ]
    },
    {
     "name": "stderr",
     "output_type": "stream",
     "text": [
      "Reading file nvt.tpr, VERSION 2021.6-plumed-2.8.3 (single precision)\n",
      "\n",
      "NOTE: Parallelization is limited by the small number of atoms,\n",
      "      only starting 4 thread-MPI ranks.\n",
      "      You can use the -nt and/or -ntmpi option to optimize the number of threads.\n",
      "\n",
      "Changing nstlist from 10 to 100, rlist from 1 to 1.16\n",
      "\n",
      "On host midway2-gpu02.rcc.local 4 GPUs selected for this run.\n",
      "Mapping of GPU IDs to the 4 GPU tasks in the 4 ranks on this node:\n",
      "  PP:0,PP:1,PP:2,PP:3\n",
      "PP tasks will do (non-perturbed) short-ranged interactions on the GPU\n",
      "PP task will update and constrain coordinates on the CPU\n",
      "Using 4 MPI threads\n",
      "Using 7 OpenMP threads per tMPI thread\n",
      "\n",
      "\n",
      "NOTE: DLB will not turn on during the first phase of PME tuning\n",
      "starting mdrun 'Ion pair in solution in water'\n",
      "50000 steps,    100.0 ps.\n",
      "\n",
      "NOTE: DLB can now turn on, when beneficial\n",
      "\n",
      "Writing final coordinates.\n",
      "\n",
      "\n",
      "Dynamic load balancing report:\n",
      " DLB was off during the run due to low measured imbalance.\n",
      " Average load imbalance: 0.9%.\n",
      " The balanceable part of the MD step is 50%, load imbalance is computed from this.\n",
      " Part of the total run time spent waiting due to load imbalance: 0.4%.\n",
      "\n",
      "\n",
      "               Core t (s)   Wall t (s)        (%)\n",
      "       Time:      299.612       10.701     2799.9\n",
      "                 (ns/day)    (hour/ns)\n",
      "Performance:      807.434        0.030\n"
     ]
    },
    {
     "name": "stdout",
     "output_type": "stream",
     "text": [
      "Note that major changes are planned in future for editconf, to improve usability and utility.\n",
      "Read 1526 atoms\n",
      "Volume: 15.625 nm^3, corresponds to roughly 7000 electrons\n",
      "Velocities found\n"
     ]
    },
    {
     "name": "stderr",
     "output_type": "stream",
     "text": [
      "\n",
      "GROMACS reminds you: \"She's a Good Sheila Bruce\" (Monty Python)\n",
      "\n",
      "              :-) GROMACS - gmx editconf, 2021.6-plumed-2.8.3 (-:\n",
      "\n",
      "                            GROMACS is written by:\n",
      "     Andrey Alekseenko              Emile Apol              Rossen Apostolov     \n",
      "         Paul Bauer           Herman J.C. Berendsen           Par Bjelkmar       \n",
      "       Christian Blau           Viacheslav Bolnykh             Kevin Boyd        \n",
      "     Aldert van Buuren           Rudi van Drunen             Anton Feenstra      \n",
      "    Gilles Gouaillardet             Alan Gray               Gerrit Groenhof      \n",
      "       Anca Hamuraru            Vincent Hindriksen          M. Eric Irrgang      \n",
      "      Aleksei Iupinov           Christoph Junghans             Joe Jordan        \n",
      "    Dimitrios Karkoulis            Peter Kasson                Jiri Kraus        \n",
      "      Carsten Kutzner              Per Larsson              Justin A. Lemkul     \n",
      "       Viveca Lindahl            Magnus Lundborg             Erik Marklund       \n",
      "        Pascal Merz             Pieter Meulenhoff            Teemu Murtola       \n",
      "        Szilard Pall               Sander Pronk              Roland Schulz       \n",
      "       Michael Shirts            Alexey Shvetsov             Alfons Sijbers      \n",
      "       Peter Tieleman              Jon Vincent              Teemu Virolainen     \n",
      "     Christian Wennberg            Maarten Wolf              Artem Zhmurov       \n",
      "                           and the project leaders:\n",
      "        Mark Abraham, Berk Hess, Erik Lindahl, and David van der Spoel\n",
      "\n",
      "Copyright (c) 1991-2000, University of Groningen, The Netherlands.\n",
      "Copyright (c) 2001-2022, The GROMACS development team at\n",
      "Uppsala University, Stockholm University and\n",
      "the Royal Institute of Technology, Sweden.\n",
      "check out http://www.gromacs.org for more information.\n",
      "\n",
      "GROMACS is free software; you can redistribute it and/or modify it\n",
      "under the terms of the GNU Lesser General Public License\n",
      "as published by the Free Software Foundation; either version 2.1\n",
      "of the License, or (at your option) any later version.\n",
      "\n",
      "GROMACS:      gmx editconf, version 2021.6-plumed-2.8.3\n",
      "Executable:   /project/andrewferguson/armin/grom_new/gromacs-2021.6/installed-files-gpu2/bin/gmx\n",
      "Data prefix:  /project/andrewferguson/armin/grom_new/gromacs-2021.6/installed-files-gpu2\n",
      "Working dir:  /scratch/midway2/arminsh/PINES_test/pines_tutorial\n",
      "Command line:\n",
      "  gmx editconf -f /scratch/midway2/arminsh/PINES_test/pines_tutorial/data/0.unbiased/2_em/nvt.gro -o /scratch/midway2/arminsh/PINES_test/pines_tutorial/data/0.unbiased/2_em/nvt.pdb\n",
      "\n",
      "\n",
      "GROMACS reminds you: \"She's a Good Sheila Bruce\" (Monty Python)\n",
      "\n"
     ]
    },
    {
     "data": {
      "text/plain": [
       "CompletedProcess(args='source /project/andrewferguson/armin/grom_new/gromacs-2021.6/installed-files-gpu2/bin/GMXRC; gmx editconf -f /scratch/midway2/arminsh/PINES_test/pines_tutorial/data/0.unbiased/2_em/nvt.gro -o /scratch/midway2/arminsh/PINES_test/pines_tutorial/data/0.unbiased/2_em/nvt.pdb', returncode=0)"
      ]
     },
     "execution_count": 27,
     "metadata": {},
     "output_type": "execute_result"
    }
   ],
   "source": [
    "subprocess.run(f\"{GMX_EXEC} grompp -f {EM_DIR}/nvt.mdp -c {EM_DIR}/em.gro -p {EM_DIR}/topol.top -o {EM_DIR}/nvt.tpr -maxwarn 3\", shell=True)\n",
    "with cd(f\"{EM_DIR}\"):\n",
    "    subprocess.run(f\"{GMX_EXEC} mdrun -deffnm nvt\", shell=True)\n",
    "\n",
    "# creating the refrence PDB file\n",
    "subprocess.run(f\"{GMX_EXEC} editconf -f {EM_DIR}/nvt.gro -o {EM_DIR}/nvt.pdb\", shell=True)"
   ]
  },
  {
   "cell_type": "markdown",
   "metadata": {},
   "source": [
    "## 2_md\n",
    "\n",
    "50 ns NVT production run for seeding the autoencoder"
   ]
  },
  {
   "cell_type": "code",
   "execution_count": 10,
   "metadata": {},
   "outputs": [],
   "source": [
    "MD_DIR = BASE_DIR/\"data\"/\"0.unbiased\"/\"3_md\""
   ]
  },
  {
   "cell_type": "code",
   "execution_count": 30,
   "metadata": {},
   "outputs": [
    {
     "name": "stderr",
     "output_type": "stream",
     "text": [
      "               :-) GROMACS - gmx grompp, 2021.6-plumed-2.8.3 (-:\n",
      "\n",
      "                            GROMACS is written by:\n",
      "     Andrey Alekseenko              Emile Apol              Rossen Apostolov     \n",
      "         Paul Bauer           Herman J.C. Berendsen           Par Bjelkmar       \n",
      "       Christian Blau           Viacheslav Bolnykh             Kevin Boyd        \n",
      "     Aldert van Buuren           Rudi van Drunen             Anton Feenstra      \n",
      "    Gilles Gouaillardet             Alan Gray               Gerrit Groenhof      \n",
      "       Anca Hamuraru            Vincent Hindriksen          M. Eric Irrgang      \n",
      "      Aleksei Iupinov           Christoph Junghans             Joe Jordan        \n",
      "    Dimitrios Karkoulis            Peter Kasson                Jiri Kraus        \n",
      "      Carsten Kutzner              Per Larsson              Justin A. Lemkul     \n",
      "       Viveca Lindahl            Magnus Lundborg             Erik Marklund       \n",
      "        Pascal Merz             Pieter Meulenhoff            Teemu Murtola       \n",
      "        Szilard Pall               Sander Pronk              Roland Schulz       \n",
      "       Michael Shirts            Alexey Shvetsov             Alfons Sijbers      \n",
      "       Peter Tieleman              Jon Vincent              Teemu Virolainen     \n",
      "     Christian Wennberg            Maarten Wolf              Artem Zhmurov       \n",
      "                           and the project leaders:\n",
      "        Mark Abraham, Berk Hess, Erik Lindahl, and David van der Spoel\n",
      "\n",
      "Copyright (c) 1991-2000, University of Groningen, The Netherlands.\n",
      "Copyright (c) 2001-2022, The GROMACS development team at\n",
      "Uppsala University, Stockholm University and\n",
      "the Royal Institute of Technology, Sweden.\n",
      "check out http://www.gromacs.org for more information.\n",
      "\n",
      "GROMACS is free software; you can redistribute it and/or modify it\n",
      "under the terms of the GNU Lesser General Public License\n",
      "as published by the Free Software Foundation; either version 2.1\n",
      "of the License, or (at your option) any later version.\n",
      "\n",
      "GROMACS:      gmx grompp, version 2021.6-plumed-2.8.3\n",
      "Executable:   /project/andrewferguson/armin/grom_new/gromacs-2021.6/installed-files-gpu2/bin/gmx\n",
      "Data prefix:  /project/andrewferguson/armin/grom_new/gromacs-2021.6/installed-files-gpu2\n",
      "Working dir:  /scratch/midway2/arminsh/PINES_test/pines_tutorial\n",
      "Command line:\n",
      "  gmx grompp -f /scratch/midway2/arminsh/PINES_test/pines_tutorial/data/0.unbiased/3_md/md.mdp -c /scratch/midway2/arminsh/PINES_test/pines_tutorial/data/0.unbiased/3_md/nvt.gro -t /scratch/midway2/arminsh/PINES_test/pines_tutorial/data/0.unbiased/3_md/nvt.cpt -p /scratch/midway2/arminsh/PINES_test/pines_tutorial/data/0.unbiased/3_md/topol.top -o /scratch/midway2/arminsh/PINES_test/pines_tutorial/data/0.unbiased/3_md/md.tpr -maxwarn 2\n",
      "\n",
      "Ignoring obsolete mdp entry 'title'\n",
      "Ignoring obsolete mdp entry 'ns_type'\n",
      "Generating 1-4 interactions: fudge = 0.5\n",
      "Number of degrees of freedom in T-Coupling group Water_and_ions is 3051.00\n",
      "\r",
      "Last frame         -1 time  100.000   \n",
      "\n",
      "GROMACS reminds you: \"I'm a strong believer that ignorance is important in science. If you know too much, you start seeing reasons why things won't work. That's why its important to change your field to collect more ignorance.\" (Sydney Brenner)\n",
      "\n",
      "                :-) GROMACS - gmx mdrun, 2021.6-plumed-2.8.3 (-:\n",
      "\n",
      "                            GROMACS is written by:\n",
      "     Andrey Alekseenko              Emile Apol              Rossen Apostolov     \n",
      "         Paul Bauer           Herman J.C. Berendsen           Par Bjelkmar       \n",
      "       Christian Blau           Viacheslav Bolnykh             Kevin Boyd        \n",
      "     Aldert van Buuren           Rudi van Drunen             Anton Feenstra      \n",
      "    Gilles Gouaillardet             Alan Gray               Gerrit Groenhof      \n",
      "       Anca Hamuraru            Vincent Hindriksen          M. Eric Irrgang      \n",
      "      Aleksei Iupinov           Christoph Junghans             Joe Jordan        \n",
      "    Dimitrios Karkoulis            Peter Kasson                Jiri Kraus        \n",
      "      Carsten Kutzner              Per Larsson              Justin A. Lemkul     \n",
      "       Viveca Lindahl            Magnus Lundborg             Erik Marklund       \n",
      "        Pascal Merz             Pieter Meulenhoff            Teemu Murtola       \n",
      "        Szilard Pall               Sander Pronk              Roland Schulz       \n",
      "       Michael Shirts            Alexey Shvetsov             Alfons Sijbers      \n",
      "       Peter Tieleman              Jon Vincent              Teemu Virolainen     \n",
      "     Christian Wennberg            Maarten Wolf              Artem Zhmurov       \n",
      "                           and the project leaders:\n",
      "        Mark Abraham, Berk Hess, Erik Lindahl, and David van der Spoel\n",
      "\n",
      "Copyright (c) 1991-2000, University of Groningen, The Netherlands.\n",
      "Copyright (c) 2001-2022, The GROMACS development team at\n",
      "Uppsala University, Stockholm University and\n",
      "the Royal Institute of Technology, Sweden.\n",
      "check out http://www.gromacs.org for more information.\n",
      "\n",
      "GROMACS is free software; you can redistribute it and/or modify it\n",
      "under the terms of the GNU Lesser General Public License\n",
      "as published by the Free Software Foundation; either version 2.1\n",
      "of the License, or (at your option) any later version.\n",
      "\n",
      "GROMACS:      gmx mdrun, version 2021.6-plumed-2.8.3\n",
      "Executable:   /project/andrewferguson/armin/grom_new/gromacs-2021.6/installed-files-gpu2/bin/gmx\n",
      "Data prefix:  /project/andrewferguson/armin/grom_new/gromacs-2021.6/installed-files-gpu2\n",
      "Working dir:  /scratch/midway2/arminsh/PINES_test/pines_tutorial/data/0.unbiased/3_md\n",
      "Command line:\n",
      "  gmx mdrun -deffnm md\n",
      "\n"
     ]
    },
    {
     "name": "stdout",
     "output_type": "stream",
     "text": [
      "Setting the LD random seed to 1989147607\n",
      "\n",
      "Generated 2211 of the 2211 non-bonded parameter combinations\n",
      "\n",
      "Generated 2211 of the 2211 1-4 parameter combinations\n",
      "\n",
      "Excluding 2 bonded neighbours molecule type 'SOL'\n",
      "\n",
      "turning H bonds into constraints...\n",
      "\n",
      "Excluding 1 bonded neighbours molecule type 'NA'\n",
      "\n",
      "turning H bonds into constraints...\n",
      "\n",
      "Excluding 1 bonded neighbours molecule type 'CL'\n",
      "\n",
      "turning H bonds into constraints...\n",
      "Analysing residue names:\n",
      "There are:   508      Water residues\n",
      "There are:     2        Ion residues\n",
      "Analysing residues not classified as Protein/DNA/RNA/Water and splitting into groups...\n",
      "\n",
      "Determining Verlet buffer for a tolerance of 0.005 kJ/mol/ps at 300 K\n",
      "\n",
      "Calculated rlist for 1x1 atom pair-list as 1.035 nm, buffer size 0.035 nm\n",
      "\n",
      "Set rlist, assuming 4x4 atom pair-list, to 1.000 nm, buffer size 0.000 nm\n",
      "\n",
      "Note that mdrun will redetermine rlist based on the actual pair-list setup\n",
      "\n",
      "Reading Coordinates, Velocities and Box size from old trajectory\n",
      "\n",
      "Will read whole trajectory\n",
      "\n",
      "Using frame at t = 100 ps\n",
      "\n",
      "Starting time for run is 0 ps\n",
      "Calculating fourier grid dimensions for X Y Z\n",
      "Using a fourier grid of 16x16x16, spacing 0.156 0.156 0.156\n",
      "\n",
      "Estimate for the relative computational load of the PME mesh part: 0.22\n",
      "\n",
      "This run will generate roughly 2 Mb of data\n"
     ]
    },
    {
     "name": "stderr",
     "output_type": "stream",
     "text": [
      "Reading file md.tpr, VERSION 2021.6-plumed-2.8.3 (single precision)\n",
      "\n",
      "NOTE: Parallelization is limited by the small number of atoms,\n",
      "      only starting 4 thread-MPI ranks.\n",
      "      You can use the -nt and/or -ntmpi option to optimize the number of threads.\n",
      "\n",
      "Changing nstlist from 10 to 100, rlist from 1 to 1.16\n",
      "\n",
      "On host midway2-gpu02.rcc.local 4 GPUs selected for this run.\n",
      "Mapping of GPU IDs to the 4 GPU tasks in the 4 ranks on this node:\n",
      "  PP:0,PP:1,PP:2,PP:3\n",
      "PP tasks will do (non-perturbed) short-ranged interactions on the GPU\n",
      "PP task will update and constrain coordinates on the CPU\n",
      "Using 4 MPI threads\n",
      "Using 7 OpenMP threads per tMPI thread\n",
      "\n",
      "\n",
      "NOTE: DLB will not turn on during the first phase of PME tuning\n",
      "starting mdrun 'Ion pair in solution in water'\n",
      "125000 steps,    250.0 ps.\n",
      "\n",
      "NOTE: DLB can now turn on, when beneficial\n",
      "\n",
      "Writing final coordinates.\n",
      "\n",
      "\n",
      "Dynamic load balancing report:\n",
      " DLB was off during the run due to low measured imbalance.\n",
      " Average load imbalance: 1.0%.\n",
      " The balanceable part of the MD step is 52%, load imbalance is computed from this.\n",
      " Part of the total run time spent waiting due to load imbalance: 0.5%.\n",
      "\n",
      "\n",
      "               Core t (s)   Wall t (s)        (%)\n",
      "       Time:      730.028       26.073     2800.0\n",
      "                 (ns/day)    (hour/ns)\n",
      "Performance:      828.458        0.029\n",
      "\n",
      "GROMACS reminds you: \"Heard a talk introducing a new language called Swift, from a guy named Wozniak, and it had nothing to do with Apple!\" (Adam Cadien)\n",
      "\n"
     ]
    }
   ],
   "source": [
    "subprocess.run(f\"cp {EM_DIR}/nvt.gro {EM_DIR}/nvt.cpt {EM_DIR}/topol.top {MD_DIR}/.\", shell=True)\n",
    "subprocess.run(f\"{GMX_EXEC} grompp -f {MD_DIR}/md.mdp -c {MD_DIR}/nvt.gro -t {MD_DIR}/nvt.cpt -p {MD_DIR}/topol.top -o {MD_DIR}/md.tpr -maxwarn 2\", shell=True)\n",
    "with cd(f\"{MD_DIR}\"):\n",
    "    subprocess.run(f\"{GMX_EXEC} mdrun -deffnm md\", shell=True)"
   ]
  },
  {
   "cell_type": "markdown",
   "metadata": {},
   "source": [
    "After running the simulations, we need to perform a pbc correction to make sure all the molecules inside the box are whole."
   ]
  },
  {
   "cell_type": "code",
   "execution_count": 31,
   "metadata": {},
   "outputs": [
    {
     "name": "stdout",
     "output_type": "stream",
     "text": [
      "Note that major changes are planned in future for trjconv, to improve usability and utility.\n",
      "Select group for output\n",
      "Selected 0: 'System'\n"
     ]
    },
    {
     "name": "stderr",
     "output_type": "stream",
     "text": [
      "               :-) GROMACS - gmx trjconv, 2021.6-plumed-2.8.3 (-:\n",
      "\n",
      "                            GROMACS is written by:\n",
      "     Andrey Alekseenko              Emile Apol              Rossen Apostolov     \n",
      "         Paul Bauer           Herman J.C. Berendsen           Par Bjelkmar       \n",
      "       Christian Blau           Viacheslav Bolnykh             Kevin Boyd        \n",
      "     Aldert van Buuren           Rudi van Drunen             Anton Feenstra      \n",
      "    Gilles Gouaillardet             Alan Gray               Gerrit Groenhof      \n",
      "       Anca Hamuraru            Vincent Hindriksen          M. Eric Irrgang      \n",
      "      Aleksei Iupinov           Christoph Junghans             Joe Jordan        \n",
      "    Dimitrios Karkoulis            Peter Kasson                Jiri Kraus        \n",
      "      Carsten Kutzner              Per Larsson              Justin A. Lemkul     \n",
      "       Viveca Lindahl            Magnus Lundborg             Erik Marklund       \n",
      "        Pascal Merz             Pieter Meulenhoff            Teemu Murtola       \n",
      "        Szilard Pall               Sander Pronk              Roland Schulz       \n",
      "       Michael Shirts            Alexey Shvetsov             Alfons Sijbers      \n",
      "       Peter Tieleman              Jon Vincent              Teemu Virolainen     \n",
      "     Christian Wennberg            Maarten Wolf              Artem Zhmurov       \n",
      "                           and the project leaders:\n",
      "        Mark Abraham, Berk Hess, Erik Lindahl, and David van der Spoel\n",
      "\n",
      "Copyright (c) 1991-2000, University of Groningen, The Netherlands.\n",
      "Copyright (c) 2001-2022, The GROMACS development team at\n",
      "Uppsala University, Stockholm University and\n",
      "the Royal Institute of Technology, Sweden.\n",
      "check out http://www.gromacs.org for more information.\n",
      "\n",
      "GROMACS is free software; you can redistribute it and/or modify it\n",
      "under the terms of the GNU Lesser General Public License\n",
      "as published by the Free Software Foundation; either version 2.1\n",
      "of the License, or (at your option) any later version.\n",
      "\n",
      "GROMACS:      gmx trjconv, version 2021.6-plumed-2.8.3\n",
      "Executable:   /project/andrewferguson/armin/grom_new/gromacs-2021.6/installed-files-gpu2/bin/gmx\n",
      "Data prefix:  /project/andrewferguson/armin/grom_new/gromacs-2021.6/installed-files-gpu2\n",
      "Working dir:  /scratch/midway2/arminsh/PINES_test/pines_tutorial/data/0.unbiased/3_md\n",
      "Command line:\n",
      "  gmx trjconv -f md.xtc -s md.tpr -o md_whole.xtc -pbc whole\n",
      "\n",
      "Will write xtc: Compressed trajectory (portable xdr format): xtc\n",
      "Reading file md.tpr, VERSION 2021.6-plumed-2.8.3 (single precision)\n",
      "Reading file md.tpr, VERSION 2021.6-plumed-2.8.3 (single precision)\n",
      "Group     0 (         System) has  1526 elements\n",
      "Group     1 (          Water) has  1524 elements\n",
      "Group     2 (            SOL) has  1524 elements\n",
      "Group     3 (      non-Water) has     2 elements\n",
      "Group     4 (            Ion) has     2 elements\n",
      "Group     5 (             NA) has     1 elements\n",
      "Group     6 (             CL) has     1 elements\n",
      "Group     7 ( Water_and_ions) has  1526 elements\n",
      "Select a group: \r",
      "Reading frame       0 time    0.000   \n",
      "Precision of md.xtc is 0.001 (nm)\n",
      "Using output precision of 0.001 (nm)\n",
      " ->  frame      0 time    0.000      \r",
      "\r",
      "Reading frame       1 time    2.000    ->  frame      1 time    2.000      \r",
      "\r",
      "Reading frame       2 time    4.000    ->  frame      2 time    4.000      \r",
      "\r",
      "Reading frame       3 time    6.000    ->  frame      3 time    6.000      \r",
      "\r",
      "Reading frame       4 time    8.000    ->  frame      4 time    8.000      \r",
      "\r",
      "Reading frame       5 time   10.000    ->  frame      5 time   10.000      \r",
      "\r",
      "Reading frame       6 time   12.000    ->  frame      6 time   12.000      \r",
      "\r",
      "Reading frame       7 time   14.000    ->  frame      7 time   14.000      \r",
      "\r",
      "Reading frame       8 time   16.000    ->  frame      8 time   16.000      \r",
      "\r",
      "Reading frame       9 time   18.000    ->  frame      9 time   18.000      \r",
      "\r",
      "Reading frame      10 time   20.000    ->  frame     10 time   20.000      \r",
      "\r",
      "Reading frame      11 time   22.000   \r",
      "Reading frame      12 time   24.000   \r",
      "Reading frame      13 time   26.000   \r",
      "Reading frame      14 time   28.000   \r",
      "Reading frame      15 time   30.000   \r",
      "Reading frame      16 time   32.000   \r",
      "Reading frame      17 time   34.000   \r",
      "Reading frame      18 time   36.000   \r",
      "Reading frame      19 time   38.000   \r",
      "Reading frame      20 time   40.000    ->  frame     20 time   40.000      \r",
      "\r",
      "Reading frame      30 time   60.000    ->  frame     30 time   60.000      \r",
      "\r",
      "Reading frame      40 time   80.000    ->  frame     40 time   80.000      \r",
      "\r",
      "Reading frame      50 time  100.000    ->  frame     50 time  100.000      \r",
      "\r",
      "Reading frame      60 time  120.000    ->  frame     60 time  120.000      \r",
      "\r",
      "Reading frame      70 time  140.000    ->  frame     70 time  140.000      \r",
      "\r",
      "Reading frame      80 time  160.000    ->  frame     80 time  160.000      \r",
      "\r",
      "Reading frame      90 time  180.000    ->  frame     90 time  180.000      \r",
      "\r",
      "Reading frame     100 time  200.000    ->  frame    100 time  200.000      \r",
      "\r",
      "Reading frame     110 time  220.000    ->  frame    110 time  220.000      \r",
      "\r",
      "Reading frame     120 time  240.000    ->  frame    120 time  240.000      \r\n",
      "\n",
      "\n",
      "GROMACS reminds you: \"NASA spent millions of dollars inventing the ball-point pen so they could write in space. The Russians took a pencil.\" (Will Chabot)\n",
      "\n"
     ]
    }
   ],
   "source": [
    "with cd(f\"{MD_DIR}\"):\n",
    "    subprocess.run(f\"\"\"{GMX_EXEC} trjconv -f md.xtc -s md.tpr -o md_whole.xtc -pbc whole << EOF\n",
    "0\n",
    "EOF\"\"\"\n",
    ", shell=True)"
   ]
  },
  {
   "cell_type": "markdown",
   "metadata": {},
   "source": [
    "# Calculating PIVs\n",
    "\n",
    "The PIV featurization is constructed from pairwise distances and is naturally invariant to rigid translation and rotation. Conceptually, the PIV can be approximately conceived as an instantaneous pair correlation function corresponding to a particular configuration of the molecular system. To make PIVs permutationally invariant, they are constructed in three steps (Fig. 2):"
   ]
  },
  {
   "cell_type": "markdown",
   "metadata": {},
   "source": [
    "1. <ins>Distance matrix</ins> ($a_{ij}$): We first construct a distance matrix populated with the Euclidean pairwise distances between atoms in the system. The distance matrix is then ordered into a block structure where each “block” contains the pairwise distances of a pair of atom types. Here, atom types refer to all atoms that share a chemical identity, following the conventional terminology of force fields. For example, for our system with O, H, Na, and Cl atoms, the distance matrix can have up to 10 blocks: O-O, O-H, O-Cl, Na-O, H-H, Cl-H, Na-H, Na-Na, Na-Cl, Cl-Cl. Each block contains the distances $a_{ij}$ corresponding to the atom-type pairs. Because our goal is to study the Na-Cl ion pair association or disassociation, we will only focus on the blocks involving the ion, i.e., Na-Cl, Na-O, Na-H, Cl-O, and Cl-H.\n",
    "\n",
    "2. <ins>Normalization</ins>: We pass the adjacency matrix through a rational switching function\n",
    "$$V_{ij} = \\frac{1-\\left ( \\frac{a_{ij} - d_0}{r^{\\text{block}}_0} \\right )^n}{1-\\left ( \\frac{a_{ij} - d_0}{r^{\\text{block}}_0} \\right )^m}$$\n",
    "\n",
    "where $d_0$ is the minimum interparticle distance, $r^{\\text{block}}_0$ is the interparticle distance, which is the midpoint of the switching function, and $n$ and $m$ are non-negative numbers controlling the steepness of the switching function. The switching function scales the distances to the (0, 1) interval, where values closer to 1 indicate atoms nearby and 0 indicates atom pairs that are far away. The switching range can be controlled through the switching function parameters $n$, $m$, $r^{\\text{block}}_0$, and $d_0$. These parameters can be appropriately selected using the radial distribution function (RDF) between the atoms corresponding to a given block in the distance matrix. In brief, we estimate the RDF profiles from the seed simulation. We set $r^{\\text{block}}_0$ to be the mean of the first and second peaks of the solvation shell from the RDF. $n$ is tuned so that $v_{ij}$ for the pairwise distance at the first peak is close to 0.9, and the $v_{ij}$ value for the pairwise distance at the second peak is close to 0.1. For our system, $d_0$ is set to 0 and $m=2n$. Please see the PINES paper for more details on selecting and the significance of tuning these parameters.\n",
    "\n",
    "<figure align=\"center\">\n",
    "  <img src=\"./notebook_src/piv_des.png\" alt=\"RDF plots\">\n",
    "  <figcaption>Fig. 2: The RDF plot calculated from the seeding simulations. The parameters of the PIV block are calculated using the solvation information from the RDF plot. (a) The RDF plot with the contact pair, and solvant coordination peaks marked as blue and yellow. The switching function shown in (b) is tuned to capture the solvation shells and the transition state (marked red). Figure adapted from 10.1021/acs.jctc.3c00923, copyright ACS.\n",
    "</figcaption>\n",
    "</figure>\n",
    "\n",
    "3. <ins>Removing permutational invariances</ins>(Sorting): We sort $v_{ij}$ in each block of the adjacency matrix and concatenate them into a single vector to produce the PIV. This step is critical in forming a permutationally invariant representation of the system.\n",
    "\n",
    "<figure align=\"center\">\n",
    "  <img src=\"./notebook_src/pines2.png\" alt=\"PIV calculation\">\n",
    "  <figcaption>Fig. 3:  Illustration of the procedure to construct PIV of the NaCl ion pair in the water system. (a) Illustration of NaCl ion pairs with two of the closest water molecules. Na, Cl, O, and H atoms are colored in grey, green, red, and white, respectively. (b) Construction of the distance matrix with elements a<sub>ij</sub>. The distance matrix is ordered into a block structure where each “block” (different colors) contains the pairwise distances of a pair of atom types. Because our goal is to study the Na-Cl ion pair association or disassociation, we focus on the blocks with cross-pair atoms involving the ion, i.e., Na-Cl, Na-O, Na-H, Cl-O, and Cl-H. (c) Construction of the adjacency matrix with elements v<sub>ij</sub> by wrapping the distance matrix with a switching function. This helps in normalizing the pairwise distances. (d) Construction of PIV is done by sorting v<sub>ij</sub> in each block of the adjacency matrix and through vectorization. Figure adapted from 10.1021/acs.jctc.3c00923, copyright ACS.\n",
    "</figcaption>\n",
    "</figure>\n",
    "\n",
    "The PINES code in PLUMED allows efficient construction of PIV from a biased or unbiased MD trajectory. In this notebook, you will find a template PLUMED file that can be used to construct PIV for the NaCl system."
   ]
  },
  {
   "cell_type": "markdown",
   "metadata": {},
   "source": [
    "## PLUMED input file\n",
    "\n",
    "We use the `PINES` module in `PLUMED` to calculate the PIV values. We are also calculating the distance between the two ions, as well as Na's coordination number for visualization and validation later on."
   ]
  },
  {
   "cell_type": "code",
   "execution_count": 58,
   "metadata": {},
   "outputs": [],
   "source": [
    "PIV_DIR = BASE_DIR/\"data\"/\"0.unbiased\"/\"4_calcPIV\""
   ]
  },
  {
   "cell_type": "code",
   "execution_count": 60,
   "metadata": {},
   "outputs": [],
   "source": [
    "PLUMED_PINES = \"\"\"\n",
    "# Distance between Na and Cl atoms\n",
    "dist: DISTANCE ATOMS=1525,1526\n",
    "\n",
    "# Solvation of Na atom\n",
    "COORDINATION ...\n",
    "  LABEL=coord\n",
    "  GROUPA=1525\n",
    "  GROUPB=1-1524:3\n",
    "  SWITCH={RATIONAL R_0=0.315 D_MAX=0.5 NN=12 MM=24}\n",
    "  NLIST\n",
    "  NL_CUTOFF=0.55\n",
    "  NL_STRIDE=10\n",
    "... COORDINATION\n",
    "\n",
    "PINES ...\n",
    "LABEL=pines\n",
    "PRECISION=10000\n",
    "NLIST\n",
    "ONLYCROSS\n",
    "REF_FILE=nvt.pdb\n",
    "PINESATOMS=5\n",
    "ATOMTYPES=NA,CL,OW,HW1,HW2\n",
    "SFACTOR=1.0,1.0,1.0,1.0,1.0\n",
    "SORT=1.0,1.0,1.0,1.0,1.0\n",
    "SWITCH1={RATIONAL R_0=0.38 MM=12 NN=6}\n",
    "SWITCH2={RATIONAL R_0=0.35 MM=12 NN=6}\n",
    "SWITCH3={RATIONAL R_0=0.41 MM=12 NN=6}\n",
    "SWITCH4={RATIONAL R_0=0.40 MM=12 NN=6}\n",
    "SWITCH5={RATIONAL R_0=0.28 MM=12 NN=6}\n",
    "NL_CUTOFF=5.0,1.5,1.5,1.5,1.5\n",
    "NL_STRIDE=1.0,1.0,1.0,1.0,1.0\n",
    "NL_SKIN=0.1,0.1,0.1,0.1,0.1\n",
    "NL_CONSTANT_SIZE=15\n",
    "WRITEPINESTRAJ\n",
    "WRITEPINESSTRIDE=100000000\n",
    "... PINES\n",
    "\n",
    "\n",
    "PRINT ARG=dist,coord,pines.* FILE=colvar STRIDE=1\n",
    "\"\"\""
   ]
  },
  {
   "cell_type": "markdown",
   "metadata": {},
   "source": [
    "## Description of the options used:\n",
    "`LABEL`: Label for referencing this module elsewhere in the PLUMED file.\n",
    "\n",
    "`PRECISION`: For applying integer sorting algorithm. Precision is used to convert floats to integers. For example, a precision of 100000 implies a float of 0.9999 is 9999. Similarly, a float of 0.99999 to 9999. A minimum of `PRECISION=100` is required.\n",
    "\n",
    "`NLIST`: Switch for using a neighbor list for distance calculations rather than calculating all pairwise-distances.\n",
    "\n",
    "`ONLYCROSS`: Consider atoms pairs of different atom types in constructing PIV. Other supported value is `ONLYDIRECT`, which considers identical atom type pairs for constructing PIV. `ONLYDIRECT` is suitable for Argon system containing identical particles and is tested only with that system.\n",
    "\n",
    "`REF_FILE`: Input reference PDB file. It should contain the same order of atoms with same indices as the structure file used for performing the simulations. Atom names in PDB could be modified as needed to define the `ATOMTYPES` values set below for constructing the PIV.\n",
    "\n",
    "`PINESATOMS`: Total number of atom types. This is the same as the length of `ATOMTYPES` and is used for detecting errors in ATOMTYPES declaration.\n",
    "\n",
    "`ATOMTYPES`: All atomtypes of solute + solvent for defining the blocks in PIV. In the `ONLYCROSS` case, the order of the final PIV is based on the sequence of the atom types defined here.\n",
    "\n",
    "`SFACTOR`: Scaling factor for the PIV values (not implemented in the current version of PINES). Should be the same size as of number of blocks = (`PINESATOMS`-3)x(`PINESATOMS`-3)x0.5 + (`PINESATOMS`-3) + (`PINESATOMS`-3).\n",
    "\n",
    "`SORT`: Whether to sort each block of the PIV or not. Should be the same size as of number of blocks.\n",
    "\n",
    "`SWITCH*`: Parameters of the switching functions for each block. There should be one `SWITCH*` command per block. Parameters of the switching function are specified as `{func_type R_0=X MM=X NN=X}`.\n",
    "\n",
    "`NL_CUTOFF`: Neighbor list cutoff for each element in PIV. Same size as nelements. Use a small value but update the neighbor list frequently, which can be expensive. Alternatively, use a high value and update less frequently to save computational time.\n",
    "\n",
    "`NL_STRIDE`: Frequency to update neighbor list.\n",
    "\n",
    "`NL_SKIN`: Additional buffer cutoff to nl_cutoff. Neighborlist reconstruction is triggered if atoms move out of a radius equal to nlcutoff+skin.\n",
    "\n",
    "`NL_CONSTANT_SIZE`: Number of oxygen and hydrogen atoms to retain in each solute-solvent block of PIV.\n",
    "\n",
    "`WRITEPINESTRAJ`: Write PIV in each frame.\n",
    "\n",
    "`WRITEPINESSTRIDE`: The stride at which the PIV frames are written.\n",
    "\n",
    "More detailed description of the options are also available on the PINES github page. See the resources list at the end of this notebook."
   ]
  },
  {
   "cell_type": "code",
   "execution_count": 63,
   "metadata": {},
   "outputs": [],
   "source": [
    "with open(f\"{PIV_DIR}/plumed_calcPIV.dat\", \"w\") as f:\n",
    "    f.write(PLUMED_PINES)"
   ]
  },
  {
   "cell_type": "markdown",
   "metadata": {},
   "source": [
    "## Run PLUMED to get PIVs"
   ]
  },
  {
   "cell_type": "code",
   "execution_count": 64,
   "metadata": {},
   "outputs": [],
   "source": [
    "# copy nvt.pdb over and call plumed driver on the trajectory to get the PIVs\n",
    "subprocess.run(f\"cp {EM_DIR}/nvt.pdb {PIV_DIR}/nvt.pdb\", shell=True)\n",
    "with cd(f\"{PIV_DIR}\"):\n",
    "    subprocess.run(f\"{PLUMED_EXEC} driver --plumed plumed_calcPIV.dat --mf_xtc {MD_DIR}/md_whole.xtc >& out.out\", shell=True)"
   ]
  },
  {
   "cell_type": "markdown",
   "metadata": {},
   "source": [
    "Read in the PLUMED outputs and clean up"
   ]
  },
  {
   "cell_type": "code",
   "execution_count": 66,
   "metadata": {},
   "outputs": [
    {
     "data": {
      "text/html": [
       "<div>\n",
       "<style scoped>\n",
       "    .dataframe tbody tr th:only-of-type {\n",
       "        vertical-align: middle;\n",
       "    }\n",
       "\n",
       "    .dataframe tbody tr th {\n",
       "        vertical-align: top;\n",
       "    }\n",
       "\n",
       "    .dataframe thead th {\n",
       "        text-align: right;\n",
       "    }\n",
       "</style>\n",
       "<table border=\"1\" class=\"dataframe\">\n",
       "  <thead>\n",
       "    <tr style=\"text-align: right;\">\n",
       "      <th></th>\n",
       "      <th>3</th>\n",
       "      <th>4</th>\n",
       "      <th>5</th>\n",
       "      <th>6</th>\n",
       "      <th>7</th>\n",
       "      <th>8</th>\n",
       "      <th>9</th>\n",
       "      <th>10</th>\n",
       "      <th>11</th>\n",
       "      <th>12</th>\n",
       "      <th>...</th>\n",
       "      <th>84</th>\n",
       "      <th>85</th>\n",
       "      <th>86</th>\n",
       "      <th>87</th>\n",
       "      <th>88</th>\n",
       "      <th>89</th>\n",
       "      <th>90</th>\n",
       "      <th>91</th>\n",
       "      <th>92</th>\n",
       "      <th>93</th>\n",
       "    </tr>\n",
       "  </thead>\n",
       "  <tbody>\n",
       "    <tr>\n",
       "      <th>0</th>\n",
       "      <td>0.0001</td>\n",
       "      <td>0.157416</td>\n",
       "      <td>0.159416</td>\n",
       "      <td>0.183118</td>\n",
       "      <td>0.186219</td>\n",
       "      <td>0.211921</td>\n",
       "      <td>0.297530</td>\n",
       "      <td>0.303930</td>\n",
       "      <td>0.311031</td>\n",
       "      <td>0.313531</td>\n",
       "      <td>...</td>\n",
       "      <td>0.246625</td>\n",
       "      <td>0.366037</td>\n",
       "      <td>0.454645</td>\n",
       "      <td>0.604160</td>\n",
       "      <td>0.605161</td>\n",
       "      <td>0.629563</td>\n",
       "      <td>0.809881</td>\n",
       "      <td>0.815682</td>\n",
       "      <td>0.849085</td>\n",
       "      <td>0.864286</td>\n",
       "    </tr>\n",
       "    <tr>\n",
       "      <th>1</th>\n",
       "      <td>0.0002</td>\n",
       "      <td>0.177018</td>\n",
       "      <td>0.204120</td>\n",
       "      <td>0.211221</td>\n",
       "      <td>0.214821</td>\n",
       "      <td>0.221022</td>\n",
       "      <td>0.226223</td>\n",
       "      <td>0.238024</td>\n",
       "      <td>0.249325</td>\n",
       "      <td>0.822282</td>\n",
       "      <td>...</td>\n",
       "      <td>0.229623</td>\n",
       "      <td>0.242324</td>\n",
       "      <td>0.295430</td>\n",
       "      <td>0.632763</td>\n",
       "      <td>0.662166</td>\n",
       "      <td>0.771877</td>\n",
       "      <td>0.783678</td>\n",
       "      <td>0.789379</td>\n",
       "      <td>0.824682</td>\n",
       "      <td>0.883288</td>\n",
       "    </tr>\n",
       "    <tr>\n",
       "      <th>2</th>\n",
       "      <td>0.0002</td>\n",
       "      <td>0.160116</td>\n",
       "      <td>0.160116</td>\n",
       "      <td>0.163916</td>\n",
       "      <td>0.174217</td>\n",
       "      <td>0.180318</td>\n",
       "      <td>0.197520</td>\n",
       "      <td>0.213821</td>\n",
       "      <td>0.294029</td>\n",
       "      <td>0.330733</td>\n",
       "      <td>...</td>\n",
       "      <td>0.228723</td>\n",
       "      <td>0.266827</td>\n",
       "      <td>0.299330</td>\n",
       "      <td>0.657666</td>\n",
       "      <td>0.724272</td>\n",
       "      <td>0.741374</td>\n",
       "      <td>0.762576</td>\n",
       "      <td>0.779478</td>\n",
       "      <td>0.781078</td>\n",
       "      <td>0.809681</td>\n",
       "    </tr>\n",
       "    <tr>\n",
       "      <th>3</th>\n",
       "      <td>0.0002</td>\n",
       "      <td>0.161216</td>\n",
       "      <td>0.179018</td>\n",
       "      <td>0.180918</td>\n",
       "      <td>0.193919</td>\n",
       "      <td>0.211221</td>\n",
       "      <td>0.250425</td>\n",
       "      <td>0.255226</td>\n",
       "      <td>0.261126</td>\n",
       "      <td>0.359636</td>\n",
       "      <td>...</td>\n",
       "      <td>0.231123</td>\n",
       "      <td>0.263126</td>\n",
       "      <td>0.372337</td>\n",
       "      <td>0.693369</td>\n",
       "      <td>0.693769</td>\n",
       "      <td>0.723372</td>\n",
       "      <td>0.727173</td>\n",
       "      <td>0.821782</td>\n",
       "      <td>0.854385</td>\n",
       "      <td>0.869387</td>\n",
       "    </tr>\n",
       "    <tr>\n",
       "      <th>4</th>\n",
       "      <td>0.0002</td>\n",
       "      <td>0.160716</td>\n",
       "      <td>0.188219</td>\n",
       "      <td>0.203020</td>\n",
       "      <td>0.226523</td>\n",
       "      <td>0.228923</td>\n",
       "      <td>0.242924</td>\n",
       "      <td>0.250625</td>\n",
       "      <td>0.291029</td>\n",
       "      <td>0.316332</td>\n",
       "      <td>...</td>\n",
       "      <td>0.250625</td>\n",
       "      <td>0.267927</td>\n",
       "      <td>0.317632</td>\n",
       "      <td>0.397040</td>\n",
       "      <td>0.631563</td>\n",
       "      <td>0.671667</td>\n",
       "      <td>0.672367</td>\n",
       "      <td>0.779678</td>\n",
       "      <td>0.864386</td>\n",
       "      <td>0.872087</td>\n",
       "    </tr>\n",
       "  </tbody>\n",
       "</table>\n",
       "<p>5 rows × 91 columns</p>\n",
       "</div>"
      ],
      "text/plain": [
       "       3         4         5         6         7         8         9   \\\n",
       "0  0.0001  0.157416  0.159416  0.183118  0.186219  0.211921  0.297530   \n",
       "1  0.0002  0.177018  0.204120  0.211221  0.214821  0.221022  0.226223   \n",
       "2  0.0002  0.160116  0.160116  0.163916  0.174217  0.180318  0.197520   \n",
       "3  0.0002  0.161216  0.179018  0.180918  0.193919  0.211221  0.250425   \n",
       "4  0.0002  0.160716  0.188219  0.203020  0.226523  0.228923  0.242924   \n",
       "\n",
       "         10        11        12  ...        84        85        86        87  \\\n",
       "0  0.303930  0.311031  0.313531  ...  0.246625  0.366037  0.454645  0.604160   \n",
       "1  0.238024  0.249325  0.822282  ...  0.229623  0.242324  0.295430  0.632763   \n",
       "2  0.213821  0.294029  0.330733  ...  0.228723  0.266827  0.299330  0.657666   \n",
       "3  0.255226  0.261126  0.359636  ...  0.231123  0.263126  0.372337  0.693369   \n",
       "4  0.250625  0.291029  0.316332  ...  0.250625  0.267927  0.317632  0.397040   \n",
       "\n",
       "         88        89        90        91        92        93  \n",
       "0  0.605161  0.629563  0.809881  0.815682  0.849085  0.864286  \n",
       "1  0.662166  0.771877  0.783678  0.789379  0.824682  0.883288  \n",
       "2  0.724272  0.741374  0.762576  0.779478  0.781078  0.809681  \n",
       "3  0.693769  0.723372  0.727173  0.821782  0.854385  0.869387  \n",
       "4  0.631563  0.671667  0.672367  0.779678  0.864386  0.872087  \n",
       "\n",
       "[5 rows x 91 columns]"
      ]
     },
     "execution_count": 66,
     "metadata": {},
     "output_type": "execute_result"
    }
   ],
   "source": [
    "# load the colvar file as a pandas dataframe\n",
    "PIVs = pd.read_csv(f\"{PIV_DIR}/colvar\", sep='\\s+', header=None, skiprows=1)\n",
    "# drop the time column\n",
    "PIVs.drop([0, 1, 2], axis=1, inplace=True)\n",
    "# view the result\n",
    "PIVs.head(5)"
   ]
  },
  {
   "cell_type": "markdown",
   "metadata": {},
   "source": [
    "Save the pandas dataframe as a numpy matrix"
   ]
  },
  {
   "cell_type": "code",
   "execution_count": 75,
   "metadata": {},
   "outputs": [],
   "source": [
    "np.save(f\"{PIV_DIR}/PIVs.npy\", PIVs.to_numpy(float))"
   ]
  },
  {
   "cell_type": "markdown",
   "metadata": {},
   "source": [
    "# Autoencoders: Discovering non-linear and high-variance CVs (`1.nn`)\n",
    "\n",
    "PINES employs autoencoders to determine the low-dimensional embedding of the system spanned by a small number of high-variance CVs. In brief, the autoencoders aim to approximately find a nonlinear mapping between a high-dimensional input and a low-dimensional output. A maximum mean discrepancy Wasserstein autoencoder (MMD-WAE) is applied to learn the nonlinear mapping between the high-dimensional PIV input and the low-dimensional high-variance CVs in PINES. The MMD-WAE architecture, following other autoencoders, consists of an encoder block and a decoder block connected through a bottleneck layer that compresses the information flow from the input. The goal of the decoder is to reconstruct the input data given the compressed representation from the bottleneck layer. This process allows the autoencoder to learn a low-dimensional distribution of the input data effectively. In this notebook, you will find an example of the PyTorch model that can be used to train the MMD-WAE for the NaCl system. PINES then applies principal component analysis (PCA) to the learned hidden variables to find linear combinations with maximum variance. The permutational invariance is built into the discovered hidden variable because the autoencoder is learning to reconstruct the input PIVs, which are permutationally invariant."
   ]
  },
  {
   "cell_type": "code",
   "execution_count": 12,
   "metadata": {},
   "outputs": [],
   "source": [
    "NN_DIR = BASE_DIR/\"data\"/\"1.nn\""
   ]
  },
  {
   "cell_type": "markdown",
   "metadata": {},
   "source": [
    "## Train the autoencoder\n",
    "Here we use the PIVs calculated from the seeding simulations to train our autoencoder."
   ]
  },
  {
   "cell_type": "code",
   "execution_count": 13,
   "metadata": {},
   "outputs": [],
   "source": [
    "DATA_DIR = PIV_DIR/\"PIVs.npy\""
   ]
  },
  {
   "cell_type": "markdown",
   "metadata": {},
   "source": [
    "The architecture of our autoencoder is based on a typical VAE: a 91(input)x64x32x16x`latent_dim`x16x32x64x91(output) FCNN with `Tanh` activation and batchnorm after every layer."
   ]
  },
  {
   "cell_type": "code",
   "execution_count": 15,
   "metadata": {},
   "outputs": [],
   "source": [
    "def fit_model(dim_latent):\n",
    "    with cd(NN_DIR):\n",
    "        subprocess.run(f\"python earlyStop_train_vae.py --latent_dim {dim_latent} --data_dir {DATA_DIR}\", shell=True)\n",
    "        subprocess.run(f\"mv {NN_DIR}/LatentSpace.npy {NN_DIR}/{dim_latent}d_LatentSpace.npy\", shell=True)\n",
    "        subprocess.run(f\"mv {NN_DIR}/ReconstructedPIVs.npy {NN_DIR}/{dim_latent}d_ReconstructedPIVs.npy\", shell=True)\n",
    "        subprocess.run(f\"mv {NN_DIR}/lightning_logs {NN_DIR}/{dim_latent}d_lightning_logs\", shell=True)\n",
    "        print(f\"Training for latent_dim {dim_latent} done.\")"
   ]
  },
  {
   "cell_type": "markdown",
   "metadata": {},
   "source": [
    "We will need to tune the dimensionality of our latent space `latent_dim` to make sure we are capturing all the important information there is in our input data during dimensionality reduction. To do this, We will train eight models with one through eight latent dimensions to identify the elbow in the fraction of variance plots."
   ]
  },
  {
   "cell_type": "code",
   "execution_count": 16,
   "metadata": {},
   "outputs": [
    {
     "name": "stdout",
     "output_type": "stream",
     "text": [
      "Training for latent_dim 8 done.\n"
     ]
    }
   ],
   "source": [
    "for ldim in range(1, 9):\n",
    "    fit_model(ldim)"
   ]
  },
  {
   "cell_type": "markdown",
   "metadata": {},
   "source": [
    "## Model validation"
   ]
  },
  {
   "cell_type": "markdown",
   "metadata": {},
   "source": [
    "As mentioned, we use the fraction of variance explained (FVE) plot to determine the appropriate dimensionality of the latent space. We identify a knee in the FVE plot that indicates the optimal number of bottleneck nodes."
   ]
  },
  {
   "cell_type": "code",
   "execution_count": 17,
   "metadata": {},
   "outputs": [],
   "source": [
    "def FVE(data,recon):\n",
    "    SSerr = ((data - recon)**2).sum()\n",
    "    SStot = ((data - data.mean(axis=0))**2).sum()\n",
    "    fve = 1 - (SSerr/SStot)\n",
    "    return fve\n",
    "\n",
    "def piecewise_linear(x, x0, y0, k1, k2):\n",
    "    return np.piecewise(x, [x < x0], [lambda x:k1*x + y0-k1*x0, lambda x:k2*x + y0-k2*x0])"
   ]
  },
  {
   "cell_type": "code",
   "execution_count": 18,
   "metadata": {},
   "outputs": [
    {
     "data": {
      "image/png": "[encoded data removed]",
      "text/plain": [
       "<Figure size 1000x600 with 1 Axes>"
      ]
     },
     "metadata": {},
     "output_type": "display_data"
    }
   ],
   "source": [
    "plt.figure(figsize=(10, 6), dpi=100)\n",
    "\n",
    "input_data = np.load(f\"{PIV_DIR}/PIVs.npy\", allow_pickle=True)\n",
    "d1 = np.load(f\"{NN_DIR}/1d_ReconstructedPIVs.npy\")\n",
    "d2 = np.load(f\"{NN_DIR}/2d_ReconstructedPIVs.npy\")\n",
    "d3 = np.load(f\"{NN_DIR}/3d_ReconstructedPIVs.npy\")\n",
    "d4 = np.load(f\"{NN_DIR}/4d_ReconstructedPIVs.npy\")\n",
    "d5 = np.load(f\"{NN_DIR}/5d_ReconstructedPIVs.npy\")\n",
    "d6 = np.load(f\"{NN_DIR}/6d_ReconstructedPIVs.npy\")\n",
    "d7 = np.load(f\"{NN_DIR}/7d_ReconstructedPIVs.npy\")\n",
    "d8 = np.load(f\"{NN_DIR}/8d_ReconstructedPIVs.npy\")\n",
    "\n",
    "# Calculate FVE dimensions\n",
    "fve_dims = [FVE(input_data, d) for d in [d1, d2, d3, d4, d5, d6, d7, d8]]\n",
    "x = np.arange(8)\n",
    "y = np.array(fve_dims)\n",
    "\n",
    "# Fit and plot\n",
    "p, _ = optimize.curve_fit(piecewise_linear, x, y)\n",
    "xd = np.linspace(0, 7, 100)\n",
    "\n",
    "plt.plot(x, y, \"o\", label='FVE Data')\n",
    "plt.plot(xd, piecewise_linear(xd, *p), label='Piecewise Linear Fit')\n",
    "plt.xlabel(\"K Bottleneck nodes\")\n",
    "plt.ylabel(\"FVE\")\n",
    "plt.legend()\n",
    "plt.tight_layout()\n",
    "plt.show()"
   ]
  },
  {
   "cell_type": "markdown",
   "metadata": {},
   "source": [
    "## Output model weights for PLUMED"
   ]
  },
  {
   "cell_type": "markdown",
   "metadata": {},
   "source": [
    "Now that we have our trained model, we need to extract the learned weights and import them into PLUMED. We are going to load the latest checkpoint of our model chosen based on the knee of the plot above, perform PCA, and write the weights of the model to a file so we can read it inside PLUMED's `ANN` module."
   ]
  },
  {
   "cell_type": "markdown",
   "metadata": {},
   "source": [
    "We need the location of the latest checkpoint file from training to extract the weights."
   ]
  },
  {
   "cell_type": "code",
   "execution_count": 17,
   "metadata": {},
   "outputs": [],
   "source": [
    "CKPT_DIR = NN_DIR/\"lightning_logs\"/\"version_43122898\"/\"checkpoints\"/\"epoch=17-step=18.ckpt\""
   ]
  },
  {
   "cell_type": "markdown",
   "metadata": {},
   "source": [
    "We will now load the weights from the trained model"
   ]
  },
  {
   "cell_type": "code",
   "execution_count": 18,
   "metadata": {},
   "outputs": [
    {
     "name": "stderr",
     "output_type": "stream",
     "text": [
      "/tmp/jobs/43127271/ipykernel_46462/4137612866.py:1: FutureWarning: You are using `torch.load` with `weights_only=False` (the current default value), which uses the default pickle module implicitly. It is possible to construct malicious pickle data which will execute arbitrary code during unpickling (See https://github.com/pytorch/pytorch/blob/main/SECURITY.md#untrusted-models for more details). In a future release, the default value for `weights_only` will be flipped to `True`. This limits the functions that could be executed during unpickling. Arbitrary objects will no longer be allowed to be loaded via this mode unless they are explicitly allowlisted by the user via `torch.serialization.add_safe_globals`. We recommend you start setting `weights_only=True` for any use case where you don't have full control of the loaded file. Please open an issue on GitHub for any issues related to this experimental feature.\n",
      "  model_weights = torch.load(CKPT_DIR, map_location=torch.device('cpu'))['state_dict']\n"
     ]
    }
   ],
   "source": [
    "model_weights = torch.load(CKPT_DIR, map_location=torch.device('cpu'))['state_dict']"
   ]
  },
  {
   "cell_type": "markdown",
   "metadata": {},
   "source": [
    "We will need the weights and biases of each layer, as well as running mean and variances of the batchnorm layers. We are going to create a dictionary of for the weights which we will format into a text file to append to the input script for PLUMED. We'll write a helper function that takes the weights of a layer and outputs a string."
   ]
  },
  {
   "cell_type": "code",
   "execution_count": 34,
   "metadata": {},
   "outputs": [],
   "source": [
    "def weights_to_str(layer, label):\n",
    "    if layer.split(\".\")[-1] == \"running_var\":\n",
    "        # variance in the ANNB module is the sqrt or the reported value in torch\n",
    "        # 0.0001 added for numerical stability\n",
    "        weights = np.sqrt(model_weights[layer].numpy() + 0.0001).flatten()\n",
    "    else:\n",
    "        weights = model_weights[layer].numpy().flatten()\n",
    "    weights = np.char.mod('%f', weights)\n",
    "    weights_str = \",\".join(weights)\n",
    "    weights_str = label + weights_str\n",
    "\n",
    "    return weights_str"
   ]
  },
  {
   "cell_type": "markdown",
   "metadata": {},
   "source": [
    "Based on our encoder's architecture (linear -> batchnorm -> linear -> batchnorm -> linear -> batchnorm -> linear -> batchnorm), we'll extract the relevant parameters for the PLUMED inputs."
   ]
  },
  {
   "cell_type": "code",
   "execution_count": 35,
   "metadata": {},
   "outputs": [
    {
     "name": "stdout",
     "output_type": "stream",
     "text": [
      "encoder.0.weight\n",
      "encoder.0.bias\n",
      "encoder.2.weight\n",
      "encoder.2.bias\n",
      "encoder.2.running_mean\n",
      "encoder.2.running_var\n",
      "encoder.2.num_batches_tracked\n",
      "encoder.3.weight\n",
      "encoder.3.bias\n",
      "encoder.5.weight\n",
      "encoder.5.bias\n",
      "encoder.5.running_mean\n",
      "encoder.5.running_var\n",
      "encoder.5.num_batches_tracked\n",
      "encoder.6.weight\n",
      "encoder.6.bias\n",
      "encoder.8.weight\n",
      "encoder.8.bias\n",
      "encoder.8.running_mean\n",
      "encoder.8.running_var\n",
      "encoder.8.num_batches_tracked\n",
      "encoder.9.weight\n",
      "encoder.9.bias\n",
      "encoder.11.weight\n",
      "encoder.11.bias\n",
      "encoder.11.running_mean\n",
      "encoder.11.running_var\n",
      "encoder.11.num_batches_tracked\n"
     ]
    }
   ],
   "source": [
    "encoder_blocks = [i for i in model_weights.keys() if re.match(\"encoder\\.\\d+\\..*\", i)]\n",
    "for w in encoder_blocks:\n",
    "    print(w)"
   ]
  },
  {
   "cell_type": "code",
   "execution_count": 36,
   "metadata": {},
   "outputs": [],
   "source": [
    "nn_arch={0: \"linear0\", 2: \"batchnorm0\", 3: \"linear1\", 5: \"batchnorm1\", 6: \"linear2\", 8: \"batchnorm2\", 9: \"linear3\", 11: \"batchnorm3\"}\n",
    "linear_ws = \"\"\n",
    "linear_bs = \"\"\n",
    "batchnorm_gs = \"\"\n",
    "batchnorm_bs = \"\"\n",
    "batchnorm_es = \"\"\n",
    "batchnorm_vs = \"\"\n",
    "for i, layer in nn_arch.items():\n",
    "    if layer[:-1] == \"linear\":\n",
    "        linear_ws += weights_to_str(f\"encoder.{i}.weight\", f\"WEIGHTS{layer[-1]}=\")\n",
    "        linear_ws += \"\\n\"\n",
    "        linear_bs += weights_to_str(f\"encoder.{i}.bias\", f\"BIASES{layer[-1]}=\")\n",
    "        linear_bs += \"\\n\"\n",
    "    elif layer[:-1] == \"batchnorm\":\n",
    "        batchnorm_gs += weights_to_str(f\"encoder.{i}.weight\", f\"GAMMAS{layer[-1]}=\")\n",
    "        batchnorm_gs += \"\\n\"\n",
    "        batchnorm_bs += weights_to_str(f\"encoder.{i}.bias\", f\"BETAS{layer[-1]}=\")\n",
    "        batchnorm_bs += \"\\n\"\n",
    "        batchnorm_es += weights_to_str(f\"encoder.{i}.running_mean\", f\"EXPECTATIONS{layer[-1]}=\")\n",
    "        batchnorm_es += \"\\n\"\n",
    "        batchnorm_vs += weights_to_str(f\"encoder.{i}.running_var\", f\"VARIANCES{layer[-1]}=\")\n",
    "        batchnorm_vs += \"\\n\"\n"
   ]
  },
  {
   "cell_type": "markdown",
   "metadata": {},
   "source": [
    "Before we compile the weights, we need to apply PCA to the latent variables to find the directions in the latent space with the largest variations. We will incorporate this as an additional linear layer inside the PLUMED script."
   ]
  },
  {
   "cell_type": "code",
   "execution_count": 37,
   "metadata": {},
   "outputs": [],
   "source": [
    "LATENT_DATA = NN_DIR/\"4d_LatentSpace.npy\" # point to the latent data from the model with the optimum latent dim"
   ]
  },
  {
   "cell_type": "code",
   "execution_count": 38,
   "metadata": {},
   "outputs": [],
   "source": [
    "from sklearn.decomposition import PCA\n",
    "\n",
    "latent_data = np.load(LATENT_DATA)\n",
    "\n",
    "pca = PCA()\n",
    "pca_res = pca.fit_transform(latent_data)\n",
    "pcs = (np.array(pca.components_)).flatten()\n",
    "pca_weights_str = np.char.mod('%f', pcs)\n",
    "pca_weights_str = \",\".join(pca_weights_str)\n",
    "linear_ws += \"WEIGHTS4=\" + pca_weights_str\n",
    "linear_ws += \"\\n\"\n",
    "\n",
    "pcs_bias = np.zeros_like(pcs)\n",
    "pcs_bias = np.char.mod('%f', pcs_bias)\n",
    "pcs_bias = \",\".join(pcs_bias)\n",
    "linear_bs += \"BIASES4=\" + pcs_bias\n",
    "linear_bs += \"\\n\""
   ]
  },
  {
   "cell_type": "markdown",
   "metadata": {},
   "source": [
    "Now that we have all the weights, we are going to compile our weights for incorporation into the PLUMED input file"
   ]
  },
  {
   "cell_type": "code",
   "execution_count": 39,
   "metadata": {},
   "outputs": [
    {
     "name": "stdout",
     "output_type": "stream",
     "text": [
      "WEIGHTS0=0.001827,-0.099643,0.087950,-0.075353,0.014053,-0.055491,-0.072937,0.094083,0.030461,0.078306,0.005834,0.065345,0.010320,-0.004048,0.050398,0.038831,0.066454,0.006405,-0.044291,-0.008458,0.058588,0.033374,0.076082,0.032454,0.058850,-0.094845,-0.029555,-0.048819,0.096988,-0.030313,0.088085,-0.080200,-0.049527,0.057925,-0.066731,-0.058370,0.023336,-0.020801,-0.042296,0.034468,-0.016143,-0.019303,-0.042994,-0.048695,-0.059582,-0.029539,-0.010231,-0.065548,-0.042292,0.076431,-0.022434,-0.046949,0.064508,-0.022268,-0.025068,0.009432,-0.052459,-0.004889,-0.052691,-0.066518,0.028312,-0.099902,-0.081688,-0.025605,-0.102820,0.005975,-0.059341,0.021021,0.043980,0.051935,0.048362,-0.094389,-0.079972,0.069515,-0.055373,-0.059178,0.064529,-0.103762,0.096284,-0.029759,-0.043499,-0.096994,-0.046776,-0.035037,0.042277,0.031237,0.035210,-0.011400,0.068296,0.012410,0.082936,0.010590,0.059068,0.001159,0.087609,0.025424,-0.049273,0.078693,-0.019918,-0.078963,0.103408,0.092883,-0.067835,-0.065432,-0.082092,-0.069177,0.080770,-0.014918,-0.012965,0.054863,-0.005715,0.012036,0.026785,0.066253,-0.098205,0.059302,0.026063,0.085181,0.101528,-0.026651,-0.073828,-0.006180,-0.063060,-0.092272,-0.081796,0.083000,0.085056,0.059533,-0.059233,-0.098292,-0.074545,-0.092477,-0.032256,-0.074654,0.082750,0.042040,0.001623,0.047915,-0.007903,-0.049546,-0.005239,-0.059644,0.061602,0.080205,-0.099479,-0.058692,-0.078267,-0.081859,-0.004112,-0.095043,0.059609,0.014828,0.099059,0.031425,0.073342,0.042832,0.103745,-0.000003,-0.015684,-0.005711,0.038505,0.014879,0.056272,-0.020236,-0.072688,0.064800,0.093673,-0.102883,0.098421,0.052689,-0.036179,-0.098406,0.080729,0.088882,-0.013603,0.026421,0.087814,-0.074677,0.038180,-0.080110,-0.052248,-0.090625,0.020093,-0.009911,0.041616,0.053753,0.052816,-0.102488,-0.030139,-0.063615,0.021325,-0.009116,-0.051694,-0.053284,-0.036281,-0.098011,-0.083944,0.043860,-0.094511,0.005846,0.026865,0.055510,-0.077595,-0.029033,0.069093,-0.012083,0.004893,-0.022771,-0.007818,-0.099949,0.098747,0.014163,0.016868,-0.008705,-0.093439,-0.095348,-0.064922,-0.029773,0.041874,0.044121,-0.073106,-0.013240,0.056206,-0.006037,0.064256,-0.032110,-0.084876,-0.004870,0.072462,0.062666,0.060412,-0.001876,0.068094,-0.063105,0.098827,-0.073875,0.012000,0.073088,0.016807,0.037317,0.001500,0.081926,0.006377,0.004855,0.029819,-0.045115,0.047592,0.071700,0.001336,-0.083167,0.042750,-0.064742,-0.040737,0.020190,0.038747,0.087646,0.030263,0.085288,0.028973,-0.025760,0.028974,-0.085130,-0.066517,-0.014277,-0.030143,0.070153,-0.044319,-0.102921,0.062876,0.095636,0.023511,0.014766,0.088237,-0.090211,-0.002802,-0.019118,-0.012455,-0.014457,-0.100486,-0.010092,0.025769,0.087794,0.094361,0.077020,-0.101771,0.014744,-0.063523,0.030424,-0.062960,-0.004855,0.067450,0.072989,-0.055446,0.096141,0.037807,-0.082962,-0.105739,-0.042738,-0.042890,-0.090600,0.084999,-0.009820,-0.101128,-0.039386,-0.063658,-0.027776,0.029045,0.060390,0.069758,0.059500,0.018796,-0.096006,0.087754,-0.041596,-0.099650,-0.050051,0.081720,0.055233,-0.074051,-0.084074,0.021793,0.062981,-0.069875,-0.070993,-0.100708,-0.014516,0.051514,-0.091552,0.087001,0.088707,-0.100101,-0.090628,0.036252,0.099225,0.014295,0.025078,0.059614,-0.073783,-0.067507,-0.045484,-0.063022,-0.078033,-0.048960,0.051144,-0.089270,-0.074214,0.079070,-0.053134,-0.000294,-0.082264,0.053198,0.100140,0.006031,0.005687,-0.022969,-0.094532,-0.040299,-0.102192,-0.030571,0.014520,0.039322,-0.004698,0.062189,-0.088867,0.079311,-0.025059,-0.008512,0.034095,0.066545,0.069519,-0.070778,-0.036985,-0.061257,-0.064190,-0.081231,-0.053052,0.063369,0.094421,0.028851,-0.042738,0.039751,0.073406,-0.022461,-0.001368,0.074077,-0.076214,-0.001616,-0.102292,-0.056537,0.047756,-0.066313,-0.000604,-0.026807,0.076050,-0.036116,-0.071478,-0.016315,0.082113,0.027375,-0.035002,0.029553,0.059991,-0.064246,-0.031023,0.072741,0.009689,-0.009413,0.097266,0.061489,-0.062178,-0.020764,-0.007610,0.080607,0.028498,-0.031242,-0.005423,-0.061090,0.029449,-0.002965,-0.037481,0.103216,0.079990,-0.081989,0.013326,0.075147,0.046148,0.101386,-0.093473,0.090913,-0.078968,-0.061156,-0.046047,0.003632,-0.069578,0.073572,-0.026588,0.005676,-0.037669,0.090963,-0.102665,-0.010540,0.049217,-0.028283,-0.087781,-0.036892,-0.048788,0.093908,-0.033150,-0.106079,-0.039389,-0.038944,-0.001929,-0.010297,-0.031885,-0.010331,-0.083256,-0.007051,-0.052689,-0.035199,0.018641,-0.099827,-0.100100,0.055767,0.099313,0.041238,-0.092448,0.014282,-0.098300,0.096670,-0.040039,0.090573,-0.076634,0.082136,-0.053696,0.041226,0.082032,0.089572,-0.039192,-0.100123,0.096528,-0.045852,-0.088391,-0.004108,0.034225,-0.006654,-0.080894,-0.095809,0.001133,0.031552,0.025941,-0.052737,0.059097,0.017548,-0.088958,-0.007215,-0.054234,0.049297,0.064945,-0.078368,0.078372,-0.088180,-0.059029,-0.010946,0.083853,0.020160,-0.076870,0.019079,0.008443,0.030807,0.050576,-0.099090,-0.097705,-0.079618,-0.048218,0.038568,0.093262,-0.009254,-0.016254,0.056549,0.002508,0.001103,-0.037551,0.040243,-0.012034,-0.054912,-0.099337,0.069190,-0.061941,0.066715,0.074072,-0.092912,-0.104260,0.020313,-0.082520,-0.012053,-0.077035,0.086544,-0.104204,0.016811,-0.019283,-0.003658,-0.064415,0.048603,0.017156,-0.071237,-0.016045,0.078275,-0.059371,-0.041645,0.088617,0.046376,-0.039766,-0.027128,0.014757,0.008434,-0.096935,0.071438,0.098334,0.096131,-0.069689,0.058704,0.103166,-0.053087,-0.061107,0.026075,-0.075423,-0.103016,-0.103376,0.065580,0.033843,-0.006587,0.025319,-0.009611,-0.010173,0.071394,-0.024270,-0.079048,0.057271,-0.073764,0.048470,0.004421,0.101277,0.061490,0.055164,0.073109,-0.084940,0.013592,0.036375,-0.092358,-0.001275,-0.081543,0.060054,-0.057741,-0.064832,0.057366,0.096840,-0.022977,0.045727,-0.091131,-0.106103,-0.046567,-0.081334,0.032623,-0.019185,0.062670,0.091896,0.093238,-0.036249,0.005864,0.079266,0.049330,0.001978,-0.058463,-0.000449,-0.042387,-0.032147,-0.094601,0.015676,-0.033792,0.025786,0.051714,0.032722,-0.071822,0.010782,0.058955,0.090653,-0.071527,0.082738,0.008869,-0.075539,-0.018223,0.052110,-0.098744,0.074084,0.095823,0.018109,-0.087778,0.004206,-0.030039,-0.069363,-0.055939,0.025253,0.036599,-0.025180,0.034153,-0.097708,-0.057485,-0.003128,0.057293,0.012207,0.040280,-0.105252,0.001054,-0.075879,-0.019583,-0.083782,-0.053553,-0.006202,-0.036416,-0.047719,-0.033059,-0.090081,0.090461,-0.031513,-0.082494,0.078897,0.028710,0.070967,-0.000368,-0.051524,-0.005806,0.006137,-0.030350,0.029811,0.013993,-0.093791,0.094695,0.028420,-0.026262,0.096286,-0.068340,-0.014973,-0.098349,0.097934,-0.028347,-0.043332,-0.091906,-0.024789,-0.020103,-0.103110,-0.062518,-0.050851,-0.090288,-0.033296,-0.058928,0.021442,-0.067491,0.019996,0.079867,0.076041,-0.015472,0.081909,-0.028168,-0.046222,-0.040429,0.047823,0.086227,0.065039,-0.091303,0.007135,0.022997,-0.031172,-0.074663,-0.062062,-0.092980,0.057272,-0.067541,-0.031342,0.048468,-0.105556,-0.026290,-0.026344,-0.013697,0.053934,-0.077117,-0.028402,0.054051,0.009758,0.024397,0.074632,0.040902,0.031961,-0.050827,-0.046946,0.025687,-0.030272,-0.100403,0.016823,-0.021277,0.017739,-0.059279,0.086810,-0.067120,-0.083492,0.103545,-0.051429,0.042993,0.053233,-0.012957,-0.006208,0.074084,-0.018205,0.003813,-0.022833,0.084234,-0.098831,-0.030473,0.005637,-0.098129,0.049541,-0.029056,-0.025801,-0.003454,-0.019897,0.058241,-0.096280,-0.042710,0.050952,0.031308,0.005083,-0.069853,0.039019,-0.079517,-0.080748,-0.049530,0.001327,-0.018209,-0.006616,0.026364,0.060480,0.066067,0.001557,-0.079467,0.030507,0.028756,-0.084218,-0.086925,0.065187,0.061780,0.069012,-0.072519,-0.032271,-0.077508,-0.082176,0.075895,-0.046034,0.081313,-0.076023,-0.061799,0.019926,0.070867,0.001164,0.006392,0.077270,-0.087480,-0.102940,-0.021935,0.072809,-0.068399,-0.061454,0.013849,0.053689,-0.056008,-0.055263,0.025903,-0.070059,0.016161,0.061176,0.006142,-0.092077,0.036077,0.072474,-0.031883,0.096088,0.047853,-0.066185,-0.052129,-0.083176,0.092757,0.056372,-0.036343,0.035394,0.010386,0.054049,0.008732,0.030525,-0.066569,0.043185,0.091801,0.042416,-0.101974,0.105362,-0.099254,-0.057235,0.023429,0.005050,0.042057,0.053848,0.057630,-0.094465,-0.073605,0.055293,-0.050479,-0.071663,-0.014818,0.089896,0.090738,0.074633,0.036744,0.044434,0.097700,0.051135,-0.013941,-0.086225,0.098666,0.024963,-0.100961,-0.058901,0.034380,-0.010244,-0.003428,0.042478,-0.038320,0.050225,-0.022164,0.082369,-0.005890,0.047221,-0.095634,-0.102964,-0.014401,-0.044834,0.004315,0.008201,0.045675,-0.071034,0.012550,-0.028102,0.072730,-0.047054,-0.011626,0.105327,0.101506,-0.049162,-0.050611,0.058090,0.076494,0.105179,-0.056485,0.024823,0.057390,0.010346,-0.062482,-0.068013,-0.061345,0.095420,-0.051404,0.072301,0.102228,0.084833,-0.019514,0.055723,-0.094399,-0.068643,-0.031364,-0.033492,-0.085323,-0.017130,-0.024097,-0.101612,0.076108,-0.058208,-0.051314,0.033435,0.027992,-0.033434,-0.063884,0.058783,0.018666,0.053851,0.088253,0.019231,0.067523,0.044695,0.012165,0.034795,0.077987,-0.095131,0.050615,0.072306,-0.052459,-0.030809,0.093588,-0.100236,0.054264,-0.061471,-0.078161,-0.097351,-0.017935,-0.088522,0.006742,0.047673,-0.066611,0.024226,0.018411,0.093537,0.059245,0.019939,-0.087737,0.082847,0.040933,-0.016790,0.000974,0.071062,-0.071223,0.092775,-0.091512,0.002964,-0.087474,0.022581,-0.097981,0.087675,0.088459,0.046851,-0.038519,-0.041653,-0.059658,0.106205,-0.004229,0.067670,-0.043008,-0.086825,0.044804,0.006956,-0.045890,-0.071711,-0.044565,0.070037,0.093295,-0.041253,0.020711,0.062840,0.086005,-0.099232,0.065609,-0.073370,0.005710,-0.023915,-0.084265,0.018796,-0.061293,-0.082282,0.046550,-0.003081,-0.090001,-0.046471,-0.078715,0.006522,-0.011246,-0.041118,-0.042620,-0.068166,0.011567,0.016978,0.081692,-0.076227,-0.030895,-0.052114,0.043392,0.041190,-0.022332,-0.090456,0.023034,0.075768,0.002150,-0.059137,-0.013534,0.079575,-0.020185,0.055871,0.071550,0.063227,0.097715,0.033982,-0.058677,0.068106,-0.017838,0.035756,0.038658,-0.079619,0.089117,0.034562,0.100911,-0.103538,-0.080746,0.067551,0.035523,0.054350,-0.004581,0.091780,0.074273,0.037663,-0.016191,0.008769,-0.020255,-0.056599,-0.039888,-0.074365,0.040217,-0.031375,-0.099449,-0.068468,-0.025351,0.061951,-0.019696,0.001082,0.067741,-0.080348,-0.034609,0.038681,0.036560,0.032706,-0.017823,0.073260,-0.006060,-0.017934,-0.032237,0.092689,0.016030,-0.100128,-0.003008,0.094487,-0.015293,-0.011408,0.102410,-0.067714,0.080462,-0.022929,0.067433,-0.021905,0.087528,0.072821,-0.093334,0.078398,0.045519,-0.036057,0.051789,-0.102900,-0.042239,0.036781,-0.080887,0.027361,-0.028568,0.078489,-0.083409,-0.021102,-0.103951,-0.057239,0.053764,-0.008948,-0.079732,0.082178,-0.020012,0.081077,0.058917,0.053313,-0.050380,0.081948,-0.086611,0.080503,0.005413,-0.067915,0.016493,0.024729,-0.062356,0.080702,-0.038613,0.052960,-0.057551,0.002267,-0.010930,0.064960,0.046975,0.015593,0.053827,-0.055970,0.060352,-0.024420,-0.104052,0.090871,0.003604,0.101930,-0.041232,0.055005,-0.013721,-0.061315,-0.072267,0.053982,0.047498,-0.071323,0.075283,0.054495,0.103451,-0.055281,-0.061984,0.016803,-0.097912,-0.091723,0.095993,-0.046653,-0.056167,0.057115,0.024400,-0.055241,0.103140,0.085302,-0.044061,0.066889,-0.016207,-0.084276,0.018755,-0.075243,-0.008440,-0.074713,0.094792,0.033043,0.027742,-0.008410,-0.099403,-0.049824,0.013742,0.091160,0.081001,0.044571,0.062684,-0.075647,-0.024385,-0.088867,-0.092869,0.067891,-0.104039,-0.083384,-0.060481,0.073284,0.039092,-0.047124,0.099274,-0.029987,-0.012677,-0.022573,0.049388,-0.029834,-0.041852,0.030725,-0.105784,-0.030069,0.056434,0.071637,-0.025688,0.061880,0.057535,-0.029417,0.029354,0.052458,0.085903,-0.048111,0.052752,0.044061,-0.059894,0.037668,0.094806,-0.086426,0.055549,0.049453,0.026886,0.072284,-0.039003,-0.021169,-0.040415,0.060486,-0.096233,-0.095475,-0.069276,0.084431,0.061936,-0.066698,0.024058,-0.025162,-0.085147,0.035517,0.020063,0.087850,-0.021488,0.088645,0.030487,-0.013966,-0.056671,0.074831,0.041459,-0.069168,-0.024527,-0.036594,-0.047343,-0.066330,0.017854,-0.004230,0.046505,0.016368,-0.076676,0.086193,-0.094801,0.048900,-0.006355,-0.012405,0.014856,-0.042351,-0.071332,-0.023731,0.008561,0.079111,-0.072206,0.051109,0.081420,0.085332,-0.045361,0.020467,0.051833,-0.056909,-0.043416,0.090414,0.062048,-0.031063,-0.000573,-0.059821,0.055879,0.019238,0.007800,0.017551,0.093645,0.016226,-0.096357,-0.086150,0.011523,-0.083009,0.078452,-0.089828,0.024894,0.003215,0.050424,0.082584,-0.018934,-0.048021,0.097938,0.055145,0.036678,-0.011783,0.002169,-0.053991,-0.002617,-0.059188,0.007787,-0.023463,0.040972,0.034164,0.067366,0.091769,-0.059350,0.093246,0.067978,0.096547,0.045557,0.077964,-0.068224,0.027811,-0.104329,0.097453,0.029011,0.020805,-0.067321,-0.014467,0.066323,-0.061291,0.070889,0.086874,-0.072393,0.081315,0.071106,-0.016651,-0.072738,0.000785,0.047509,0.003363,-0.031847,-0.015566,-0.010403,-0.031854,-0.012499,-0.036673,-0.080318,-0.029507,0.042957,0.021092,0.088948,0.077087,0.022126,0.084387,-0.025314,0.059468,0.036664,-0.076979,0.074690,0.046421,-0.013112,0.008218,-0.076606,0.073421,-0.014276,0.087110,0.059328,0.011596,-0.060364,0.084930,0.077303,-0.031741,-0.023566,0.011912,0.065652,0.024679,0.032802,-0.084867,0.085345,-0.009879,0.022900,-0.004362,-0.029580,0.014117,0.009402,-0.057649,0.008526,0.078788,-0.010195,-0.056347,-0.085884,-0.020455,0.028545,0.086149,-0.061101,0.006912,0.097004,0.030782,0.065566,-0.012033,0.060078,0.015026,-0.027854,0.081483,-0.006119,0.078620,-0.083250,0.066433,0.045809,-0.009838,0.055801,-0.021177,0.008731,-0.004877,0.094845,0.038467,0.004634,-0.083052,-0.097313,0.028097,-0.099650,0.000162,0.009609,0.033700,-0.042571,0.024810,-0.081361,-0.086566,-0.069979,0.043116,0.026540,-0.042609,0.088232,0.011098,-0.056878,0.095835,0.038833,0.002276,0.067864,0.028755,0.085645,0.007148,0.087751,0.052845,0.068463,-0.047146,-0.059658,-0.021498,-0.059781,-0.048255,0.054902,-0.077384,-0.056458,-0.081221,-0.008522,0.052320,0.055138,-0.002916,0.085418,0.052121,-0.103107,-0.068812,-0.035653,-0.061687,0.027188,0.072376,0.000541,0.004402,-0.067530,0.096877,0.097516,-0.048670,0.075766,0.055058,-0.047624,-0.039737,-0.087495,0.030759,0.094637,-0.102923,-0.030495,-0.051229,0.098043,-0.100286,-0.093256,0.000193,0.091209,0.060631,-0.057744,-0.103508,0.086028,0.062983,0.065007,-0.103226,-0.064019,-0.043241,0.075017,0.022836,-0.077618,0.102950,0.030686,0.018425,0.092809,0.016171,-0.016404,-0.051956,-0.034999,-0.059480,0.063704,0.049874,0.067109,0.049495,-0.095098,-0.034731,0.051057,0.082721,0.021093,0.028133,0.027458,0.069927,0.020952,-0.060655,0.048917,-0.059452,0.022766,-0.045131,-0.061997,-0.030715,-0.000689,0.040956,-0.066364,0.047466,-0.093227,0.078783,0.074579,-0.070567,-0.027328,0.011678,-0.063652,0.011424,0.066517,0.044035,-0.030489,0.072401,-0.058669,-0.019759,0.017493,0.075572,0.037384,-0.039138,0.085508,0.063100,0.005807,-0.084301,-0.026525,-0.004229,-0.089133,0.007237,0.101836,0.054650,0.040761,-0.071952,-0.095530,-0.045880,0.011535,0.079110,0.047542,-0.083832,-0.084548,0.073368,-0.050075,0.051773,0.058575,0.062468,0.038296,-0.004740,-0.033888,-0.018290,0.080524,-0.074484,-0.081992,-0.007253,0.035424,0.020554,-0.043708,-0.049968,-0.025708,-0.024374,0.027724,-0.015440,-0.090210,0.024791,-0.033467,0.102828,0.078418,0.026208,0.088501,-0.072170,0.045404,-0.026402,0.009148,-0.056204,-0.029508,0.039314,0.076012,0.076802,-0.101720,-0.037200,-0.010070,-0.076514,0.032972,-0.015905,0.061364,0.043733,-0.035534,-0.089505,-0.031020,0.001908,0.052382,-0.088292,-0.094482,-0.000067,0.003133,0.056057,-0.018969,0.012716,-0.053301,0.091991,0.017499,-0.079983,-0.068029,-0.051200,0.077513,-0.060553,-0.102599,0.020869,-0.026306,0.087543,0.086439,0.052692,-0.011500,0.083495,-0.055670,-0.096882,0.030417,-0.042924,-0.050642,-0.019365,0.012759,-0.003419,0.024666,0.073896,-0.065582,-0.051860,0.065971,0.002633,-0.076899,0.029018,-0.068788,0.059451,0.055235,-0.028395,-0.093994,0.078721,-0.067980,-0.036393,0.053716,0.036182,0.011615,0.102341,0.020923,-0.022556,-0.103064,0.068651,-0.089736,-0.056501,0.054727,0.011740,-0.061766,-0.084725,-0.017607,0.073976,0.104206,-0.059697,0.099718,-0.074166,0.023603,0.030775,0.085443,-0.078204,-0.034916,-0.023968,0.053100,-0.091529,-0.038486,-0.048015,-0.000168,-0.073638,-0.095426,-0.045735,0.022947,0.080172,-0.022542,0.006646,0.087595,0.021195,0.042344,0.064509,-0.067771,-0.099287,-0.100355,-0.075316,-0.034030,0.021429,0.096505,0.045311,0.049782,0.043678,0.103375,-0.024291,-0.071844,0.027427,0.050223,-0.006121,0.048021,0.092703,0.101970,0.072202,0.041287,0.023333,-0.002999,-0.042070,0.053288,0.040513,-0.090149,-0.071069,-0.009024,0.088236,-0.072783,-0.089958,-0.099098,-0.051663,0.024738,-0.093682,-0.100097,0.068077,-0.081744,0.038651,0.007482,-0.076267,-0.078721,0.086690,0.013001,-0.070765,0.026645,0.045048,-0.033847,-0.010633,0.027287,-0.045795,-0.053683,-0.104744,0.051102,0.095820,-0.058541,-0.025363,-0.014416,-0.077736,0.066499,-0.056451,0.046173,-0.027515,0.020680,-0.008394,0.031123,-0.075266,-0.026858,-0.084913,-0.049341,0.035641,-0.018793,0.054522,0.087963,-0.015262,0.032506,-0.089893,-0.018236,0.033447,0.069361,-0.013972,0.059596,0.080459,-0.065415,-0.068551,-0.078162,-0.100060,-0.081601,-0.019594,0.086500,-0.033591,0.057893,-0.035716,0.006348,0.015305,-0.040938,0.045901,0.095305,0.062721,-0.022948,-0.053654,0.060006,-0.004800,-0.100243,-0.019142,0.105930,-0.017529,0.104054,-0.050302,0.059936,-0.015016,0.067342,-0.047514,0.060515,0.023286,-0.011345,0.035414,0.100521,0.055967,-0.041343,0.027341,0.015622,-0.078268,0.056008,-0.011571,0.101426,0.027771,0.018741,0.082011,-0.016222,0.042514,0.048788,0.057211,-0.039895,-0.093098,0.027023,0.056019,-0.032523,-0.048299,0.013589,-0.001637,-0.010004,0.083545,0.053506,-0.100951,0.100121,-0.097487,-0.040298,0.015231,-0.040281,-0.057986,0.047854,0.066998,0.039194,-0.032957,0.046208,-0.052221,0.097930,-0.006232,-0.012714,-0.007938,-0.055766,0.003727,0.017926,0.087298,0.013039,-0.040595,-0.010162,-0.025950,-0.099878,0.076469,-0.053788,-0.078164,0.017231,-0.003750,-0.040313,-0.032296,0.068150,0.101572,0.090855,0.028470,-0.017880,-0.029912,-0.066216,-0.017264,-0.091566,-0.036905,-0.032484,-0.026115,0.008869,0.104735,-0.028709,-0.079702,0.074683,0.102535,0.067733,0.053376,0.076076,-0.026458,0.069542,-0.072907,0.011603,-0.022708,0.087421,0.048776,-0.051441,0.089557,-0.094764,0.025006,-0.044974,-0.034143,-0.014941,0.104518,-0.036255,-0.022830,0.079035,-0.062767,0.040374,-0.082294,-0.077838,0.069847,-0.074137,0.024168,0.049516,0.042130,-0.052790,-0.069350,-0.018164,-0.088965,-0.046938,0.001515,-0.057648,0.022750,-0.088820,0.006840,0.100117,0.025524,0.053153,-0.013623,0.055198,-0.098466,-0.006053,0.064394,0.019617,-0.081399,-0.039789,0.025686,-0.102388,-0.033587,-0.017838,-0.098241,0.060004,-0.047325,0.034286,0.081432,-0.046868,0.105925,0.094299,-0.084282,0.048710,0.010354,-0.037849,0.051453,0.075960,-0.084694,0.008434,-0.013384,0.016208,-0.012796,0.011466,0.035318,-0.084417,0.036554,0.072874,-0.088781,0.074321,-0.011649,0.040502,0.002685,-0.010350,-0.022747,-0.082374,-0.068817,0.033033,-0.092600,0.021391,-0.049816,0.073745,-0.034632,0.008305,-0.063362,-0.007070,0.028483,-0.085733,0.088488,0.050875,0.035407,-0.028990,-0.084709,-0.010604,-0.099686,0.047507,0.054524,-0.081484,-0.069969,-0.102696,-0.021628,-0.032280,-0.057128,-0.008545,-0.066238,-0.032983,-0.004393,-0.002523,0.096464,0.029304,0.038175,0.011878,-0.049217,0.074259,0.016857,-0.090750,-0.028588,0.009224,-0.017268,-0.094573,0.018449,0.094818,0.073294,-0.097177,0.021042,-0.097215,-0.090278,0.027640,0.096421,-0.067940,0.028152,-0.055846,-0.057667,0.027912,-0.073520,-0.049910,0.013730,0.032208,-0.092388,-0.048393,-0.026671,0.055229,-0.103452,0.060878,0.029612,-0.070734,-0.100584,-0.091526,-0.043481,0.013383,0.015006,0.035615,-0.063246,-0.083105,-0.021252,-0.102214,-0.056057,0.001008,-0.013541,0.097210,-0.043631,-0.015102,0.074755,-0.005461,-0.056249,-0.049677,0.010111,-0.049737,0.003425,-0.048682,-0.102455,0.035509,0.059358,-0.040256,0.099760,0.096435,-0.050363,-0.097179,0.000627,-0.034893,0.092488,-0.064830,0.099428,0.049608,-0.015449,0.032150,0.100907,0.054835,-0.009109,0.099323,0.052550,0.037232,-0.036299,0.076363,0.018563,-0.078449,0.062022,-0.100555,0.027227,-0.034702,0.099876,-0.019719,0.010415,-0.089873,0.051211,0.047660,-0.024438,0.062968,0.087682,-0.075870,-0.014161,0.063881,-0.045522,-0.043377,-0.025941,0.104331,-0.073526,0.076623,0.026592,-0.105738,-0.045254,0.032707,-0.036616,0.085186,-0.021944,-0.101025,-0.006106,-0.066000,0.035937,-0.101014,-0.082153,0.008810,-0.046738,0.006944,0.078474,0.007062,0.029904,-0.020947,-0.039867,0.047004,-0.073915,0.010826,-0.011084,-0.028679,0.099330,-0.052525,-0.089230,-0.090144,0.086748,-0.048154,-0.003326,-0.094227,0.058396,0.015083,0.057185,0.028424,-0.046423,-0.097804,0.099922,0.003040,0.024585,-0.050017,0.072083,-0.075593,0.000875,0.092236,-0.089842,0.016152,0.007911,0.048647,0.071793,-0.020540,0.022523,-0.011688,-0.032825,0.038088,0.102239,0.053651,-0.087389,0.019286,0.055054,-0.035283,0.042855,0.098004,-0.045022,-0.030012,-0.044780,0.082123,0.062194,-0.031390,-0.000822,0.036622,-0.037548,-0.000028,0.087341,0.054910,0.058260,-0.069402,-0.026125,0.100051,0.058528,0.009707,0.091826,0.010499,-0.016487,-0.039656,-0.007995,0.067048,-0.095260,0.035694,-0.036573,-0.038110,-0.013606,0.053865,-0.103191,-0.060267,0.016059,0.023089,0.059626,0.019640,-0.007503,0.046153,-0.049058,-0.064099,0.030909,-0.081388,-0.047959,0.023100,0.063583,-0.015515,-0.044909,-0.066906,-0.071584,-0.094966,-0.090756,0.097061,0.021106,-0.001324,-0.092080,-0.044010,0.077421,0.073828,-0.056810,0.058047,0.087541,0.026653,-0.025347,-0.080375,0.026283,0.052359,-0.015238,0.035899,-0.046081,0.028826,-0.072757,0.043885,-0.088226,0.060938,-0.006044,-0.012983,0.086524,-0.078645,-0.059453,0.019959,-0.093720,0.083002,0.065854,0.016342,-0.075412,0.092476,0.017551,0.028725,-0.048977,0.016221,-0.028958,-0.100901,-0.000399,-0.014085,-0.027855,-0.023111,0.075695,-0.011873,-0.047532,0.022254,-0.088112,-0.025832,-0.039649,0.094559,-0.007027,-0.001702,-0.028193,0.064620,-0.005776,-0.078996,0.031174,0.043614,-0.013395,0.006633,-0.095362,0.044927,0.094246,0.065621,0.034414,0.020081,-0.057247,-0.011867,0.095260,0.088823,0.080816,0.014588,-0.081367,0.015228,-0.065051,0.000407,-0.026410,-0.032007,0.048818,-0.085508,-0.006177,0.098655,-0.003045,0.080211,-0.075989,-0.097461,-0.086524,-0.058955,0.030804,0.062333,-0.036593,-0.085681,0.038629,0.063036,-0.056783,-0.071752,-0.012206,-0.087598,0.088343,0.102013,0.026674,0.027756,0.072866,-0.102260,0.013764,-0.083627,-0.051941,-0.063311,-0.063893,-0.043643,-0.037425,-0.088889,0.038880,0.069089,0.010115,-0.058602,-0.023044,0.068806,-0.026195,0.075609,-0.015137,0.043922,0.059449,0.025154,0.057532,0.021621,0.066934,-0.071987,-0.004719,-0.023232,0.011121,-0.022377,0.012322,-0.077844,0.034184,-0.027875,-0.078465,0.101350,0.071587,0.095855,0.068282,-0.044256,-0.100184,-0.087003,-0.067067,-0.050362,0.005962,-0.089779,-0.016540,0.074982,0.086543,0.003171,0.078918,0.094015,0.071724,-0.038660,-0.051112,0.021023,-0.037410,-0.089931,-0.079892,-0.041758,0.038985,0.074713,0.039797,0.071083,-0.101160,0.078183,-0.097374,-0.052972,0.101877,0.021891,-0.011929,0.036734,0.033503,0.071451,-0.053346,0.067671,0.046487,-0.066855,0.050568,0.066652,0.064298,0.097234,0.029259,-0.033113,0.067319,0.071827,0.027344,-0.079241,0.057283,-0.065913,0.073661,-0.078058,0.008615,0.053020,-0.087554,0.021783,-0.069560,0.028222,0.051154,-0.070501,-0.100190,-0.011806,0.060598,0.065143,0.084070,0.089183,0.026057,0.059827,0.042555,0.067911,0.001513,0.060492,0.054862,-0.061006,0.046095,-0.089628,0.058176,-0.061535,-0.057054,-0.101969,-0.064219,0.039579,0.070930,0.030965,0.046657,0.035076,-0.019302,0.104630,-0.021784,0.080821,-0.019385,0.008086,-0.098373,-0.053915,-0.034056,0.068503,-0.010368,0.020673,-0.051120,-0.098468,-0.062314,-0.050845,-0.009933,0.025763,-0.070683,0.045348,0.065223,0.052361,-0.059525,-0.046796,0.060970,-0.102322,-0.016256,-0.011495,0.051370,-0.047659,0.073571,-0.002189,-0.042077,-0.074538,0.070557,0.031151,0.053393,-0.097130,0.068532,-0.027391,-0.014464,-0.076017,0.059942,0.021601,0.054714,0.096012,0.032050,-0.007996,-0.015838,0.009784,-0.013371,-0.077316,-0.068624,-0.011702,0.015035,0.060333,-0.061810,-0.027210,-0.095891,0.029036,-0.014496,0.094871,-0.057497,-0.016596,0.089143,-0.050885,0.069111,0.077935,0.010359,-0.057373,0.103182,0.026476,0.015404,0.081150,0.021931,0.080267,-0.019709,0.056793,-0.018863,-0.040867,0.082662,-0.072229,-0.014944,0.034881,0.101731,0.094346,0.064234,-0.033092,-0.079443,-0.030393,0.079238,-0.094075,0.010712,-0.042864,0.020419,0.018529,-0.010140,0.002457,-0.018726,-0.040016,-0.095160,-0.074654,0.095945,0.084744,0.001999,0.057652,0.091060,-0.095460,-0.021852,-0.071150,0.024873,-0.092350,-0.087982,0.034255,-0.011175,0.027739,0.035083,-0.081347,0.066426,0.025848,-0.001282,0.012580,0.027304,-0.015154,-0.067521,-0.019875,0.038917,0.003193,-0.007491,-0.055823,-0.029492,-0.041023,0.063169,0.006031,0.067056,-0.035931,0.075289,0.047807,-0.088091,0.086338,-0.015043,-0.085062,0.071832,-0.088589,-0.022689,-0.050832,0.013044,-0.056270,-0.099177,0.082255,0.052708,0.030215,-0.102802,0.090757,-0.028072,0.078765,0.011035,-0.011742,0.023892,-0.003105,0.058836,0.056506,-0.022632,0.003120,0.011695,-0.016415,0.017403,0.086219,-0.075858,0.021854,0.079895,0.034060,0.052110,-0.037520,0.019642,-0.013882,0.057234,-0.017832,-0.095449,-0.091521,-0.012562,-0.087178,0.012166,-0.100676,0.061736,0.080528,0.033605,-0.086375,0.009423,-0.086113,-0.061687,0.021655,-0.000852,-0.005996,0.055810,-0.086963,-0.022060,0.076707,-0.088447,-0.033337,-0.094801,0.057818,0.089448,0.032759,-0.048544,-0.059210,0.031909,0.010675,0.046692,0.046444,-0.012239,-0.092032,0.077434,0.019252,0.022637,0.001767,-0.072183,0.089857,0.008821,0.038089,-0.084678,-0.073299,0.037602,-0.029076,0.102059,0.086314,0.055337,0.067582,0.098870,0.028683,0.071759,0.005650,-0.053595,-0.099509,-0.070709,0.077479,-0.002346,-0.043740,-0.035239,-0.058864,0.099862,-0.089139,-0.057347,0.099442,0.024923,-0.082526,-0.096083,0.028324,-0.020669,-0.052033,-0.022296,-0.106166,-0.008053,-0.063696,0.043898,-0.004738,0.086337,-0.055160,0.003224,-0.065371,0.013834,0.003096,0.074402,-0.067592,-0.010152,-0.040696,0.057887,-0.075655,-0.088047,-0.056615,0.000739,0.055005,-0.033891,-0.079427,-0.103184,-0.047413,-0.013859,0.052614,-0.011658,-0.025935,0.073328,-0.053772,-0.080436,0.000724,-0.088986,0.095727,-0.045023,-0.092153,0.008834,-0.030368,0.089551,-0.074336,0.042894,-0.007781,0.057988,-0.045465,-0.089369,0.069638,0.093797,0.032882,0.058416,-0.011621,0.058505,0.066377,0.045504,-0.003250,0.070884,0.030077,0.103115,0.076753,0.061649,-0.066310,0.044516,0.032217,-0.042978,-0.018669,0.054984,0.044216,-0.069010,-0.092599,0.043226,0.057225,-0.054494,0.019236,0.021768,0.054397,-0.026764,0.059500,-0.063576,-0.027515,0.059794,0.083036,-0.059071,0.019393,-0.021319,-0.083114,0.003827,0.053852,0.009234,-0.000510,-0.005017,-0.100402,-0.004860,-0.052089,0.004133,-0.082829,-0.095392,0.021108,0.049472,-0.098669,-0.031291,-0.039308,0.086610,-0.002951,0.055912,-0.054369,0.060661,0.016145,0.040465,-0.078391,-0.031041,-0.015726,-0.020255,-0.080085,-0.010228,-0.068282,0.049539,-0.046246,-0.085542,0.047616,-0.015873,0.077868,0.033656,0.039465,0.061525,0.032776,0.040014,0.089914,0.016513,-0.061558,-0.075282,-0.025333,-0.072090,0.069762,-0.003697,-0.071563,0.000772,0.028780,-0.019356,-0.027551,-0.064892,0.059747,-0.092269,-0.068605,0.067041,-0.021139,-0.056136,0.076866,0.041540,-0.057660,0.056598,-0.051103,0.070523,-0.016500,0.054617,-0.065455,0.012660,0.034316,-0.020578,-0.071448,0.090203,0.050125,-0.073200,0.073972,0.008821,-0.032699,0.052059,-0.000905,0.004776,0.015302,-0.042639,0.053509,-0.067573,-0.029542,0.031823,0.101311,-0.088104,-0.013085,0.042006,-0.073592,-0.100183,-0.074068,0.040964,-0.074418,-0.100524,-0.072443,-0.094408,-0.055790,-0.065960,-0.096980,0.013009,0.030321,-0.005067,0.078330,0.061749,-0.053756,-0.087140,-0.067184,0.086993,0.013934,0.050962,-0.053088,0.033493,0.035580,-0.010389,0.089762,0.101256,-0.013225,0.003920,0.051544,0.007117,0.048614,-0.090013,0.022756,-0.041530,0.040785,-0.022657,0.100004,-0.067928,0.104562,0.029963,0.046305,-0.037556,-0.012518,-0.082071,-0.042814,0.029657,-0.045169,-0.004425,-0.046098,-0.026869,0.020075,-0.085176,-0.088516,0.032961,0.025327,0.060361,0.095122,-0.015281,0.030906,-0.077112,-0.058561,0.074712,0.010626,0.057048,-0.095961,-0.026418,0.060858,0.033600,0.085303,0.084684,0.052445,-0.024999,0.013067,-0.015055,-0.015217,-0.074539,-0.075669,0.092238,0.053409,0.005329,0.048994,-0.064228,-0.027538,0.019421,0.096167,-0.065114,-0.059123,0.009294,-0.092286,0.031158,-0.100503,-0.002740,0.017895,0.018832,-0.088882,0.055940,-0.058667,-0.037973,-0.027860,-0.089796,0.015483,-0.065864,0.017184,0.014237,0.041996,-0.036670,0.012262,-0.001154,-0.092001,0.043633,0.077656,0.051238,0.060530,-0.021419,-0.020337,0.099668,-0.002485,0.011560,0.061347,-0.099341,0.072730,0.025411,-0.023971,0.012459,-0.066966,-0.012916,0.024770,0.018375,-0.066303,-0.060586,0.013535,0.039205,-0.089032,0.063890,-0.024965,-0.102470,-0.092428,0.054967,-0.061533,-0.080767,0.048797,-0.032075,0.042115,-0.040274,-0.064172,0.071272,0.002272,-0.077702,-0.003204,-0.102052,0.084867,-0.047237,-0.013914,-0.097935,-0.019601,0.080380,-0.034419,0.055312,0.078950,0.080187,0.083893,-0.056610,-0.020293,0.012241,0.025917,0.035008,-0.040621,0.094979,0.040239,-0.032724,0.032574,0.067196,-0.043362,-0.058496,0.102183,0.003404,0.029575,-0.071200,-0.036154,0.052831,0.027698,0.063546,0.007231,-0.093481,0.037793,0.085680,-0.042840,-0.046807,-0.004671,-0.016892,0.070234,-0.070345,-0.075280,0.078705,0.056406,-0.038661,0.026749,-0.083588,0.053270,0.034307,0.050125,0.077635,0.035209,-0.039493,-0.088638,0.055074,0.033114,0.045299,0.103657,-0.064127,0.061673,0.027622,0.056971,0.043276,0.083720,-0.028405,-0.079503,-0.016954,0.016067,-0.038074,-0.011404,0.010111,0.034540,-0.025166,0.077184,0.070322,-0.003684,-0.027221,0.007185,0.035283,-0.022668,-0.030153,0.015812,0.071836,0.034368,0.003187,0.013561,0.078201,0.003193,-0.056215,0.041558,-0.004999,0.096785,-0.050177,-0.064530,0.018009,0.039543,-0.024278,-0.086833,-0.062065,-0.065517,-0.078919,-0.073849,-0.087247,0.055920,0.028086,0.002580,-0.001678,-0.068294,0.060380,-0.032951,-0.047590,-0.033552,0.057492,0.001679,-0.029179,0.002952,-0.068935,-0.035017,0.036599,-0.032914,0.028504,0.098146,-0.091042,-0.049123,-0.088078,-0.009024,-0.013983,0.025324,0.089478,0.067406,0.089603,0.005640,-0.000455,0.085535,-0.053915,-0.065339,-0.084617,0.048336,0.046218,0.015793,0.012798,-0.003961,0.046472,0.073230,0.058871,0.045538,0.046631,0.033906,0.020398,-0.021210,-0.072615,0.054146,-0.067171,0.081827,-0.028542,-0.093795,-0.076966,-0.062523,0.094456,0.088930,-0.056335,-0.079099,0.042839,-0.017844,0.009845,-0.069497,-0.039008,-0.057843,-0.025487,0.094222,0.039750,0.043586,-0.103952,-0.023917,0.023213,0.083203,0.070060,0.092866,0.079478,0.003408,0.045470,-0.099107,0.104436,-0.068542,0.007402,0.048593,0.046803,0.031327,-0.069327,0.057499,0.106549,0.063166,0.095844,0.051741,-0.092728,-0.045484,-0.001547,0.072108,-0.051169,-0.072751,-0.074489,-0.062718,-0.092638,0.006564,-0.095608,0.049908,0.019019,-0.041109,0.079708,-0.085529,-0.037658,-0.043829,0.060756,0.056224,-0.012582,0.017811,-0.093909,0.013790,-0.088379,-0.056130,-0.004789,0.046412,-0.085970,-0.054949,-0.065932,-0.089622,-0.038839,0.011773,-0.084767,0.012965,-0.104115,-0.040282,-0.025940,-0.065285,0.042638,0.024734,0.086689,-0.049243,-0.080631,-0.023526,0.082712,0.098960,-0.064967,-0.048831,-0.063848,0.080096,0.088182,0.043202,0.065026,-0.014505,0.059721,-0.011793,0.065451,-0.091245,-0.103522,-0.046387,0.003488,0.033952,0.092420,0.057022,0.073697,0.100023,0.009372,0.019852,0.071604,-0.043516,0.036855,-0.061011,0.038983,0.098034,0.037994,0.095097,-0.044473,0.035395,-0.022290,-0.035978,0.095666,0.081300,0.046667,-0.085837,-0.016659,-0.064402,-0.078047,0.033774,0.003290,0.028987,-0.100138,-0.037604,0.083188,0.050092,0.042425,-0.097136,0.070149,-0.011010,0.072614,-0.001176,0.054930,0.022694,-0.093910,0.058210,0.065755,0.064287,0.028178,-0.044023,-0.072647,-0.034032,-0.008853,-0.012896,0.000092,-0.013552,0.055434,-0.043560,0.040641,0.056136,-0.025381,-0.000999,-0.069651,0.069884,-0.093553,0.024892,0.013100,0.004599,-0.008156,0.094913,-0.097113,-0.075671,0.056279,-0.086697,0.031358,0.082670,0.046197,-0.009794,0.021529,0.001961,-0.077133,0.014870,-0.076091,-0.059860,0.066677,-0.018474,-0.040330,-0.094376,-0.004645,-0.065106,0.051766,-0.000298,0.057949,0.064282,-0.098618,-0.084447,0.057489,0.014517,-0.007711,0.050278,-0.046945,0.076297,0.101589,-0.047118,0.052692,-0.017431,-0.044448,0.098058,-0.049148,-0.077065,-0.033006,0.055973,-0.037494,0.068363,-0.075173,-0.032811,-0.044193,0.047552,-0.097356,-0.061668,0.077254,-0.023624,-0.017295,-0.039580,-0.023961,0.048627,-0.010341,0.022019,0.066540,0.050162,0.029744,0.061491,0.030277,-0.062756,0.085403,-0.070425,0.035406,0.041000,0.099673,-0.056142,0.013669,-0.063162,0.064740,-0.069479,0.082629,-0.079212,0.088303,0.088626,-0.023400,0.081630,0.019186,0.095420,0.091582,0.094536,0.094161,0.052523,0.099159,-0.044116,0.019483,-0.014756,0.047621,0.064768,-0.098548,-0.080844,0.098724,0.055987,0.096257,0.099134,-0.043902,0.087449,-0.012449,0.031977,-0.050625,-0.068491,0.012506,0.083327,-0.018922,-0.094534,-0.044465,0.069037,-0.079864,0.066726,0.048154,0.022603,0.080197,-0.063709,-0.036076,-0.055083,-0.020251,0.051234,0.093710,-0.071447,0.060787,-0.018101,-0.013365,-0.085565,-0.038554,0.057911,0.022235,-0.012494,-0.012987,0.075190,-0.011517,0.012036,0.001887,0.046095,0.023905,-0.085698,0.057400,-0.047080,0.079342,0.086926,-0.084748,-0.002208,0.016560,0.070195,0.064271,0.064465,0.002514,-0.085631,-0.018661,0.024307,0.052121,0.064636,-0.082214,-0.015774,0.091285,0.053956,-0.098685,0.020611,0.015948,-0.068155,0.064344,-0.059409,0.075759,0.028534,-0.046846,0.097091,-0.008965,-0.073136,0.104923,0.002481,0.039821,-0.014541,-0.049052,-0.034064,0.005138,-0.007749,0.035142,-0.048646,0.087473,-0.002513,0.000616,0.027055,-0.061944,0.016378,0.104050,-0.089079,-0.103402,-0.018184,-0.084434,-0.093379,-0.068698,-0.038324,0.094570,-0.050988,0.103044,0.028440,0.091680,-0.059317,0.001258,-0.022683,0.038663,0.034040,-0.021494,-0.038644,-0.059704,-0.090255,-0.044994,-0.045164,0.005600,-0.103036,0.022136,-0.021159,-0.094030,0.004473,0.027681,-0.028958,0.019557,-0.013802,0.030351,-0.073643,-0.013241,0.012289,0.047179,-0.102551,-0.059763,0.056874,-0.042375,0.082484,-0.005179,0.004555,0.013791,0.006957,0.000382,0.000744,-0.084117,0.081033,0.076176,-0.027604,0.024834,0.076650,-0.011941,0.079174,0.051940,0.029685,0.016918,0.060006,0.004422,0.029804,-0.058610,-0.059609,0.049204,-0.016561,-0.015139,0.070249,-0.086112,0.063129,-0.099902,0.050336,-0.029105,-0.081958,0.064968,0.073743,-0.087700,0.039693,0.035578,0.000450,0.031024,0.013992,-0.084012,0.054124,0.040309,0.047578,-0.021924,0.059408,-0.000490,0.081815,0.001233,0.046134,-0.044889,0.063686,-0.036106,0.025714,0.064315,0.025889,-0.016065,0.080299,0.096474,0.035588,-0.012089,-0.006828,0.059362,0.095808,0.013964,-0.009064,0.091822,-0.040743,-0.097646,0.003680,-0.083296,-0.017199,0.067079,0.027640,-0.022600,-0.023421,0.073585,0.058028,0.105140,-0.065259,-0.027522,-0.083068,-0.102034,-0.008792,0.095796,0.095258,-0.059463,0.006790,0.004275,0.103893,-0.009737,0.016891,0.069059,-0.025289,0.069100,0.055460,-0.082996,0.097720,-0.004718,-0.082297,0.027711,-0.100988,0.051101,-0.081163,0.086133,0.081291,-0.063603,0.019480,-0.100315,-0.075686,-0.029854,0.020472,-0.036660,-0.037017,0.029221,0.045744,0.098659,-0.097217,0.016732,-0.016844,-0.101629,-0.072598,0.067627,-0.051364,0.022217,0.092173,0.064963,-0.078414,0.027421,0.024064,-0.007819,0.100689,-0.048615,-0.098052,0.014889,-0.102680,-0.099194,-0.006341,-0.008475,-0.071320,0.037078,-0.092131,-0.096876,0.095912,-0.019790,-0.036802,-0.000892,-0.008403,0.084156,-0.037755,0.057161,0.037261,-0.066074,-0.089026,-0.084090,0.086873,0.019269,-0.002373,0.054800,0.015245,-0.079620,0.093377,0.099321,-0.035547,0.043798,-0.081712,0.019802,-0.094846,-0.027785,0.038821,-0.086702,-0.092752,-0.058711,-0.088146,0.045400,0.103998,0.050994,0.099422,0.099091,-0.041929,0.044381,0.092117,-0.068310,0.094658,0.075406,-0.055987,-0.076138,-0.006206,0.018514,-0.075631,-0.037393,-0.057100,0.030959,-0.084973,0.030242,0.049626,-0.048672,0.059828,-0.055803,0.000718,-0.090296,-0.093220,0.034779,-0.009872,0.029959,-0.097227,-0.017442,0.029758,-0.021057,-0.017417,-0.032594,0.029820,-0.082649,-0.053952,0.046254,0.081398,-0.014763,0.017744,0.033489,0.055428,0.020297,-0.024937,-0.001634,-0.052263,0.073728,-0.094322,-0.048352,-0.032559,-0.001606,-0.100512,0.057804,-0.020657,0.011060,-0.097915,0.064731,0.084996,0.075427,0.076670,0.031816,0.097652,0.034337,-0.044415,0.080066,0.052537,0.022282,0.080012,-0.027904,0.012350,0.004483,-0.090408,-0.032736,0.095646,0.052826,0.004640,-0.070826,0.099284,-0.044678,0.001986,0.065446,0.019677,0.022652,0.055354,0.044375,0.003440,-0.101778,-0.062733,-0.099424,0.097226,0.041267,0.102231,-0.099333,0.037200,-0.090580,0.092259,-0.035762,-0.055430,-0.045427,-0.048409,-0.001523,0.041798,-0.100157,-0.036423,0.000562,-0.020285,0.030331,0.036153,-0.050198,0.038892,0.093636,0.018079,0.076295,0.004415,-0.072816,0.012212,-0.084207,0.056634,-0.010964,0.031843,0.041111,0.076073,0.075683,0.003156,-0.000928,0.043368,-0.050979,-0.024818,-0.002490,-0.025355,0.044511,0.072203,0.052041,0.034229,0.105874,-0.067946,0.008601,-0.008403,-0.094929,-0.015474,0.066238,-0.103648,-0.035893,0.019074,0.090354,0.051858,0.085385,-0.073541,-0.083249,-0.054848,0.081676,-0.002797,-0.044727,-0.051135,-0.068769,0.028478,-0.036909,-0.063114,0.071307,-0.025083,0.104991,-0.055209,-0.075794,-0.088272,-0.069051,0.046350,0.006117,-0.008891,0.099364,-0.027023,0.074743,-0.079272,0.088771,-0.088048,0.031235,0.034465,0.096125,-0.087117,-0.022205,-0.007141,-0.080171,0.068982,0.022723,-0.080717,-0.092843,0.030631,0.053873,-0.045605,0.095555,0.040974,0.088624,-0.092238,0.025874,-0.105674,-0.047430,0.093553,-0.033602,0.039395,0.006931,-0.066932,0.071117,-0.014051,-0.058084,-0.066372,-0.054547,-0.056507,-0.016217,0.002748,0.066037,0.034376,0.000129,0.084771,-0.058733,0.006556,0.035799,-0.031035,0.019623,0.022649,0.101167,0.085412,-0.007779,0.020973,-0.003713,-0.087090,0.051390,0.022060,-0.019001,0.005849,0.028444,-0.007405,0.006551,-0.040322,0.005358,-0.097824,0.099324,-0.034565,0.025395,-0.066549,-0.059429,-0.001298,0.062909,-0.084395,0.100145,-0.011646,-0.034910,-0.025343,0.079201,-0.096097,-0.021289,-0.030031,0.072559,-0.056213,0.016642,0.039600,0.080571,0.085368,-0.077934,-0.012845,-0.045157,-0.005376,0.059523,-0.009471,0.062803,0.081989,0.103915,0.038650,-0.048139,0.090094,0.101438,0.025129,-0.097937,0.010998,-0.088623,0.090578,-0.054574,0.054380,0.019942,0.066228,0.053133,0.052501,-0.051436,-0.053096,0.051886,-0.083993,0.044315,-0.036636,-0.079591,0.041928,0.090710,-0.005337,0.053078,0.007391,-0.071905,-0.021084,-0.080428,-0.080575,-0.012936,0.101307,-0.043024,-0.046669,0.096443,0.084616,0.091444,-0.034981,-0.094606,0.104232,-0.042154,-0.040498,0.036573,-0.027944,-0.098995,0.004909,-0.040678,0.047315,0.097825,0.011169,-0.020976,0.001405,0.042861,0.008963,0.036878,-0.031315,-0.049049,-0.018641,0.058279,-0.058616,0.021105,0.059627,-0.001412,0.090919,0.004220,-0.074819,0.045633,-0.004261,0.093075,0.015498,-0.097991,0.014965,0.014289,-0.068806,-0.002803,-0.077898,0.092376,0.064483,0.020635,0.001552,-0.007420,0.086810,-0.087760,0.066089,0.021227,-0.057863,0.041048,0.047626,-0.031247,-0.023444,0.015468,-0.033883,-0.062825,-0.041888,0.051567,-0.022253,0.049489,-0.045016,0.056624,0.028681,0.058635,0.031127,0.029065,0.066866,-0.035354,0.019221,0.047937,0.083637,0.038056,0.085826,0.024979,-0.093122,-0.031065,0.055674,-0.047029,-0.035816,0.045847,0.016534,0.052391,0.084570,-0.096090,0.058980,-0.081583,0.071728,-0.003186,0.018156,-0.094024,-0.096273,0.095068,-0.048535,0.044581,0.095512,-0.040774,0.002023,-0.091070,0.021184,-0.079648,-0.021445,0.095655,0.045810,-0.096820,-0.014292,0.016113,0.046818,0.009610,-0.057902,0.057728,-0.089339,0.095759,0.065868,-0.079653,0.000830,-0.054519,-0.082751,-0.103668,-0.031806,-0.053448,0.002424,-0.010591,-0.024692,-0.102897,-0.102666,0.059072,0.096998,-0.025325,-0.102836,0.065617,-0.057751,0.094073,0.028256,0.042169,-0.029969,-0.064541,-0.033148,-0.063697,0.005803,-0.090967,-0.004431,-0.065054,0.023631,-0.003760,0.094025,-0.064368,-0.080479,0.084564,-0.089419,-0.031282,0.007664,-0.056672,-0.049316,-0.091166,-0.060744,-0.054113,-0.052485,0.075641,0.088715,-0.024319,-0.011870,0.015590,-0.028112,-0.051250,-0.004367,0.008938,0.057474,-0.086386,-0.005365,0.032896,-0.097680,0.028401,0.096826,-0.005414,-0.021826,-0.084775,0.020844,0.004382,-0.056754,-0.007618,0.012283,0.053129,0.002755,-0.001821,0.047856,-0.031460,0.088284,0.096183,-0.074142,0.019721,0.023781,0.102966,0.063246,-0.079474,-0.064125,0.018680,0.072476,0.056166,0.035066,-0.050324,0.054904,-0.073884,-0.022663,-0.027856,-0.080543,0.037795,-0.011246,-0.043919,0.046867,0.029302,0.003830,-0.011112,-0.093150,-0.028423,0.033302,-0.076209,0.022018,-0.013076,0.087254,-0.014999,0.098926,0.079055,0.001519,-0.073176,0.057936,-0.073283,-0.063634,0.057585,-0.052592,-0.053837,-0.041710,-0.052552,0.011315,0.018979,-0.006668,0.082678,0.038528,0.012443,-0.100283,-0.050201,-0.041579,-0.097333,-0.012021,-0.063538,-0.090059,0.058035,-0.093912,-0.015219,0.063096,-0.036305,-0.036750,-0.088777,0.060782,0.051957,0.043065,-0.000956,-0.039805,0.061579,-0.058764,0.072003,0.002219,-0.039409,-0.059473,-0.036664,0.077481,0.046522,0.094213,0.035431,-0.050643,0.098704,-0.092458,0.017501,-0.024359,0.103490,-0.009716,0.059821,0.071140,-0.086247,0.002891,0.077672,0.038988,-0.088968,0.020850,0.056837,0.061362,0.085389,0.006099,-0.031468,0.029421,-0.055497,0.004167,0.101225,-0.032635,-0.060508,0.011119,-0.048445,-0.040487,-0.083924,-0.091908,-0.016975,-0.058608,-0.065811,-0.019611,-0.039077,-0.096603,-0.007535,-0.007166,-0.027533,-0.102739,-0.096676,-0.004558,-0.021067,0.062082,0.074107,-0.035038,0.071709,0.089817,0.066664,0.080125,0.051077,-0.070586,0.011040,-0.042310,-0.056209,-0.039048,0.073932,0.063256,-0.051231,0.005262,0.078700,0.063923,0.018174,-0.009892,-0.036420,-0.030293,-0.018072,0.041592,-0.013850,-0.040092,0.036581,0.040322,0.089674,-0.030948,0.093266,-0.079123,-0.056148,-0.045037,0.019583,-0.090215,0.086493,-0.098497,0.095228,-0.092841,0.070447,-0.077258,0.056262,-0.096557,0.046948,-0.009183,0.051485,-0.059726,-0.097790,-0.104231,0.057483,0.030512,-0.015713,0.044582,0.090228,-0.059337,-0.004480,0.097851,-0.045037,-0.003516,0.036962,0.032142,0.092161,0.081256,0.086324,0.071401,0.049860,-0.054902,-0.058064,0.064541,-0.011079,-0.028517,-0.074036,0.095276,-0.016291,-0.077525,0.000337,0.083502,-0.036593,-0.012988,0.011430,-0.000141,0.024299,0.026790,-0.082950,0.050757,-0.024584,-0.070932,-0.070399,-0.009235,0.010719,-0.041067,-0.089411,-0.055062,0.034857,-0.077763,0.062387,0.095209,0.056224,-0.049691,-0.011595,-0.042278,-0.042683,-0.073645,-0.095389,0.085593,-0.088412,0.092373,-0.071920,0.010492,-0.076901,-0.044172,0.032432,-0.091483,0.084794,-0.046449,0.029102,-0.080102,-0.069894,0.068959,0.050603,-0.074154,-0.068295,-0.095748,0.009452,-0.061358,-0.098340,-0.030753,0.030027,-0.030775,0.065315,-0.022967,-0.084393,0.020071,-0.083950,0.097240,0.098334,-0.101932,-0.041300,-0.060145,-0.026607,0.026204,-0.031634,0.077078,0.075453,0.072519,-0.082614,-0.099725,0.057842,-0.006994,-0.015488,-0.087363,0.031083,-0.088273,0.098291,0.089463,0.074746,-0.041331,-0.049669,-0.091540,-0.077910,0.019034,0.016134,0.070395,-0.032005,0.060728,0.071298,0.045824,0.054736,-0.076182,0.095680,-0.047969,0.014271,-0.104433,0.047401,0.081828,-0.018625,-0.033438,-0.047515,-0.056351,-0.061903,0.021515,-0.086524,0.003940,0.058729,0.021663,0.013691,0.053047,0.090441,0.102747,-0.040510,0.039435,0.050674,-0.092670,-0.050743,-0.031128,-0.011108,-0.057522,-0.045991,0.026770,0.051913,-0.087824,0.026523,-0.027589,-0.075291,0.083795,-0.081760,-0.090110,-0.035928,-0.064978,0.008295,-0.102626,-0.025905,-0.082793,0.082222,-0.090141,0.006425,-0.039418,-0.036724,-0.077374,-0.026820,-0.044311,-0.038711,0.044939,0.076761,-0.031577,-0.079470,0.097316,-0.084370,-0.094752,0.105720,0.001613,-0.050166,0.065725,0.078530,-0.053542,-0.019761,-0.068753,0.064537,0.067350,-0.022573,-0.038727,-0.027810,-0.015692,-0.062379,-0.056881,0.099064,-0.099375,0.097777,0.041004,0.035418,0.096435,0.056419,-0.051919,-0.046156,-0.077947,-0.095066,-0.066610,-0.028576,0.049000,-0.100984,0.001142,0.026688,-0.063849,-0.051239,0.105511,0.008024,-0.000342,-0.039411,0.000780,-0.015055,-0.099011,0.032184,0.100406,-0.072395,0.040055,-0.001158,0.030658,-0.061609,-0.004380,-0.099121,0.024194,0.073302,0.009696,0.062532,0.031671,-0.027210,-0.044335,-0.047065,-0.036102,-0.096588,-0.015905,-0.025663,-0.018708,-0.021520,-0.004642,0.070514,0.056324,0.052812,0.006788,0.005317,0.058744,-0.092435,0.012852,-0.035232,-0.000438,0.069403,0.013137,-0.045089,0.063033,-0.081949,0.097843,0.013589,0.022966,-0.055658,-0.090358,0.080149,-0.052032,0.038557,0.014125,0.034882,0.052505,0.021385,0.053669,-0.017371,0.084357,0.040321,0.024100,0.000079,0.075451,-0.039201,-0.091313,0.080321,-0.075862,-0.100212,-0.032911,-0.075003,-0.053303,-0.023727,0.054553,-0.040598,-0.034625,-0.102974,0.067419,-0.060468,0.046619,0.096404,0.079825,-0.062391,0.071015,0.003534,0.051892,-0.073171,-0.086228,0.053033,0.075035,-0.037839,0.101267,0.075879,0.053134,-0.093907,-0.048245,0.043169,-0.066189,-0.098772,0.027152,-0.103369,-0.073941,-0.072775,0.030499,-0.090627,-0.061552,0.068845,-0.095591,0.008514,0.080954,-0.076125,-0.089212,-0.083921,-0.083226,0.063318,0.057879,-0.020226,0.052686,-0.033054,0.070624,0.052624,0.069914,-0.003407,-0.099071,0.023037,-0.082023,-0.098307,0.065601,-0.013004,-0.005232,0.080004,0.035300,-0.078515,0.059027,0.068361,-0.056224,0.093947,-0.076325,-0.007328,-0.051841,-0.021446,0.013812,0.025344,0.092026,0.095321,0.043776,0.072576,0.005793,0.074878,-0.012559,0.097659,0.051253,-0.064147,0.011745,-0.089961,0.075767,-0.098402,0.056214,0.055406,0.007725,0.053642,-0.021793,0.024548,0.002461,0.021335,-0.065833,-0.069265,-0.053488,-0.083966,0.011135,-0.014111,-0.091029,0.017186,-0.036202,0.102189,-0.058402,0.006999,-0.069686,0.069421,0.090232,0.041052,-0.003780,0.054614,-0.066319,0.094482,-0.015415,-0.012401,-0.093899,-0.095227,-0.062817,-0.043352,-0.018938,0.100664,-0.093667,0.100720,0.032902,-0.013690,0.086718,0.070460,-0.090754,-0.073540,-0.015728,0.000210,-0.073989,0.068829,0.093535,-0.062813,0.057887,0.091946,0.032241,0.014141,-0.045516,0.032949,-0.100130,0.077153,0.074964,0.059639,-0.020159,-0.035821,-0.083335,-0.098281,-0.100551,-0.067965,0.078063,0.014526,0.000867,0.015943,0.013123,0.100342,-0.014559,0.005902,0.017694,0.017031,0.066996,-0.084044,0.006621,0.090879,0.095029,-0.096158,0.098077,0.023272,-0.016068,0.061311,-0.092816,0.007958,0.071640,-0.062918,0.047533,0.096586,-0.011871,-0.076915,-0.052197,-0.012051,-0.050801,0.018629,-0.003487,-0.021260,-0.006513,-0.049786,-0.030798,-0.085189,-0.095343,-0.007996,-0.066055,0.002104,0.037802,0.020336,-0.030631,0.063708,-0.059426,-0.044641,-0.027677,0.044029,0.023728,0.065597,-0.038383,-0.022391,0.025895,-0.023624,-0.062562,0.058065,0.041775,-0.001322,-0.063844,-0.053735,-0.019105,-0.043776,-0.029207,-0.088540,-0.005361,0.024302,-0.027284,0.034658,-0.034437,-0.084678,0.063538,-0.085388,-0.050115,-0.042890,-0.043134,-0.052735,-0.068565,0.064416,0.046326,-0.050465,-0.024212,-0.007891,-0.104603,-0.088992,0.092655,0.023081,-0.046491,-0.103009,-0.017685,-0.085715,-0.000356,0.063405,0.049370,-0.050479,0.031009,-0.041833,0.047870,0.018860,0.009944,-0.016223,-0.009390,0.064694,-0.017265,-0.046537,-0.094248,0.072963,0.054385,-0.008943,0.082809,0.073530,-0.018173,-0.020656,-0.039659,-0.007950,-0.070865,-0.054116,0.094455,0.033396,-0.057298,-0.024420,0.012159,-0.101196,0.043634,0.011522,-0.069324,0.091083,0.089302,0.001374,-0.096313,0.031806,-0.074511,0.073996,-0.099440,-0.071295,0.101319,0.069177,-0.068279,0.025056,0.065801,0.013423,0.076533,-0.075666,-0.101357,-0.072705,-0.016978,0.062431,0.059827,0.015046,0.086230,-0.006875,-0.068336,-0.001136,-0.077889,0.015369,0.014028,0.037104,-0.083740,0.026404,-0.025324,-0.022414,0.088628,0.073834,0.095991,-0.007517,0.031596,0.049938,0.097520,0.032381,0.087050,-0.038864,0.076555,0.036144,-0.042642,0.022223,0.060831,0.051863,0.069344,0.060991,0.032024,-0.035366,-0.087303,0.001558,0.087453,0.054929,-0.053272,0.104527,0.099851,-0.034012,0.100875,-0.014394,0.094276,0.097354,0.088837,0.098286,0.029257,-0.038115,0.030382,-0.061731,0.105146,-0.089073,-0.020946,-0.056659,0.036242,-0.089495,-0.076402,0.009318,-0.056162,0.049280,0.020617,-0.043297,-0.097342,-0.068990,0.047436,-0.006107,-0.004699,-0.091337,0.057892,-0.074129,-0.046648,0.090839,-0.031386,-0.025519,-0.001982,-0.085888,-0.040306,0.024387,-0.066886,-0.033390,-0.077901,0.004106,0.039610,0.092632,-0.046498,0.104152,0.031264,-0.093916,0.105460,0.021365,-0.040454,-0.000278,0.015501,0.098821,0.014520,0.093612,-0.042938,0.049445,-0.042563,0.074864,0.036016,0.066360,0.016264,-0.056510,-0.033442,-0.018770,0.005770,0.051618,-0.029303,-0.084342,-0.025523,-0.037739,0.080537,0.030550,0.034480,-0.086895,-0.024610,0.103960,0.075137,0.071597,0.068467,-0.029662,-0.027770,-0.087813,-0.043436,-0.049457,-0.054928,0.088886,0.035632,-0.003715,0.090931,-0.037749,0.056395,0.093034,-0.021851,0.055291,0.045406,-0.074457,0.068593,0.076166,-0.055402,-0.005011,0.008353,-0.011774,-0.034212,-0.091314,0.097181,0.058867,-0.082000,0.001816,0.087481,-0.097229,0.006286,0.043081,-0.031130,0.017463,0.080466,0.068889,0.070669,-0.072217,-0.088073,0.005242,0.089917,0.011692,-0.036880,-0.077038,-0.038321,-0.001264,-0.071883,-0.002657,0.008736,0.081674,0.065919,-0.063794,-0.100168,-0.092471,-0.054540,0.051956,0.027181,0.023522,-0.041411,0.016362,0.020573,-0.017508,0.079609,0.085919,0.099466,-0.022570,-0.014554,0.052704,0.083965,-0.101776,0.081282,0.000642,-0.036007,0.030087,-0.044043,-0.018966,0.001295,-0.091018,-0.053862,-0.037552,0.038145,-0.029522,0.081910,0.088944,-0.029237,0.071450,0.049760,0.015287,0.069816,-0.004240,-0.044195,-0.055113,-0.024531,-0.044912,-0.016266,-0.069362,-0.022544,0.047113,-0.047996,0.044053,-0.097282,-0.072106,0.094214,-0.077032,0.089165,0.062445,-0.013534,-0.026340,-0.051581,0.069755,-0.071253,-0.018256,0.071161,0.033123,0.084420,0.083915,-0.018548,0.057805,-0.014984,0.083357,-0.094356,-0.008316,0.085120,0.056219,-0.030662,0.073568,-0.016741,-0.070884,-0.067581,-0.070217,0.087199,-0.085247,0.005295,0.013143,0.028829,-0.071106,0.026212,0.089574,0.014667,-0.013969,0.052831,0.055641,-0.100606,-0.043214,0.100767,0.054420,-0.002078,-0.072223,0.050465,0.039054,-0.006523,0.099960,0.000510,-0.050521,-0.064529,0.032386,-0.079473,0.091910,-0.047142,-0.004906,-0.025850,-0.064229,-0.072051,0.042766,0.082871,0.003997,-0.076464,0.058091,0.010460,0.032577,0.062731,-0.076736,0.002874,-0.033590,0.026365,0.101041,0.074037,-0.065157,0.070783,0.061385,0.080730,-0.019128,0.072038,-0.018550,-0.035744,0.030217,0.039690,-0.065866,-0.049268,-0.029636,0.074101,-0.092342,-0.028989,0.094214,0.036537,0.094341,0.035023,-0.008905,-0.027605,-0.034703,0.060664,-0.071769,-0.083662,0.055232,-0.044484,-0.017742,-0.061487,0.059478,-0.037245,-0.102831,0.001989,-0.001413,-0.086192,0.033275,0.079287,-0.039681,-0.039041,-0.095349,0.093281,-0.030376,0.070788,-0.018677,0.063333,0.098135,0.058254,0.063368,0.101086,-0.030091,0.023890,0.038355,0.050667,-0.039715,-0.056406,0.105060,0.055003,-0.062475,-0.034741,-0.078505,-0.061324,0.069375,-0.043424,-0.080225,0.058520,-0.098756,0.013838,-0.048621,0.056261,-0.051477,0.044060,-0.051590,-0.045661,0.002614,-0.100238,0.011220,0.039947,0.064849,0.064676,0.065265,-0.009114,0.009684,0.028316,-0.098676,0.103476,-0.033387,0.039571,0.008174,0.057630,-0.029976,0.052976,0.004710,0.098225,-0.069543,-0.084329,-0.000873,-0.103929,-0.084110,0.051167,-0.029898,0.039704,-0.092204,0.060507,-0.064629,-0.089127,0.075374,-0.105877,-0.077450,0.011169,-0.047025,-0.013133,0.042701,0.081232,-0.080398,-0.091595,-0.078430,-0.062227,0.057216,-0.103013,0.000914,0.062788,0.052357,-0.008542,-0.066226,-0.002780,-0.047925,-0.079108,0.004328,0.064129,0.095365,0.086132,-0.059539,-0.028763,-0.009207,0.091366,-0.004053,0.037280,0.063912,0.029942,-0.057904,-0.064838,-0.066462,0.064631,-0.043307,-0.101373,-0.025176,0.002666,0.026577,-0.034157,0.035916,0.051973,-0.022740,-0.002563,-0.066698,0.004840,-0.083080,0.055903,-0.023164,0.082182,-0.056873,0.050500,0.087463,-0.087358,-0.102558,-0.033042,0.062085,0.101956,0.085840,-0.022505,-0.092870,0.051783,0.020868,-0.077066,-0.098296,0.046911,0.053308,0.050889,0.099632,0.034571,-0.062908,0.057127,-0.020572,0.007469,-0.021876,0.063352,0.044352,0.099028,0.085952,-0.038031,0.033437,-0.069767,0.091422,0.014031,-0.009813,0.022905,0.054644,-0.022436,0.101426,0.033092,-0.051936,0.006745,-0.060570,0.040263,-0.064368,0.075724,0.024336,0.006717,0.034382,0.009806,-0.038782,0.042018,-0.025196,0.100769,-0.052409,-0.027702,0.094290,0.080398,0.063143,0.011061,-0.076499,0.102997,-0.086039,0.020987,0.007595,-0.078773,0.049632,0.019999,-0.009829,-0.000710,-0.035382,-0.084174,0.020029,0.084904,-0.012284,0.096495,-0.057958,0.065558,-0.024693,0.029547,0.104842,-0.085514,-0.031258,0.105623,-0.018892,0.082179,-0.099618,-0.059430,-0.040976,0.043883,-0.036372,0.002611,0.040948,0.006350,0.105573,-0.068362,-0.089597,-0.028997,-0.069311,-0.053384,0.040646,-0.098809,-0.044042,-0.071837,0.077195,0.080415,-0.056810,-0.048659,0.083576,-0.076692,0.027118,-0.051280,0.019460,0.012201,0.058154,-0.093485,-0.065631,-0.076777,-0.060260,-0.010506,-0.091325,0.089402,-0.036376,-0.035847,0.099726,0.078252,0.039524,0.063098,-0.063406,-0.093354,-0.040023,-0.035736,-0.076497,0.026769,-0.063605,-0.084110,0.014840,0.034520,0.010292,-0.054979,0.007752,0.037364,-0.025340,0.053409,-0.068071,-0.014843,0.079082,0.081008,0.073899,-0.075305,0.087047,0.057263,-0.085720,-0.053386,0.024471,0.055491,-0.011339,-0.033141,0.040407,-0.025033,-0.069379,-0.033181,0.001955,-0.042275,-0.025658,-0.068509,-0.052413,-0.058704,-0.017785,0.002175,0.028348,0.008171,0.086748,0.004401,-0.041680,-0.079621,-0.088908,-0.021472,0.067558,0.051325,0.102100,0.079359,-0.044525,0.053305,0.021319,-0.001792,0.078870,0.100309,-0.012469,-0.054512,-0.010438,0.095905,-0.075899,0.032378,-0.099671,0.037724,0.057755,-0.031853,-0.008708,-0.027765,-0.061354,0.076759,-0.045701,-0.100830,-0.059440,0.072970,0.010180,-0.046673,0.032548,-0.009646,-0.024442,-0.036467,0.082452,0.050021,0.043664,0.090724,0.082697,-0.015517,-0.003159,0.103739,-0.001135,0.025965,0.089102,-0.039055,0.000212,0.015573,0.013888,-0.059906,-0.097494,0.015912,-0.065292,0.059126,0.033718,0.031868,0.087454,-0.028807,0.013370,0.094031,0.032860,-0.066822,-0.023618,0.008223,0.037970,-0.038955,-0.045985,-0.054283,0.017395,0.003758,0.069020,-0.086612,-0.006169,0.081774,-0.079539,0.034722,0.078683,0.023546,0.036070,0.071297,0.069139,0.036591,-0.102126,-0.034149,-0.003932,0.001378,0.099135,-0.030633,-0.026736,0.026101,-0.098008,0.024798,0.011571,0.084935,-0.016235,0.066715,-0.050570,-0.055398,-0.097465,0.049525,-0.072016,-0.001388,-0.064227,-0.017635,0.071075,-0.071080,-0.048015,0.052518,-0.016901,0.051309,0.060733,-0.004707,-0.062533,0.061382,0.010213,0.025969,0.071032,-0.072455,0.016020,0.061352,0.007136,0.076355,0.021791,0.040208,0.048493,-0.097235,0.010225,0.003388,0.095522,-0.041466,0.015572,0.094351,0.014907,-0.036236,-0.056968\n",
      "WEIGHTS1=-0.102067,0.122422,-0.057987,0.099229,-0.021928,0.088856,-0.001443,0.115139,0.111905,0.043308,0.025847,-0.113714,-0.057254,0.060888,0.074201,-0.045313,-0.060898,-0.094700,0.042015,-0.027745,0.098352,0.066938,-0.099226,0.001750,-0.120814,-0.001803,-0.121725,0.084735,0.073674,-0.102493,-0.042396,-0.007172,-0.080927,-0.011264,0.028860,-0.061418,0.018241,-0.073566,0.004723,0.023789,-0.028454,0.081269,-0.090793,0.120757,-0.024430,0.060426,0.065272,0.090155,0.052184,0.066448,-0.016225,-0.054438,0.080804,-0.097792,0.047074,-0.004009,0.051923,-0.018866,0.105495,0.050511,-0.039707,0.006423,0.030486,-0.071008,-0.092536,0.055638,-0.014393,0.057126,-0.041749,0.014797,-0.034669,0.042413,0.032443,0.060639,-0.038764,-0.060768,0.047120,0.044745,-0.113313,0.011216,0.111942,0.096886,0.010208,-0.074654,0.064206,0.007382,-0.094318,-0.089852,-0.009104,0.114828,-0.121497,-0.096445,-0.066167,-0.026351,0.006712,0.117408,-0.015839,-0.036147,-0.007163,-0.041212,-0.027355,0.100284,-0.107381,-0.003616,-0.005479,-0.035485,0.058179,0.027734,-0.053915,0.049500,-0.108402,0.041912,-0.061602,0.032401,-0.047229,-0.023610,-0.009592,0.090220,-0.057483,0.009623,-0.032480,0.059564,-0.060935,0.126291,0.046196,0.074026,-0.066603,-0.084239,-0.061585,0.083764,-0.109025,0.025156,-0.043199,0.037711,0.095027,0.060778,0.050723,-0.033310,-0.095256,0.087436,0.078223,0.001283,0.102109,0.099308,-0.054459,0.018988,-0.013983,-0.001933,0.064495,0.045540,0.013651,0.069518,-0.117871,0.098178,0.011871,-0.096653,-0.042865,-0.074318,0.061147,-0.084508,0.051145,-0.043268,0.016449,0.100838,0.006498,0.043168,-0.124072,-0.025609,-0.069964,-0.053230,-0.009697,0.012378,-0.088438,-0.044125,-0.027600,0.024150,-0.084346,0.110011,-0.110622,0.117990,0.029891,-0.032127,0.114322,0.075172,0.048588,0.021643,-0.062220,-0.015794,-0.063626,-0.074911,-0.028671,0.074256,-0.056388,0.100019,0.071783,0.076753,0.101596,0.110023,-0.018033,0.106133,0.101287,-0.017198,0.055650,-0.080747,0.093525,-0.094313,-0.061861,-0.125108,0.121745,0.019480,0.038248,0.017349,-0.015268,-0.059234,0.073089,-0.055207,-0.112542,0.046103,0.124059,-0.018267,-0.013072,0.020809,0.072928,-0.070704,0.004810,-0.019932,-0.083943,0.104347,-0.082063,-0.017205,0.036673,-0.104140,-0.054158,-0.095473,-0.092044,0.099216,0.084106,0.083118,-0.078928,0.034242,-0.050088,0.030409,0.074978,-0.113640,0.036029,0.091176,0.079159,0.023139,-0.118834,0.015100,0.046018,-0.074383,0.057581,0.007192,0.081098,0.109517,0.036896,-0.061688,0.024851,0.064519,0.037799,-0.067227,0.044587,-0.083370,-0.077432,0.057166,-0.062005,0.072237,0.073736,-0.120114,-0.035035,0.001152,-0.108127,0.119208,0.072615,-0.057855,-0.068214,-0.038667,0.118932,-0.069684,0.123362,-0.028547,0.015500,-0.012939,-0.018131,0.076714,-0.092000,-0.006183,-0.068954,-0.046412,0.036790,0.113772,0.116773,0.056643,0.014302,-0.110711,-0.084747,0.115565,0.097289,0.050148,-0.118054,-0.039280,0.099272,0.067600,0.068118,-0.003361,0.016342,-0.040126,0.000061,-0.004955,-0.002810,-0.042547,0.004569,-0.054597,0.046525,-0.100089,-0.078416,-0.071373,-0.014517,-0.090693,-0.005561,0.117267,-0.080544,-0.008413,0.041914,-0.117298,0.081429,-0.026647,0.036508,0.059555,-0.093284,0.089398,-0.097404,-0.096580,-0.064366,0.005486,0.080241,0.108488,-0.120293,0.099453,0.060733,0.016790,0.082917,0.054480,0.050701,-0.054462,-0.065667,0.075086,-0.028599,0.092707,0.016284,0.034794,-0.047494,0.109734,-0.004025,-0.006755,-0.039216,-0.117419,0.014565,0.115968,0.062793,0.024985,-0.041159,0.039547,0.019619,-0.051174,0.015671,0.024429,-0.066989,-0.036005,-0.007029,0.044221,-0.115754,-0.115404,-0.048627,0.090536,0.100948,0.054961,0.076148,-0.082503,-0.091402,0.097090,-0.021829,0.030706,-0.099790,0.069136,0.114815,-0.108544,-0.098759,-0.056664,-0.028646,-0.049417,0.113261,-0.053591,0.123256,-0.091379,0.019525,0.115647,-0.024780,0.079207,-0.070898,-0.048770,-0.062011,-0.070601,0.083370,-0.102681,-0.050742,-0.105361,0.111317,0.112745,-0.101743,0.053263,0.053977,-0.012009,0.017748,0.101648,0.012821,-0.098691,0.059609,0.011687,-0.109906,-0.106728,0.116877,0.022063,-0.095323,-0.054128,0.067083,0.028637,-0.016620,0.075465,-0.041779,0.069785,-0.108360,-0.005462,-0.095069,-0.072230,-0.063626,-0.021328,-0.015819,0.111041,-0.125934,0.019178,-0.105198,-0.102632,0.043263,-0.037815,0.065457,-0.029885,0.004592,0.077404,-0.116426,-0.047158,-0.072265,-0.083459,-0.124865,-0.058024,-0.120747,0.071541,0.040314,-0.059778,-0.067528,0.069840,-0.123102,-0.109589,-0.048476,0.043380,-0.055424,0.096087,-0.042586,-0.039504,0.003016,-0.086174,-0.103145,-0.039453,-0.030779,0.109019,-0.015917,0.002025,-0.060344,-0.014945,0.077162,0.099460,0.003507,-0.090982,-0.098380,0.046919,0.087078,-0.124959,0.005804,-0.000203,0.089187,-0.075406,-0.020224,-0.083092,-0.044802,0.078588,0.010055,0.044374,-0.107611,0.015689,-0.021840,-0.069552,-0.020547,-0.074994,0.113516,0.032257,0.110425,-0.090154,-0.105742,0.105648,0.105856,0.105752,0.032324,-0.039966,-0.027029,0.037462,-0.090350,-0.052509,-0.121812,-0.036994,-0.111777,-0.048917,-0.005474,-0.036180,-0.068388,0.022442,-0.021559,0.071285,-0.044022,-0.073722,0.099074,0.003180,0.006289,-0.096570,0.007367,0.081129,-0.006501,-0.094358,-0.016076,-0.037188,0.116085,-0.094299,-0.116613,-0.073714,0.118130,-0.026162,-0.042131,0.038683,-0.084725,0.119611,-0.055905,-0.115279,0.081054,0.023832,0.025547,0.011544,0.070767,-0.007150,0.110619,0.096227,-0.091500,0.008440,0.097106,-0.052258,0.063137,-0.054990,0.025749,0.052046,-0.109729,-0.117414,-0.101935,0.112159,0.123374,0.051972,0.081896,-0.109424,0.013204,-0.038069,-0.112174,-0.108938,0.038259,-0.040362,-0.118357,-0.014291,-0.032500,0.038498,0.102110,0.006448,-0.016867,-0.004142,0.124648,-0.076432,-0.098605,-0.067079,-0.027345,0.107656,-0.021330,0.106954,0.116682,-0.033736,-0.060221,-0.043919,-0.014415,-0.105322,-0.032239,-0.098671,0.022179,-0.089371,-0.076938,0.056164,-0.047169,-0.075929,0.105499,0.001295,-0.089295,0.099917,0.076411,-0.053444,0.059497,-0.009448,-0.027610,0.003639,-0.052343,-0.082585,-0.039818,-0.108305,0.100537,0.048332,0.124584,-0.120091,-0.087185,-0.123880,-0.060947,0.102474,-0.005421,-0.084380,0.064709,0.012255,-0.068609,-0.091988,-0.122369,-0.074827,-0.023146,0.014241,0.030163,-0.106234,0.021878,0.116866,-0.068513,-0.071454,0.102004,-0.002859,0.043365,-0.101334,0.116134,0.054420,0.027793,0.060118,0.122264,-0.113738,-0.022806,-0.010680,0.006978,-0.005879,-0.099552,-0.082106,-0.106391,0.049019,0.031473,0.074690,0.081957,0.019748,0.078609,0.042321,0.032430,-0.070066,0.112035,0.046737,0.031088,0.053834,-0.032975,0.059766,0.107539,-0.096216,-0.059760,-0.030719,-0.044161,0.045015,-0.031169,-0.108084,-0.050321,-0.028224,-0.117643,-0.080219,-0.042712,0.097391,-0.118708,-0.101204,0.054250,0.051063,-0.093698,-0.022406,-0.010487,0.105453,-0.039015,-0.006582,0.024670,-0.064365,0.020364,0.057704,-0.102174,-0.084717,-0.033733,0.049705,0.090597,-0.031968,-0.036294,-0.000304,0.054293,0.023783,-0.118367,-0.022500,0.076735,-0.119774,-0.060764,0.064979,0.006584,-0.020087,-0.027554,0.028294,0.011735,-0.083769,0.094830,-0.002461,0.068152,-0.101079,0.064969,0.044654,0.052530,0.005713,0.055744,0.074600,0.019952,-0.030852,0.120220,-0.060704,-0.076603,0.125283,-0.034288,0.051839,-0.115796,-0.009336,-0.084989,-0.085817,-0.053522,0.083514,-0.025582,-0.060702,-0.091768,0.073017,0.005729,-0.041965,0.103625,0.036057,0.062914,-0.093012,0.044363,0.055029,0.058267,-0.034041,-0.099168,-0.103547,0.073959,0.019753,-0.032751,-0.047577,0.120249,-0.056851,-0.001236,0.097310,-0.079728,-0.088351,0.076356,-0.068673,-0.110584,0.114658,-0.014035,-0.012942,-0.045874,0.004368,-0.056993,-0.099826,0.005506,0.033224,-0.113197,-0.047214,0.015627,0.084062,0.038325,0.120667,-0.103596,0.042438,0.023637,-0.087519,0.005198,0.017210,-0.006739,0.106142,0.118985,0.052897,-0.109379,0.053899,0.117194,0.080928,0.006504,0.117229,0.064652,0.020070,0.121034,0.120076,-0.078042,0.094009,-0.087297,-0.034227,0.100057,-0.107693,-0.015692,0.048583,-0.117075,-0.091579,0.051357,0.072539,0.073702,-0.088727,0.077418,0.002393,-0.050415,0.038169,-0.028887,-0.042110,-0.072274,0.089903,-0.002473,0.019189,0.014640,0.093021,0.022069,-0.108040,-0.058461,-0.084913,0.118093,0.004071,-0.092057,0.010337,-0.051309,0.074931,0.017149,-0.081443,0.045906,-0.060322,0.098294,-0.032738,0.079352,0.076394,0.091201,-0.048799,-0.011882,0.115124,-0.071219,0.013356,0.062613,-0.032493,0.034479,0.122536,0.074365,-0.021139,-0.090782,-0.001415,0.118323,0.107733,-0.120648,-0.009241,0.049749,0.057744,-0.055491,-0.090535,-0.090047,-0.024913,-0.009369,0.051435,0.099755,0.017337,-0.092382,0.094846,-0.087288,-0.064741,-0.107844,-0.012799,-0.028558,0.082104,0.060681,0.096493,-0.020358,0.007733,0.058463,-0.106175,0.042704,0.028321,-0.063130,-0.077089,-0.068615,0.055785,-0.057229,0.118215,0.103582,0.014661,-0.053961,-0.034438,-0.012608,-0.067040,0.039750,0.061898,0.089840,-0.106193,-0.101262,0.096244,0.042344,0.062887,-0.061928,-0.042014,0.041882,-0.042818,-0.086041,0.082255,0.069588,-0.014252,0.040716,-0.063780,0.013037,0.011168,-0.088083,0.125690,0.080332,-0.053554,0.034675,0.071282,-0.042037,0.004264,0.121093,0.077857,-0.063218,-0.047017,0.061468,0.055978,-0.016297,-0.014769,-0.060044,-0.099218,-0.076314,0.091425,0.123552,-0.013173,0.026091,0.007221,0.034544,-0.115740,0.087674,-0.121223,0.108083,-0.078462,-0.098317,0.063351,0.114104,0.093096,0.043198,0.009486,0.075522,-0.037270,-0.006286,0.080819,0.056788,-0.008435,0.118004,0.025865,-0.122227,0.075834,-0.077899,-0.058201,-0.036664,-0.069889,-0.092461,-0.106380,-0.091336,-0.021122,-0.059061,0.021237,-0.061716,-0.065565,-0.071124,-0.025571,-0.061136,0.070413,-0.089569,-0.047943,-0.115865,-0.101856,-0.114817,0.108184,-0.059727,0.017853,0.047869,-0.024942,-0.105300,-0.045522,-0.125168,0.042970,0.072885,0.022501,-0.031923,0.038702,0.031750,0.113424,-0.083976,0.022751,0.078352,0.015025,-0.108287,-0.116707,-0.024981,0.046755,0.093514,-0.109930,0.101431,0.053445,0.044288,-0.043400,-0.090127,0.040583,0.095143,0.071316,0.056562,-0.012760,0.054955,0.094717,-0.071255,-0.114634,-0.084622,-0.121684,0.018246,-0.026646,0.031478,-0.047198,-0.004011,-0.024077,0.123100,0.026232,-0.121017,-0.010804,-0.111862,0.020390,0.025195,-0.089216,0.092230,-0.074221,-0.070167,-0.047115,-0.019227,-0.087366,0.055119,-0.087681,0.047525,0.112073,0.025735,0.082411,-0.090854,0.105880,-0.088290,-0.084095,0.056668,0.083032,0.002127,0.020384,-0.072682,0.012686,-0.097749,-0.070749,-0.099365,0.038529,-0.067911,-0.124092,-0.053160,-0.086235,-0.062186,-0.039029,0.114711,0.106250,0.026176,-0.094400,-0.024727,0.109700,-0.067579,-0.036470,0.025102,-0.086595,0.033420,-0.016869,0.052937,-0.074387,0.028011,0.027531,0.009413,0.106299,-0.121658,0.064141,0.018651,0.000876,-0.101431,0.114477,-0.125611,-0.036537,0.001939,0.044365,-0.110199,0.086881,-0.070141,-0.097661,0.009025,-0.104109,0.032882,-0.018062,-0.009494,-0.096969,0.061224,0.070604,0.051090,-0.056281,0.064648,-0.017970,-0.018275,-0.076568,-0.094093,-0.034948,0.078235,0.104162,0.056730,0.051039,0.061595,-0.095151,-0.054464,0.080737,0.025507,0.094946,-0.008571,0.098765,0.068181,0.001692,0.051967,0.051189,0.020810,-0.003630,-0.075487,-0.047892,0.108389,0.013319,-0.035500,-0.048445,0.022131,-0.043180,-0.051292,0.115623,0.058627,-0.049966,-0.075709,0.099747,0.038818,-0.083776,0.047272,-0.092390,0.043544,-0.013849,0.011073,0.122221,-0.044976,-0.056760,-0.036848,0.105186,0.047815,-0.080687,0.058086,-0.004741,0.057148,0.003927,-0.121253,-0.021211,0.003147,0.061532,-0.119935,0.061715,0.049187,0.030383,0.038396,0.092275,0.027679,-0.043153,-0.096449,-0.023665,0.024249,-0.119801,0.075518,0.072052,-0.112037,-0.021808,-0.078997,0.105051,-0.114112,0.096899,0.065014,0.090689,-0.021942,0.082207,0.014331,-0.066357,0.094798,0.117794,-0.118967,-0.042108,0.049775,0.067260,-0.016853,0.082833,0.013524,0.110158,0.105634,-0.033359,0.124440,0.061163,0.045323,0.104703,-0.046952,0.088959,-0.091431,0.053850,0.112564,0.043491,-0.053746,0.122531,-0.016931,0.039052,0.016038,0.091032,-0.112308,0.063812,-0.111920,0.070108,-0.036421,-0.034015,0.122153,0.005542,-0.042851,-0.071028,-0.048596,-0.050416,-0.011355,0.034846,-0.005330,0.031320,0.032977,-0.013196,0.069296,0.114259,-0.109270,-0.023575,0.054308,0.067937,-0.105916,-0.108793,0.075466,0.020831,0.039434,0.085587,-0.108135,-0.112722,0.001747,0.018346,0.095471,0.021836,-0.038073,0.056658,0.098676,0.123507,0.088011,-0.070505,0.120385,-0.090701,-0.071940,0.111348,-0.121616,-0.063894,0.070817,-0.116698,-0.096806,-0.010206,-0.107887,0.036693,0.101855,-0.035332,-0.001517,0.062496,-0.064365,-0.011274,-0.029439,-0.032969,0.106068,-0.033776,-0.019176,0.014573,0.009650,0.034375,-0.000923,-0.105202,0.116610,0.101836,0.062030,-0.064281,0.103506,-0.074276,-0.005453,0.097633,-0.035175,-0.009225,-0.009976,0.036462,0.005620,-0.081970,-0.031941,-0.109986,0.055165,0.096357,0.023024,-0.036949,0.085514,0.019294,0.108347,0.035479,0.053906,0.112684,0.112651,-0.080912,-0.080966,-0.067870,-0.120072,-0.085154,-0.014946,-0.052934,0.029227,-0.058311,0.036638,-0.093895,0.018529,0.002774,0.046126,-0.035748,0.011949,0.092041,0.055594,0.052893,0.066074,0.047709,0.053097,0.059560,-0.034441,0.124886,-0.052149,-0.099387,0.050541,0.037601,0.086737,-0.098548,0.095725,0.037899,-0.030505,0.082375,-0.099342,-0.103648,0.011951,0.008695,0.114613,-0.028709,-0.013593,0.014094,-0.114226,0.088431,-0.083233,-0.039412,0.075836,-0.091815,0.117631,-0.005548,0.096368,-0.059820,0.109402,-0.067960,-0.067138,0.068190,-0.106045,0.016057,0.040632,-0.014747,0.036610,0.008529,0.083203,-0.035773,-0.051419,0.070234,0.073326,0.063612,-0.022462,-0.101857,-0.023325,0.088044,0.105277,0.015020,0.063694,0.106348,-0.089315,-0.041943,-0.111089,-0.111102,-0.071507,0.112542,-0.038208,-0.025845,-0.014825,0.066117,0.026479,0.084701,-0.005496,-0.107704,0.122971,0.115818,-0.057849,-0.041284,-0.110502,0.076650,0.027820,0.069758,0.121161,0.007219,0.104355,0.098539,-0.043163,0.027185,-0.109756,-0.076528,0.068280,-0.074303,-0.015537,0.024883,0.099197,-0.013484,-0.069575,0.038446,-0.095831,0.037701,-0.000482,-0.015528,-0.078734,-0.078219,-0.093527,0.091311,-0.014929,0.072664,-0.105208,0.079163,0.119863,-0.113788,0.047251,-0.121761,-0.023712,0.029127,-0.080922,0.117245,-0.099977,0.026377,-0.023863,-0.123577,-0.122960,-0.099520,0.079855,0.093560,-0.032585,-0.039616,0.062807,-0.047733,-0.019378,-0.055456,-0.008952,0.123291,0.068824,0.120693,0.051109,0.117193,0.002997,-0.046881,0.107652,-0.101726,-0.086295,0.102871,0.021302,-0.037301,-0.102995,-0.013327,0.028630,0.055395,-0.008005,0.048338,0.025310,0.097937,-0.011853,0.021147,0.124331,-0.096545,-0.106800,0.102631,0.053350,0.015762,0.096780,0.111567,0.028533,-0.061105,0.103459,0.090373,-0.041193,0.092265,0.075640,0.084445,-0.116805,0.083753,-0.075335,0.034902,-0.053340,-0.119474,0.049286,-0.042916,-0.118266,0.050614,-0.064215,0.029068,-0.047193,0.088375,-0.124422,-0.093681,0.024459,0.051113,0.112917,0.107244,-0.062981,0.021370,0.004615,-0.010269,0.009124,-0.084484,-0.093820,0.003192,-0.053066,0.041575,0.009213,0.034849,-0.080898,0.086563,-0.100675,-0.077906,-0.067800,-0.071907,-0.107993,0.002996,0.089642,0.100516,0.062235,-0.069989,-0.060898,-0.034253,0.064164,-0.108073,0.124484,-0.030723,-0.065324,0.052962,-0.004642,0.062730,0.019407,-0.048469,-0.115525,0.096839,0.123690,-0.006979,0.066177,0.024329,0.089160,-0.060184,0.093984,-0.056892,-0.117842,0.046234,0.096496,0.106243,0.084914,-0.051555,0.008528,-0.015963,-0.040365,0.047147,-0.013519,0.082671,-0.066589,0.024781,-0.038056,0.020869,0.043235,0.067350,0.002443,-0.057842,-0.038066,-0.009961,0.092168,0.091819,0.063702,-0.109696,-0.068571,0.040502,0.050448,-0.014802,0.064228,0.079825,0.027902,-0.029253,-0.097336,0.045915,-0.097547,-0.004521,0.088519,-0.040784,-0.050114,0.056579,0.088253,-0.084392,0.092374,-0.051870,-0.086187,-0.096385,-0.000612,-0.053700,-0.065282,0.047005,-0.042818,-0.070507,-0.090245,-0.003950,0.042494,0.042604,0.038215,-0.069580,-0.074448,-0.072185,0.066194,-0.039748,-0.085244,-0.022164,-0.111855,0.090673,-0.066509,-0.089909,0.040229,0.069926,-0.049605,-0.008225,-0.085827,-0.057736,-0.070382,-0.088131,0.060623,-0.097202,0.016479,-0.039964,-0.014880,-0.007716,0.007987,-0.125677,0.079079,0.034679,-0.021864,0.116024,0.075473,-0.001060,0.106064,-0.108912,0.035606,0.007335,-0.012239,-0.123238,0.007630,-0.002780,0.048309,0.004190,0.071367,-0.070193,0.090834,0.013866,-0.028876,0.046895,0.037884,-0.089014,0.036332,0.068434,-0.125066,-0.100167,-0.054294,0.108902,-0.038607,0.058655,0.044806,-0.099107,0.026630,-0.004199,-0.034064,-0.037918,-0.036640,0.031991,-0.047766,-0.027633,0.090278,0.095606,-0.058402,0.103862,-0.018737,0.064820,-0.106169,0.000676,0.001169,-0.116388,0.060426,-0.028072,0.033787,-0.032940,0.059945,0.089560,0.110853,0.095524,-0.114390,-0.025045,0.073735,-0.043391,-0.068538,0.118723,-0.119614,-0.017156,-0.114398,0.036186,-0.063716,-0.107111,0.062819,0.107733,-0.036046,-0.098202,-0.015459,-0.019195,0.075462,-0.118277,0.033516,0.058115,0.010903,-0.000435,-0.010709,-0.078038,-0.087489,-0.085398,-0.105446,0.089097,-0.118732,-0.090634,0.055077,0.024775,-0.043432,0.115160,0.034969,-0.063234,0.016485,-0.013668,0.016486,0.090036,0.005087,-0.118638,0.070694,0.104521,-0.074490,-0.023348,-0.091708,-0.076023,0.106920,-0.062023,-0.091955,0.116374,0.114330,0.093043,0.060828,-0.013749,-0.004386,0.004452,-0.059068,0.049703,-0.121544,-0.030104,0.090574,-0.068748,0.105696,0.049991,-0.058296,0.090100,-0.021247,-0.022060,0.020896,-0.069742,0.085802,0.076157,0.010964,-0.072938,-0.019688,0.082591,-0.043350,-0.065113,-0.108142,-0.085621,-0.034557,-0.037119,-0.109011,-0.107498,0.093424,-0.106613,-0.031117,0.016570,-0.114060,0.005202,-0.097776,0.017099,-0.040736,-0.005173,-0.039361,-0.084652,-0.121071,0.004099,-0.093658,-0.070875,-0.087458,0.064220,-0.026707,-0.022992,0.005703,-0.048061,0.053010,-0.067376,0.001256,0.007330,-0.003544,0.007050,0.066113,0.121076,-0.061050,0.033357,-0.110752,-0.024449,-0.013628,0.045953,-0.089198,0.092790,-0.041044,-0.051966,0.021682,-0.046028,-0.051114,0.068641,-0.101151,-0.082064,-0.110741,0.112414,0.125335,-0.052048,0.011682,0.063864,0.071621,-0.089494,-0.058020,-0.096117,-0.062665,0.070463,0.012068,-0.036816,0.067457,-0.098975,0.022673,0.012911,0.036428,0.087037,0.066954,-0.113354,0.072235,0.077086,0.009947,0.094082,0.077834,0.093274,0.016985,-0.097574,0.043119,-0.012686,0.113247,0.106881,0.004548,0.055179,-0.090840,-0.008815,0.025075,0.100941,-0.094814,-0.065282,0.042692,0.104688,0.070000,-0.086654,0.046892,-0.089191,0.037375,-0.022309,0.035071,0.121541,-0.079536,-0.003314,0.105910,0.121772,-0.020300,-0.014345,0.055864,0.094429,-0.117208,0.093317,-0.096096,-0.104161,0.053257,0.024116,-0.100137,0.019796,0.038393,-0.003857,-0.105699,0.108304,0.085234,-0.096196,0.078810,0.038352,-0.072867,0.034115,-0.056334,0.021168,0.027269,0.118691,-0.029236,-0.062814,-0.103795,-0.020790,0.053602,0.085003,0.075975,0.089484,-0.091164,0.104919,-0.058313,-0.090881,0.100601,0.111877,-0.002912,0.028293,-0.085953,0.005257,0.098518,0.104211,0.021237,0.023929,0.109884,-0.080633,-0.047411,-0.043115,-0.086554,-0.098499,-0.113881,-0.022840,0.071160,0.077765,-0.120512,-0.098115,-0.078043,0.118806,-0.113672,0.106882,0.074698,-0.027190,0.060688,-0.079950,-0.029477,-0.100831,-0.021009,-0.109752,-0.013831,-0.071185,-0.024117,0.034170,0.019389,-0.019956,0.068871,-0.061355,-0.060242,0.107027,-0.067530,0.050642,-0.000530,-0.070763,-0.090077,-0.017039,0.053823,0.054773,-0.119008,-0.031632,-0.043552,0.004773,0.098859,0.009108,0.096643,-0.028439,0.075028,0.110753,-0.061952,-0.047119,-0.085454,0.022085,0.033825,0.049619,0.042191,0.080577,0.111149,-0.072105\n",
      "WEIGHTS2=0.047688,0.165885,0.017394,0.114855,0.005662,-0.068882,0.163797,-0.099386,0.002745,0.147114,0.152704,0.032145,-0.051272,-0.091314,0.071828,0.058827,-0.143288,0.011160,0.030579,-0.132139,-0.050804,0.109895,0.170887,0.099194,-0.112166,-0.052457,0.166710,0.048974,0.096853,-0.016869,-0.080851,-0.110678,-0.016867,-0.013554,0.160097,-0.089852,0.039961,-0.028103,0.046820,-0.072029,0.101210,-0.001436,-0.150100,0.029184,-0.071276,-0.031134,0.031073,-0.105701,0.130732,0.021866,0.112139,-0.120692,-0.148370,0.001556,0.069271,0.112138,0.063829,-0.049694,0.172629,-0.004809,0.174642,0.047924,0.148440,0.020403,0.177596,-0.008888,-0.061017,-0.129669,0.002387,-0.076933,0.110814,0.070785,0.125089,0.083511,-0.111582,0.121074,0.085274,0.044694,0.138583,0.036830,-0.071314,-0.019645,0.046220,-0.163155,-0.082532,0.064650,0.064626,-0.040087,0.019425,-0.162383,0.175291,-0.153869,0.030697,0.109139,-0.019287,-0.051705,-0.055475,-0.002276,0.027430,0.079998,0.128251,0.087720,0.144834,-0.076672,0.086686,0.121136,-0.123834,-0.093108,-0.107938,0.118452,-0.076449,-0.078219,-0.036128,-0.079244,0.107607,0.104461,-0.071522,-0.004298,-0.115057,0.002043,0.136409,-0.114467,-0.034371,-0.007816,0.111293,-0.166496,-0.164272,0.163594,-0.136385,-0.003890,0.044675,0.154139,-0.159069,-0.140423,-0.173921,-0.112095,0.164354,0.065937,0.115686,0.049840,0.075038,-0.162400,0.166808,-0.164831,0.164176,0.067449,0.010358,-0.175611,-0.154268,-0.097984,-0.151335,0.130650,0.006567,0.015115,0.086349,-0.034829,-0.090469,-0.065559,0.061247,0.168724,-0.144190,0.025784,0.003471,-0.040516,-0.133336,-0.166772,-0.150978,0.033728,0.009473,0.174744,-0.064666,-0.057091,-0.069626,-0.117668,-0.089622,0.129434,0.104923,0.083252,-0.027573,-0.173984,-0.038964,-0.049352,0.085764,0.029945,-0.155611,0.092715,0.059218,-0.076757,-0.141696,-0.159359,-0.054578,0.094813,-0.071991,-0.110841,0.062853,-0.065984,0.077817,-0.037487,-0.049477,-0.015204,0.118939,-0.150709,0.118113,-0.064755,0.098271,-0.071152,-0.031600,-0.038673,0.099833,0.027940,-0.167939,-0.123313,-0.062796,0.107068,-0.007478,0.014557,-0.055659,-0.001968,-0.036169,-0.079316,0.154412,-0.150937,0.004341,-0.012384,0.030074,0.103265,-0.012914,-0.010513,-0.147100,0.108767,0.130273,0.076865,-0.020177,0.130764,0.060663,-0.153305,-0.063788,0.158485,0.132866,-0.122011,-0.164390,-0.101888,-0.012165,0.010889,0.091717,0.085348,-0.051477,-0.168692,0.018098,0.081031,0.145449,-0.011812,-0.069112,0.077525,-0.129133,0.161993,-0.155969,0.101492,0.119697,-0.007856,0.039796,-0.047626,0.005634,0.018430,0.170246,0.034735,-0.150552,0.125757,-0.146631,0.044744,-0.074840,0.048262,-0.045915,0.076415,-0.098949,-0.147437,0.140939,0.060404,-0.175094,-0.071030,0.116947,0.013640,-0.131260,-0.052099,-0.025596,0.114577,0.159474,-0.174833,0.034254,-0.039464,-0.061479,-0.036901,0.134032,0.077280,-0.021410,0.151622,-0.130377,-0.162494,-0.178033,-0.174805,0.166937,-0.049768,0.138079,0.056101,0.033448,-0.139360,0.071910,0.143632,-0.092927,-0.124843,0.127899,-0.063974,-0.157817,-0.050707,0.103638,0.043762,-0.167545,-0.034351,-0.122225,0.002065,-0.052784,-0.022052,0.073353,-0.136761,-0.144923,-0.160669,-0.149833,-0.158966,0.173172,-0.164366,0.115488,0.159343,-0.093108,0.162823,-0.000640,0.102024,-0.124506,-0.058966,0.069554,0.006151,-0.151524,-0.089161,-0.125700,0.077450,0.158232,-0.045750,-0.012163,0.014444,-0.090664,-0.107109,0.000175,-0.116026,0.058998,-0.128117,0.048637,0.076817,-0.151959,0.014612,-0.125026,-0.001926,-0.104405,-0.173694,-0.011255,-0.168032,0.017124,-0.143863,0.017633,0.014424,-0.136725,-0.079298,-0.061602,-0.175172,-0.147420,-0.123233,0.055659,0.088236,0.087663,-0.171743,0.031655,0.138120,0.125750,0.119216,-0.015364,-0.151883,0.104781,0.017968,-0.057031,-0.078779,0.017228,0.053099,0.028264,0.154623,-0.169966,0.038469,0.170092,0.122376,0.088319,-0.006692,-0.057333,0.153916,-0.159583,0.000032,-0.049489,-0.102439,-0.043136,-0.063994,-0.132695,0.038595,-0.066930,0.173516,-0.012859,-0.134656,-0.037488,0.167741,0.048959,0.024673,0.082216,0.125522,0.080077,-0.079355,-0.176453,0.097887,0.130993,0.087342,-0.148658,-0.070184,0.166604,0.103828,-0.124611,-0.087560,0.077619,-0.153364,0.031250,-0.022831,-0.119042,0.154461,0.117410,-0.130179,-0.026290,0.048397,0.108951,-0.120329,-0.015185,0.100527,-0.015370,0.018945,0.113026,0.066012,-0.018383,-0.142547,0.094249,0.059101,0.030399,-0.038641,-0.073281,-0.108196,-0.058149,-0.100612,-0.019456,-0.024945,-0.172101,0.045879,-0.135954,-0.155772,-0.009473,-0.156955,0.014085,0.082673,-0.173700,-0.166371,-0.037268,0.157570,0.090674,0.030186,0.083784,-0.174941,-0.101877,-0.121438,0.066372,-0.001245,0.030465,-0.056742,-0.001075,0.012183,0.104135,0.164414,-0.156570,0.116636,-0.091613,0.017914,0.032126,-0.012947,0.168955,-0.032001,0.049908,0.109372,-0.129851,-0.021321,0.151395,-0.118808,0.041378,0.159679,0.141226,-0.086931,-0.015886,0.043394,-0.030891,0.022458,0.066130,0.147698,-0.010779,0.061865\n",
      "WEIGHTS3=0.087706,0.158944,-0.233999,-0.188801,-0.131632,-0.013656,-0.126373,-0.010664,-0.012925,0.205611,0.107830,0.189686,0.008376,0.229502,-0.223459,0.175161,-0.202397,0.086002,0.232179,-0.016288,-0.163048,0.128342,-0.129685,-0.001748,-0.052750,-0.150287,0.140858,0.154389,-0.206557,-0.174647,0.195309,-0.142468,-0.057073,0.048206,0.168231,0.064749,0.022330,-0.065117,0.146467,0.240927,-0.235346,-0.038290,-0.207654,0.247795,-0.155575,0.167260,-0.188031,-0.191583,0.110714,0.094224,0.195103,-0.124438,-0.089157,0.211724,-0.228990,0.116753,0.238629,0.071959,-0.014693,0.024773,0.115262,0.076084,0.146217,0.014067,-0.185375,-0.165324,-0.192403,-0.226386,-0.208551,-0.003331,0.067857,0.238933,-0.126468,-0.019299,-0.201033,0.141771,-0.151236,0.176768,-0.068765,-0.137187\n",
      "WEIGHTS4=-0.321574,0.687060,0.099785,-0.643880,-0.327333,-0.317797,0.889059,-0.037848,0.832227,-0.100916,0.249705,-0.484625,0.311194,0.645577,0.370493,0.590867\n",
      "BIASES0=-0.005642,-0.075946,-0.039982,-0.082910,0.071270,-0.032934,0.026884,-0.088790,-0.089222,-0.079382,-0.038529,0.062877,0.022116,-0.084714,0.024220,0.008945,-0.050706,0.000899,-0.078716,0.101380,0.006690,0.049372,0.023026,-0.052591,0.092969,0.065820,0.036753,-0.039871,0.023975,0.036853,-0.031746,0.097141,-0.095320,0.024120,0.088769,-0.051464,-0.061299,-0.063897,0.058020,0.006842,-0.074547,-0.006229,-0.068783,-0.079583,-0.053110,-0.101483,-0.008100,0.057103,-0.017207,-0.087449,0.020694,0.026399,-0.028292,-0.060708,-0.016631,0.028543,0.103513,0.014005,-0.059083,-0.041537,-0.018594,-0.062083,0.017373,0.085978\n",
      "BIASES1=0.055294,0.037993,-0.106704,0.120635,-0.012509,0.050218,-0.059941,-0.097517,0.121440,-0.023370,-0.077458,0.121240,0.124251,-0.005934,0.040126,0.091790,0.092312,-0.089933,-0.117880,-0.043138,-0.050587,-0.095958,-0.046559,-0.035465,0.045965,0.010412,-0.082977,-0.051731,-0.051357,-0.072753,0.093903,0.063922\n",
      "BIASES2=-0.033099,0.168409,-0.117666,0.138494,0.134299,-0.151462,0.159407,0.098001,-0.149995,0.041438,-0.151941,0.022003,-0.000001,-0.155175,-0.008241,0.012513\n",
      "BIASES3=0.197680,-0.000511,-0.145246,-0.186321,0.146090\n",
      "BIASES4=0.000000,0.000000,0.000000,0.000000,0.000000,0.000000,0.000000,0.000000,0.000000,0.000000,0.000000,0.000000,0.000000,0.000000,0.000000,0.000000\n",
      "GAMMAS0=0.998519,1.001433,0.999541,1.001286,1.000754,1.001213,1.001402,0.999616,0.998299,1.001768,1.001284,1.001700,1.001543,0.998400,0.998284,0.998458,1.001645,1.000899,1.001235,1.001301,0.998582,1.001753,0.998302,0.998994,0.998381,0.998635,1.000824,1.001717,0.998713,1.000400,1.000454,0.998751,1.001650,0.998238,0.999550,0.998209,0.998316,0.998689,1.001601,1.001730,0.998642,0.998406,0.998793,1.001056,0.999629,1.001639,1.001032,0.998342,0.998979,0.999451,0.998846,1.001688,1.001462,0.998369,1.000843,0.998761,0.998332,0.998325,0.999014,1.001643,0.999680,1.000419,1.001479,1.001716\n",
      "GAMMAS1=1.001282,1.000003,1.001225,0.998464,1.001556,0.998603,1.001653,0.999742,0.998180,1.001483,1.001768,0.999985,0.998490,0.998201,0.998351,1.001503,1.000435,0.998388,1.001800,0.998569,0.998249,1.001614,0.999247,1.001749,1.001727,1.001653,0.999524,0.998384,1.001504,1.001343,1.001667,1.001082\n",
      "GAMMAS2=1.001624,1.001690,0.998443,0.999929,1.001812,0.998986,1.001578,1.001119,0.998667,0.998301,0.998308,1.001707,1.001588,0.998271,0.998509,1.001640\n",
      "GAMMAS3=0.998361,0.998392,0.999388,0.998601,0.998489\n",
      "BETAS0=0.000468,0.001451,-0.000048,0.001643,-0.000123,0.001652,-0.001805,0.001662,-0.000820,-0.001149,0.001666,-0.001778,0.001667,0.001484,0.001543,-0.001683,-0.001698,-0.001576,0.001435,-0.000522,-0.001718,0.001609,-0.001048,0.000665,-0.001714,-0.000491,0.000681,-0.001223,0.001525,-0.001709,0.000714,-0.001031,0.000120,0.001570,-0.001277,-0.000632,-0.001603,0.001707,0.001589,-0.001694,0.001548,-0.000584,-0.001615,0.001754,-0.000114,0.001748,0.000404,0.001429,-0.001740,0.001654,0.001518,-0.001693,0.001805,-0.001685,-0.001641,-0.001603,-0.001173,0.000541,-0.001402,-0.000007,0.001649,0.001441,-0.000072,0.000378\n",
      "BETAS1=-0.000838,0.001651,-0.001354,0.000619,0.001293,0.001443,0.001665,-0.000434,0.001460,0.001288,0.000132,-0.000954,0.001377,0.001699,0.001592,-0.001437,-0.001763,-0.001596,0.001118,0.001137,0.000600,0.001595,-0.001744,-0.001630,0.001062,-0.001047,0.000590,0.001103,0.001187,-0.000331,-0.001741,0.001657\n",
      "BETAS2=-0.000301,-0.000856,-0.001209,-0.000766,-0.000572,-0.001316,0.000921,-0.000641,-0.000822,0.000315,0.000635,0.000286,-0.000316,0.000276,-0.000958,0.000535\n",
      "BETAS3=0.000210,0.000005,-0.000427,0.000248,0.000308\n",
      "EXPECTATIONS0=-0.086294,-0.522249,-0.137222,-0.366943,0.070369,-0.388585,0.389587,-0.595785,-0.457563,0.436210,-0.392352,0.262432,0.222576,0.329624,0.563711,0.198866,0.138537,-0.134382,0.009364,-0.252495,0.298522,-0.052123,-0.379244,0.157806,0.202859,-0.105928,0.324487,-0.148090,0.197698,-0.202051,-0.062604,0.020545,-0.067901,-0.259405,0.344037,0.095597,0.105130,0.097137,0.620424,-0.034405,0.349257,-0.450696,0.532146,-0.169499,0.245578,-0.021667,-0.510975,0.434556,-0.328444,-0.305989,-0.274415,-0.129785,-0.400941,-0.137458,-0.239726,0.395888,0.156549,-0.078887,0.304390,-0.357032,0.101846,0.016269,0.190522,0.342332\n",
      "EXPECTATIONS1=0.051371,0.025315,-0.083975,0.071889,-0.013029,0.038484,-0.041360,-0.074409,0.083213,-0.022518,-0.047518,0.080058,0.065945,0.006737,0.031779,0.070448,0.092629,-0.066696,-0.088977,-0.038718,-0.049509,-0.068137,-0.032810,-0.026322,0.040972,-0.007789,-0.057951,-0.061486,-0.026687,-0.064403,0.062344,0.045431\n",
      "EXPECTATIONS2=-0.019565,0.146991,-0.075072,0.111641,0.080033,-0.131669,0.167281,0.080707,-0.118845,0.031643,-0.118584,0.021073,-0.000999,-0.110734,-0.013018,0.007517\n",
      "EXPECTATIONS3=0.133699,-0.000375,-0.107459,-0.147743,0.101443\n",
      "VARIANCES0=0.151362,0.151370,0.153349,0.153696,0.152677,0.152331,0.152936,0.151918,0.151538,0.151282,0.151722,0.151955,0.151364,0.152334,0.151179,0.152636,0.152339,0.151822,0.152154,0.151581,0.152561,0.152766,0.152278,0.153192,0.154265,0.152212,0.152454,0.152266,0.151750,0.152040,0.154006,0.152429,0.152664,0.151735,0.153070,0.153899,0.152837,0.152088,0.151763,0.153976,0.151854,0.152588,0.151545,0.152201,0.151173,0.152341,0.152438,0.152215,0.153257,0.151612,0.152025,0.152344,0.152493,0.153175,0.152881,0.151775,0.153141,0.153831,0.152447,0.152991,0.153933,0.152326,0.152930,0.151683\n",
      "VARIANCES1=0.479862,0.379926,0.431363,0.479120,0.481494,0.430673,0.531782,0.441769,0.561025,0.481233,0.537978,0.594058,0.547972,0.462057,0.504331,0.467847,0.426265,0.506354,0.480781,0.382071,0.449650,0.465250,0.471068,0.492249,0.508368,0.471386,0.513676,0.462746,0.534416,0.353125,0.520934,0.554685\n",
      "VARIANCES2=0.466246,0.380682,0.567187,0.475674,0.597613,0.410014,0.553993,0.467814,0.428074,0.466534,0.468271,0.461331,0.342513,0.520322,0.439841,0.430373\n",
      "VARIANCES3=0.506591,0.495867,0.431311,0.452354,0.503431\n"
     ]
    }
   ],
   "source": [
    "ANN_WEIGHTS = linear_ws + linear_bs + batchnorm_gs + batchnorm_bs + batchnorm_es + batchnorm_vs[:-1] # remove extra whitespace\n",
    "print(ANN_WEIGHTS)"
   ]
  },
  {
   "cell_type": "markdown",
   "metadata": {},
   "source": [
    "# Bias the simulation with PINES in PLUMED (`2.biased`)"
   ]
  },
  {
   "cell_type": "markdown",
   "metadata": {},
   "source": [
    "The whitened CVs discovered by the autoencoders are used to bias the enhanced sampling MD runs using PBMetaD. A detailed tutorial for PBMetaD and descriptions of all the options are available [here](https://www.plumed.org/doc-v2.9/user-doc/html/_p_b_m_e_t_a_d.html). \n",
    "\n",
    "The MD simulation is stopped after 25 ns, and the new, biased trajectory is used to retrain the autoencoder for the next round. The biasing then continues with the updated CVs. This cycle continues until the learned CVs are converged.\n"
   ]
  },
  {
   "cell_type": "code",
   "execution_count": 68,
   "metadata": {},
   "outputs": [],
   "source": [
    "BIASED_DIR = BASE_DIR/\"data\"/\"2.biased\"\n",
    "LATENT_DIM = latent_data.shape[1]"
   ]
  },
  {
   "cell_type": "markdown",
   "metadata": {},
   "source": [
    "## PINES PLUMED input file"
   ]
  },
  {
   "cell_type": "markdown",
   "metadata": {},
   "source": [
    "In our PLUMED input file, we have `PLUMED_PINES` block, which calculates PIVs given cartesian coordinates. It is identical to the one we used for the unbiased data. The `ANN` block takes the `PINES` block's outputs as inputs, and incorporates the architecture and the weights of our autoencoder, and finally a `PBMETAD` block which deposits biases along the discovered CVs. Note that the `ANN` block here has one extra layer compared to the autoencoder we trained because of the PCA layer that we manually appended."
   ]
  },
  {
   "cell_type": "markdown",
   "metadata": {},
   "source": [
    "The last piece of information we need, is the range of outputs from the PCA layer to determine the properties of the `GRID` used for `PBMETAD`"
   ]
  },
  {
   "cell_type": "code",
   "execution_count": 69,
   "metadata": {},
   "outputs": [],
   "source": [
    "GRID_MAXES = np.ceil(pca_res.max(axis=0)*10)/10 # up to a decimal\n",
    "GRID_MAXES = np.char.mod('%f', GRID_MAXES)\n",
    "GRID_MAXES = \",\".join(GRID_MAXES)\n",
    "GRID_MINS = np.floor(pca_res.min(axis=0)*10)/10\n",
    "GRID_MINS = np.char.mod('%f', GRID_MINS)\n",
    "GRID_MINS = \",\".join(GRID_MINS)\n",
    "GRID_BINS = \",\".join([\"5000\" for i in range(LATENT_DIM)])\n",
    "PBMETADARGS = [f\"ann.node-{i}\" for i in range(LATENT_DIM)]\n",
    "PBMETADARGS = \",\".join(PBMETADARGS)\n",
    "PBSIGMAS = \",\".join([\"0.1\" for i in range(LATENT_DIM)])\n",
    "PBHILLS = \",\".join([f\"hills_pc{i}.out\" for i in range(LATENT_DIM)])"
   ]
  },
  {
   "cell_type": "code",
   "execution_count": 70,
   "metadata": {},
   "outputs": [],
   "source": [
    "PLUMED_PINES = f\"\"\"\n",
    "# Distance between Na and Cl atoms\n",
    "dist: DISTANCE ATOMS=1525,1526\n",
    "\n",
    "# Solvation of Na atom\n",
    "COORDINATION ...\n",
    "  LABEL=coord\n",
    "  GROUPA=1525\n",
    "  GROUPB=1-1524:3\n",
    "  SWITCH={{RATIONAL R_0=0.315 D_MAX=0.5 NN=12 MM=24}}\n",
    "  NLIST\n",
    "  NL_CUTOFF=0.55\n",
    "  NL_STRIDE=10\n",
    "... COORDINATION\n",
    "\n",
    "PINES ...\n",
    "LABEL=pines\n",
    "PRECISION=10000\n",
    "NLIST\n",
    "ONLYCROSS\n",
    "REF_FILE=nvt.pdb\n",
    "PINESATOMS=5\n",
    "ATOMTYPES=NA,CL,OW,HW1,HW2\n",
    "SFACTOR=1.0,1.0,1.0,1.0,1.0\n",
    "SORT=1.0,1.0,1.0,1.0,1.0\n",
    "SWITCH1={{RATIONAL R_0=0.38 MM=12 NN=6}}\n",
    "SWITCH2={{RATIONAL R_0=0.35 MM=12 NN=6}}\n",
    "SWITCH3={{RATIONAL R_0=0.41 MM=12 NN=6}}\n",
    "SWITCH4={{RATIONAL R_0=0.40 MM=12 NN=6}}\n",
    "SWITCH5={{RATIONAL R_0=0.28 MM=12 NN=6}}\n",
    "NL_CUTOFF=5.0,1.5,1.5,1.5,1.5\n",
    "NL_STRIDE=1.0,1.0,1.0,1.0,1.0\n",
    "NL_SKIN=0.1,0.1,0.1,0.1,0.1\n",
    "NL_CONSTANT_SIZE=15\n",
    "WRITEPINESTRAJ\n",
    "WRITEPINESSTRIDE=100000000\n",
    "... PINES\n",
    "\n",
    "ANNB ...\n",
    "LABEL=ann\n",
    "ARG=pines.*\n",
    "NUM_LAYERS=6\n",
    "NUM_NODES=91,64,32,16,{LATENT_DIM},{LATENT_DIM}\n",
    "ACTIVATIONS=BNTanh,BNTanh,BNTanh,BNTanh,Linear\n",
    "{ANN_WEIGHTS}\n",
    "APPLY_BATCH_NORM\n",
    "... ANNB\n",
    "\n",
    "PBMETAD ...\n",
    "ARG={PBMETADARGS} SIGMA={PBSIGMAS} HEIGHT=1.2\n",
    "TEMP=300 PACE=500 BIASFACTOR=2 LABEL=pb\n",
    "FILE={PBHILLS}\n",
    "GRID_MIN={GRID_MINS} GRID_MAX={GRID_MAXES} GRID_BIN={GRID_BINS}\n",
    "... PBMETAD\n",
    "\n",
    "# monitor the cv and the metadynamics bias potential\n",
    "PRINT STRIDE=1 ARG=dist,coord,{PBMETADARGS} FILE=colvar.out\n",
    "PRINT STRIDE=1 ARG=pb.bias FILE=pbbias.out\n",
    "\n",
    "\"\"\""
   ]
  },
  {
   "cell_type": "markdown",
   "metadata": {},
   "source": [
    "Save the plumed file"
   ]
  },
  {
   "cell_type": "code",
   "execution_count": 71,
   "metadata": {},
   "outputs": [],
   "source": [
    "with open(f\"{BIASED_DIR}/plumed_parametrized.dat\", \"w\") as f:\n",
    "    f.write(PLUMED_PINES)"
   ]
  },
  {
   "cell_type": "markdown",
   "metadata": {},
   "source": [
    "## Run the biased simulation"
   ]
  },
  {
   "cell_type": "code",
   "execution_count": 50,
   "metadata": {},
   "outputs": [
    {
     "name": "stderr",
     "output_type": "stream",
     "text": [
      "               :-) GROMACS - gmx grompp, 2021.6-plumed-2.8.3 (-:\n",
      "\n",
      "                            GROMACS is written by:\n",
      "     Andrey Alekseenko              Emile Apol              Rossen Apostolov     \n",
      "         Paul Bauer           Herman J.C. Berendsen           Par Bjelkmar       \n",
      "       Christian Blau           Viacheslav Bolnykh             Kevin Boyd        \n",
      "     Aldert van Buuren           Rudi van Drunen             Anton Feenstra      \n",
      "    Gilles Gouaillardet             Alan Gray               Gerrit Groenhof      \n",
      "       Anca Hamuraru            Vincent Hindriksen          M. Eric Irrgang      \n",
      "      Aleksei Iupinov           Christoph Junghans             Joe Jordan        \n",
      "    Dimitrios Karkoulis            Peter Kasson                Jiri Kraus        \n",
      "      Carsten Kutzner              Per Larsson              Justin A. Lemkul     \n",
      "       Viveca Lindahl            Magnus Lundborg             Erik Marklund       \n",
      "        Pascal Merz             Pieter Meulenhoff            Teemu Murtola       \n",
      "        Szilard Pall               Sander Pronk              Roland Schulz       \n",
      "       Michael Shirts            Alexey Shvetsov             Alfons Sijbers      \n",
      "       Peter Tieleman              Jon Vincent              Teemu Virolainen     \n",
      "     Christian Wennberg            Maarten Wolf              Artem Zhmurov       \n",
      "                           and the project leaders:\n",
      "        Mark Abraham, Berk Hess, Erik Lindahl, and David van der Spoel\n",
      "\n",
      "Copyright (c) 1991-2000, University of Groningen, The Netherlands.\n",
      "Copyright (c) 2001-2022, The GROMACS development team at\n",
      "Uppsala University, Stockholm University and\n",
      "the Royal Institute of Technology, Sweden.\n",
      "check out http://www.gromacs.org for more information.\n",
      "\n",
      "GROMACS is free software; you can redistribute it and/or modify it\n",
      "under the terms of the GNU Lesser General Public License\n",
      "as published by the Free Software Foundation; either version 2.1\n",
      "of the License, or (at your option) any later version.\n",
      "\n",
      "GROMACS:      gmx grompp, version 2021.6-plumed-2.8.3\n",
      "Executable:   /project/andrewferguson/armin/grom_new/gromacs-2021.6/installed-files-gpu2/bin/gmx\n",
      "Data prefix:  /project/andrewferguson/armin/grom_new/gromacs-2021.6/installed-files-gpu2\n",
      "Working dir:  /project2/andrewferguson/armin/pines_tutorial/data/2.biased\n",
      "Command line:\n",
      "  gmx grompp -f /project2/andrewferguson/armin/pines_tutorial/data/0.unbiased/3_md/md.mdp -c /project2/andrewferguson/armin/pines_tutorial/data/0.unbiased/3_md/md.gro -r /project2/andrewferguson/armin/pines_tutorial/data/0.unbiased/3_md/md.gro -t /project2/andrewferguson/armin/pines_tutorial/data/0.unbiased/3_md/md.cpt -p /project2/andrewferguson/armin/pines_tutorial/data/0.unbiased/3_md/topol.top -o biased.tpr\n",
      "\n",
      "Ignoring obsolete mdp entry 'title'\n",
      "Ignoring obsolete mdp entry 'ns_type'\n",
      "Generating 1-4 interactions: fudge = 0.5\n",
      "Number of degrees of freedom in T-Coupling group Water_and_ions is 3051.00\n",
      "\r",
      "Last frame         -1 time  250.000   \n",
      "\n",
      "Back Off! I just backed up biased.tpr to ./#biased.tpr.3#\n",
      "\n",
      "GROMACS reminds you: \"I had trouble with physics in college. When I signed up I thought it said psychics.\" (Greg Tamblyn)\n",
      "\n"
     ]
    },
    {
     "name": "stdout",
     "output_type": "stream",
     "text": [
      "Setting the LD random seed to -189120555\n",
      "\n",
      "Generated 2211 of the 2211 non-bonded parameter combinations\n",
      "\n",
      "Generated 2211 of the 2211 1-4 parameter combinations\n",
      "\n",
      "Excluding 2 bonded neighbours molecule type 'SOL'\n",
      "\n",
      "turning H bonds into constraints...\n",
      "\n",
      "Excluding 1 bonded neighbours molecule type 'NA'\n",
      "\n",
      "turning H bonds into constraints...\n",
      "\n",
      "Excluding 1 bonded neighbours molecule type 'CL'\n",
      "\n",
      "turning H bonds into constraints...\n",
      "Analysing residue names:\n",
      "There are:   508      Water residues\n",
      "There are:     2        Ion residues\n",
      "Analysing residues not classified as Protein/DNA/RNA/Water and splitting into groups...\n",
      "\n",
      "Determining Verlet buffer for a tolerance of 0.005 kJ/mol/ps at 300 K\n",
      "\n",
      "Calculated rlist for 1x1 atom pair-list as 1.035 nm, buffer size 0.035 nm\n",
      "\n",
      "Set rlist, assuming 4x4 atom pair-list, to 1.000 nm, buffer size 0.000 nm\n",
      "\n",
      "Note that mdrun will redetermine rlist based on the actual pair-list setup\n",
      "\n",
      "Reading Coordinates, Velocities and Box size from old trajectory\n",
      "\n",
      "Will read whole trajectory\n",
      "\n",
      "Using frame at t = 250 ps\n",
      "\n",
      "Starting time for run is 0 ps\n",
      "Calculating fourier grid dimensions for X Y Z\n",
      "Using a fourier grid of 16x16x16, spacing 0.156 0.156 0.156\n",
      "\n",
      "Estimate for the relative computational load of the PME mesh part: 0.22\n",
      "\n",
      "This run will generate roughly 2 Mb of data\n",
      "Nothing to do. Use 'plumed help' for help\n"
     ]
    },
    {
     "name": "stderr",
     "output_type": "stream",
     "text": [
      "                :-) GROMACS - gmx mdrun, 2021.6-plumed-2.8.3 (-:\n",
      "\n",
      "                            GROMACS is written by:\n",
      "     Andrey Alekseenko              Emile Apol              Rossen Apostolov     \n",
      "         Paul Bauer           Herman J.C. Berendsen           Par Bjelkmar       \n",
      "       Christian Blau           Viacheslav Bolnykh             Kevin Boyd        \n",
      "     Aldert van Buuren           Rudi van Drunen             Anton Feenstra      \n",
      "    Gilles Gouaillardet             Alan Gray               Gerrit Groenhof      \n",
      "       Anca Hamuraru            Vincent Hindriksen          M. Eric Irrgang      \n",
      "      Aleksei Iupinov           Christoph Junghans             Joe Jordan        \n",
      "    Dimitrios Karkoulis            Peter Kasson                Jiri Kraus        \n",
      "      Carsten Kutzner              Per Larsson              Justin A. Lemkul     \n",
      "       Viveca Lindahl            Magnus Lundborg             Erik Marklund       \n",
      "        Pascal Merz             Pieter Meulenhoff            Teemu Murtola       \n",
      "        Szilard Pall               Sander Pronk              Roland Schulz       \n",
      "       Michael Shirts            Alexey Shvetsov             Alfons Sijbers      \n",
      "       Peter Tieleman              Jon Vincent              Teemu Virolainen     \n",
      "     Christian Wennberg            Maarten Wolf              Artem Zhmurov       \n",
      "                           and the project leaders:\n",
      "        Mark Abraham, Berk Hess, Erik Lindahl, and David van der Spoel\n",
      "\n",
      "Copyright (c) 1991-2000, University of Groningen, The Netherlands.\n",
      "Copyright (c) 2001-2022, The GROMACS development team at\n",
      "Uppsala University, Stockholm University and\n",
      "the Royal Institute of Technology, Sweden.\n",
      "check out http://www.gromacs.org for more information.\n",
      "\n",
      "GROMACS is free software; you can redistribute it and/or modify it\n",
      "under the terms of the GNU Lesser General Public License\n",
      "as published by the Free Software Foundation; either version 2.1\n",
      "of the License, or (at your option) any later version.\n",
      "\n",
      "GROMACS:      gmx mdrun, version 2021.6-plumed-2.8.3\n",
      "Executable:   /project/andrewferguson/armin/grom_new/gromacs-2021.6/installed-files-gpu2/bin/gmx\n",
      "Data prefix:  /project/andrewferguson/armin/grom_new/gromacs-2021.6/installed-files-gpu2\n",
      "Working dir:  /project2/andrewferguson/armin/pines_tutorial/data/2.biased\n",
      "Command line:\n",
      "  gmx mdrun -ntmpi 1 -deffnm biased -plumed plumed_parametrized.dat\n",
      "\n",
      "\n",
      "Back Off! I just backed up biased.log to ./#biased.log.2#\n",
      "Reading file biased.tpr, VERSION 2021.6-plumed-2.8.3 (single precision)\n",
      "Changing nstlist from 10 to 100, rlist from 1 to 1.16\n",
      "\n",
      "1 GPU selected for this run.\n",
      "Mapping of GPU IDs to the 2 GPU tasks in the 1 rank on this node:\n",
      "  PP:0,PME:0\n",
      "PP tasks will do (non-perturbed) short-ranged interactions on the GPU\n",
      "PP task will update and constrain coordinates on the CPU\n",
      "PME tasks will do all aspects on the GPU\n",
      "Using 1 MPI thread\n",
      "Using 28 OpenMP threads \n",
      "\n",
      "\n",
      "Back Off! I just backed up biased.xtc to ./#biased.xtc.2#\n",
      "\n",
      "Back Off! I just backed up biased.edr to ./#biased.edr.2#\n",
      "starting mdrun 'Ion pair in solution in water'\n",
      "125000 steps,    250.0 ps.\n",
      "/bin/sh: line 1: 49236 Segmentation fault      gmx mdrun -ntmpi 1 -deffnm biased -plumed plumed_parametrized.dat\n"
     ]
    }
   ],
   "source": [
    "# copy the pdb file from the nvt simulation for refrence\n",
    "subprocess.run(f\"cp {EM_DIR}/nvt.pdb {BIASED_DIR}/nvt.pdb\", shell=True)\n",
    "# for round 1\n",
    "with cd(f\"{BIASED_DIR}\"):\n",
    "    subprocess.run(f\"{GMX_EXEC} grompp -f {MD_DIR}/md.mdp -c {MD_DIR}/md.gro -r {MD_DIR}/md.gro -t {MD_DIR}/md.cpt -p {MD_DIR}/topol.top -o biased.tpr\", shell=True)\n",
    "    subprocess.run(f\"{GMX_EXEC} mdrun -ntmpi 1 -deffnm biased -plumed plumed_parametrized.dat\", shell=True)\n",
    "# for subsequent rounds\n",
    "#with cd(f\"{BIASED_DIR}\"):\n",
    "    #subprocess.run(f\"{GMX_EXEC} mdrun -s {MD_DIR/\"md.tpr\"} -deffnm biased -plumed plumed_parametrized.dat -cpi biased.cpt\")"
   ]
  },
  {
   "cell_type": "markdown",
   "metadata": {},
   "source": [
    "Another important criteria for determining wether the sampling at each round has been sufficient is to look at the explored CV space and compare it to the previous rounds."
   ]
  },
  {
   "cell_type": "code",
   "execution_count": 73,
   "metadata": {},
   "outputs": [
    {
     "data": {
      "image/png": "[encoded data removed]",
      "text/plain": [
       "<Figure size 800x600 with 1 Axes>"
      ]
     },
     "metadata": {},
     "output_type": "display_data"
    }
   ],
   "source": [
    "def get_colvardata(filename_colvar):\n",
    "    with open(filename_colvar,'r') as colvar_file:\n",
    "        colvar_labels = colvar_file.readline().split()[2:]\n",
    "    colvar_data=np.loadtxt(filename_colvar)\n",
    "    return (colvar_data,colvar_labels)\n",
    "\n",
    "\n",
    "(colvar_data_un,labels_un)=get_colvardata(f\"{PIV_DIR}/colvar\")\n",
    "(colvar_data_b,labels_b)=get_colvardata(f\"{BIASED_DIR}/colvar.out\")\n",
    "\n",
    "plt.figure(figsize=(8, 6), dpi=100)\n",
    "\n",
    "plt.plot(colvar_data_b[::250, 1], colvar_data_b[::250, 2], '.', c='red', label='biased') # plotting every 250 frames\n",
    "plt.plot(colvar_data_un[:,1], colvar_data_un[:,2], '.', c='blue', label='unbiased')\n",
    "plt.xlabel(\"Na-Cl distance [nm]\")\n",
    "plt.ylabel(\"Coord. No. of Na\")\n",
    "plt.legend()\n",
    "plt.show()"
   ]
  },
  {
   "cell_type": "markdown",
   "metadata": {},
   "source": [
    "# Convergence criteria\n",
    "\n",
    "PINES-learned CVs are considered converged if i) the dimensionality of the bottleneck layer is constant between consecutive rounds and ii) the cosine similarity between the learned CVs of two consecutive rounds is greater than 0.9. This is calculated by projecting the current round’s simulation into the current and previous round’s CVs and calculating the cosine similarity. "
   ]
  },
  {
   "cell_type": "markdown",
   "metadata": {},
   "source": [
    "<figure align=\"center\">\n",
    "  <img src=\"./notebook_src/pines3.png\" alt=\"elbow plot\">\n",
    "  <figcaption>Fig. 3: Elbow plots showing the convergence of the latent space dimensionality. As we go through rounds of applying PINES, the knee of the FVE plots converges to a fixed value, indicating that PINES has efficiently learned the underlying latent space. Figure adapted from 10.1021/acs.jctc.3c00923, copyright ACS.\n",
    "</figcaption>\n",
    "</figure>\n",
    "\n",
    "<figure align=\"center\">\n",
    "  <img src=\"./notebook_src/pines4.png\" alt=\"cos sim\">\n",
    "  <figcaption>Fig. 4: Similar to the elbow plot, as we go through rounds of applying PINES the discovered CVs converge, leading to the cosine similarity of the discovered CVs between two consecutive round to be close to 1. Figure adapted from 10.1021/acs.jctc.3c00923, copyright ACS.\n",
    "</figcaption>\n",
    "</figure>"
   ]
  },
  {
   "cell_type": "markdown",
   "metadata": {},
   "source": [
    "# Resources\n",
    "\n",
    "* PINES paper: Herringer, Nicholas SM; Dasetty, Siva; Gandhi, Diya; Lee, Junhee; Ferguson, Andrew L. \"Permutationally Invariant Networks for Enhanced Sampling (PINES): Discovery of Multi-Molecular and Solvent-Inclusive Collective Variables.\" Journal of Chemical Theory and Computation 2024 20 (1), 178-198. [link](https://pubs.acs.org/doi/10.1021/acs.jctc.3c00923)\n",
    "\n",
    "* [GitHub repo](https://github.com/Ferg-Lab/pines)\n",
    "\n",
    "* [List of input parameters](https://github.com/Ferg-Lab/pines/blob/main/parameters.md)"
   ]
  }
 ],
 "metadata": {
  "kernelspec": {
   "display_name": "Python 3 (ipykernel)",
   "language": "python",
   "name": "python3"
  },
  "language_info": {
   "codemirror_mode": {
    "name": "ipython",
    "version": 3
   },
   "file_extension": ".py",
   "mimetype": "text/x-python",
   "name": "python",
   "nbconvert_exporter": "python",
   "pygments_lexer": "ipython3",
   "version": "3.11.8"
  }
 },
 "nbformat": 4,
 "nbformat_minor": 2
}
